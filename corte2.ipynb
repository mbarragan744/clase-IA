{
  "nbformat": 4,
  "nbformat_minor": 0,
  "metadata": {
    "colab": {
      "provenance": [],
      "authorship_tag": "ABX9TyM156GPXp8l0wKVwaDP9Vf/",
      "include_colab_link": true
    },
    "kernelspec": {
      "name": "python3",
      "display_name": "Python 3"
    },
    "language_info": {
      "name": "python"
    }
  },
  "cells": [
    {
      "cell_type": "markdown",
      "metadata": {
        "id": "view-in-github",
        "colab_type": "text"
      },
      "source": [
        "<a href=\"https://colab.research.google.com/github/mbarragan744/clase-IA/blob/main/corte2.ipynb\" target=\"_parent\"><img src=\"https://colab.research.google.com/assets/colab-badge.svg\" alt=\"Open In Colab\"/></a>"
      ]
    },
    {
      "cell_type": "markdown",
      "source": [
        "##<font color=\"red\">KNN"
      ],
      "metadata": {
        "id": "yO0jzXHQTjwM"
      }
    },
    {
      "cell_type": "markdown",
      "source": [
        "TAMBIEN LLAMADA MODELO LAZY, porque como tal no es un modelo sino un calculo de distancias\n",
        "\n",
        "Algoritmo de clasificacion supervisada que se basa en la distancia entre los puntos (vecinos cercanos)\n",
        "\n",
        "Memoriza el conjunto de entrenamiento completo y realiza predicciones basandose en una comparacion directa de la proximidad entre los puntos de prueba y los puntos de entrenamiento.\n",
        "\n",
        "Distancias que se pueden usar:\n",
        "1. Euclidiana (mas común)\n",
        "2. Manhattan\n",
        "3. Minkowski\n",
        "\n",
        "#<font color=\"red\">Ventajas y Desventajas\n",
        "\n",
        "**Ventajas:**\n",
        "\n",
        "* Simplicidad: Es fácil de entender e implementar.\n",
        "\n",
        "* No paramétrico: No requiere suposiciones sobre la distribución de los datos, lo que lo hace adecuado para problemas donde no se conocen las distribuciones.\n",
        "\n",
        "* Eficaz para problemas de clasificación pequeños o moderados: Funciona bien cuando hay un conjunto de datos pequeño y bien distribuido.\n",
        "\n",
        "**Desventajas:**\n",
        "\n",
        "* Alto costo computacional: A medida que crece el tamaño del conjunto de datos, el tiempo de predicción aumenta, ya que debe calcularse la distancia entre el punto de prueba y todos los puntos de entrenamiento.\n",
        "\n",
        "* Dependencia de la elección de K: El rendimiento del modelo depende de la elección de \"K\" (el número de vecinos). Un valor muy bajo puede resultar en sobreajuste, mientras que un valor muy alto puede llevar a un modelo subajustado.\n",
        "\n",
        "* Sensibilidad a los valores atípicos: Los valores atípicos pueden afectar negativamente las predicciones si no se manejan adecuadamente.\n",
        "\n",
        "\n",
        "\n",
        "<font color=\"red\">Es obligatorio normalizar los datos, manejo de outlier, manejo de codificacion\n",
        "\n",
        "k->numero de features\n"
      ],
      "metadata": {
        "id": "RURPZTAMUEii"
      }
    },
    {
      "cell_type": "markdown",
      "source": [
        "##<font color=\"red\">CLASIFICACION DE KNN\n",
        "\n",
        "PASOS A SEGUIR:\n",
        "\n"
      ],
      "metadata": {
        "id": "hovUY8jFW5HJ"
      }
    }
  ]
}