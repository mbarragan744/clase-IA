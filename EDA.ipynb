{
  "nbformat": 4,
  "nbformat_minor": 0,
  "metadata": {
    "colab": {
      "provenance": [],
      "include_colab_link": true
    },
    "kernelspec": {
      "name": "python3",
      "display_name": "Python 3"
    },
    "language_info": {
      "name": "python"
    }
  },
  "cells": [
    {
      "cell_type": "markdown",
      "metadata": {
        "id": "view-in-github",
        "colab_type": "text"
      },
      "source": [
        "<a href=\"https://colab.research.google.com/github/mbarragan744/clase-IA/blob/main/EDA.ipynb\" target=\"_parent\"><img src=\"https://colab.research.google.com/assets/colab-badge.svg\" alt=\"Open In Colab\"/></a>"
      ]
    },
    {
      "cell_type": "markdown",
      "source": [
        "# CUADERNO DE PRACTICAS DE TIPOS DE DATOS\n",
        "\n",
        "**dataframe:** estructuras de datos de dos dimensiones (rectangulares) que pueden contener datos de diferentes tipos, por lo tanto, son heterogéneas"
      ],
      "metadata": {
        "id": "IujSBZ2DTLrP"
      }
    },
    {
      "cell_type": "code",
      "source": [
        "import pandas as pd\n",
        "import numpy as np\n"
      ],
      "metadata": {
        "id": "vWXU8GuYTO4d"
      },
      "execution_count": null,
      "outputs": []
    },
    {
      "cell_type": "code",
      "source": [
        "# prompt: crear un dataframe df cargando en https://raw.githubusercontent.com/adiacla/bigdata/refs/heads/master/vivienda_clasificacion.csv\n",
        "\n",
        "import pandas as pd\n",
        "import matplotlib.pyplot as plt\n",
        "import numpy as np\n",
        "\n",
        "url = 'https://raw.githubusercontent.com/adiacla/bigdata/refs/heads/master/vivienda_clasificacion.csv'\n",
        "df = pd.read_csv('https://raw.githubusercontent.com/adiacla/bigdata/refs/heads/master/vivienda_clasificacion.csv')\n",
        "df\n"
      ],
      "metadata": {
        "id": "rRn2y4ZkUZil"
      },
      "execution_count": null,
      "outputs": []
    },
    {
      "cell_type": "code",
      "source": [],
      "metadata": {
        "id": "yCAs-dDP91EB"
      },
      "execution_count": null,
      "outputs": []
    },
    {
      "cell_type": "code",
      "source": [
        "\n",
        "\n",
        "# Count the occurrences of each room type\n",
        "room_counts = df['habitaciones'].value_counts()\n",
        "\n",
        "# Create the bar plot\n",
        "plt.figure(figsize=(10, 6))  # Adjust figure size if needed\n",
        "plt.bar(room_counts.index, room_counts.values)\n",
        "plt.xlabel(\"Frecuencia de habitaciones\")\n",
        "plt.ylabel(\"Frecuencia-Cantidad\")\n",
        "plt.title(\"Distribución de habitaciones de las viviendas\")\n",
        "plt.xticks(room_counts.index) # Ensure all room counts are displayed on x-axis\n",
        "plt.show()\n"
      ],
      "metadata": {
        "id": "FpbgMoBvYXMr"
      },
      "execution_count": null,
      "outputs": []
    },
    {
      "cell_type": "code",
      "source": [
        "df['habitaciones'].value_counts()"
      ],
      "metadata": {
        "id": "ZRjf47apZg2C"
      },
      "execution_count": null,
      "outputs": []
    },
    {
      "cell_type": "code",
      "source": [
        "df.size, df.shape"
      ],
      "metadata": {
        "id": "jWwu6wAbZxw4"
      },
      "execution_count": null,
      "outputs": []
    },
    {
      "cell_type": "code",
      "source": [
        "df.info()"
      ],
      "metadata": {
        "id": "Lyxd_ZIfaIRR"
      },
      "execution_count": null,
      "outputs": []
    },
    {
      "cell_type": "code",
      "source": [
        "# prompt: cual es el promedio de habitacion entre todas las casas (por medio de codigo)\n",
        "\n",
        "# Calculate the average number of rooms\n",
        "average_rooms = df['habitaciones'].mean()\n",
        "\n",
        "print(f\"The average number of rooms across all houses is: {average_rooms}\")\n"
      ],
      "metadata": {
        "id": "YjcomY1IaxcX"
      },
      "execution_count": null,
      "outputs": []
    },
    {
      "cell_type": "code",
      "source": [
        "df.habitaciones.median()"
      ],
      "metadata": {
        "id": "ugicU0uJbdnJ"
      },
      "execution_count": null,
      "outputs": []
    },
    {
      "cell_type": "code",
      "source": [
        "df.describe()"
      ],
      "metadata": {
        "id": "E0dmjlqKbzrP"
      },
      "execution_count": null,
      "outputs": []
    },
    {
      "cell_type": "code",
      "source": [
        "# prompt: dame la caja de bigotes de Area_parqeo\n",
        "\n",
        "import pandas as pd\n",
        "import matplotlib.pyplot as plt\n",
        "\n",
        "# Assuming 'Area_parqeo' is a column in your DataFrame 'df'\n",
        "# If not, replace 'Area_parqeo' with the actual column name\n",
        "\n",
        "plt.figure(figsize=(8, 6))\n",
        "df.boxplot(column=['Area_parqeo'])\n",
        "plt.title('Boxplot of Area_parqeo')\n",
        "plt.ylabel('Area_parqeo')\n",
        "plt.show()\n"
      ],
      "metadata": {
        "id": "gVkfbbyIca52"
      },
      "execution_count": null,
      "outputs": []
    },
    {
      "cell_type": "markdown",
      "source": [
        "**Outlier:** datos anormales.\n",
        "\n",
        "En estadística, tales como muestras estratificadas, un valor atípico (en inglés outlier) es una observación que es numéricamente distante del resto de los datos."
      ],
      "metadata": {
        "id": "Kf0_NoGSdJh3"
      }
    },
    {
      "cell_type": "code",
      "source": [
        "# prompt: borrar todos los registros que sean superior a 31 en Area_parqeo y dejarlo en el mismo df\n",
        "\n",
        "import pandas as pd\n",
        "import numpy as np\n",
        "import matplotlib.pyplot as plt\n",
        "\n",
        "url = 'https://raw.githubusercontent.com/adiacla/bigdata/refs/heads/master/vivienda_clasificacion.csv'\n",
        "df = pd.read_csv('https://raw.githubusercontent.com/adiacla/bigdata/refs/heads/master/vivienda_clasificacion.csv')\n",
        "\n",
        "# Filter out rows where 'Area_parqeo' is greater than 31\n",
        "df = df[df['Area_parqeo'] <= 31]\n"
      ],
      "metadata": {
        "id": "4GQDZ2Vif39b"
      },
      "execution_count": null,
      "outputs": []
    },
    {
      "cell_type": "code",
      "source": [
        "plt.figure(figsize=(8, 6))\n",
        "df.boxplot(column=['Area_parqeo'])\n",
        "plt.title('Boxplot of Area_parqeo')\n",
        "plt.ylabel('Area_parqeo')\n",
        "plt.show()"
      ],
      "metadata": {
        "id": "NcpVPKsXgkRL"
      },
      "execution_count": null,
      "outputs": []
    },
    {
      "cell_type": "code",
      "source": [
        "df.shape"
      ],
      "metadata": {
        "id": "dtYAke6vgnbz"
      },
      "execution_count": null,
      "outputs": []
    },
    {
      "cell_type": "code",
      "source": [
        "df.isnull().sum()"
      ],
      "metadata": {
        "id": "v8CFbEs3grhj"
      },
      "execution_count": null,
      "outputs": []
    },
    {
      "cell_type": "markdown",
      "source": [
        "Los libros de donde el profesor se va guiando estan es el teams, en archivos, Documentos/General/Notebooks/CuadernosCurso"
      ],
      "metadata": {
        "id": "5GuDRe6VOBXQ"
      }
    },
    {
      "cell_type": "markdown",
      "source": [
        "los datos unicos no son importantes,por lo que su columna se puede eliminar.\n",
        "\n",
        "datos inventados-> sinteticos\n",
        "\n",
        "el describe ayuda a tener balanceada la data\n",
        "df.describe(include=\"object\")\n",
        "\n"
      ],
      "metadata": {
        "id": "iJiP8bwCQYlO"
      }
    },
    {
      "cell_type": "code",
      "source": [
        "import pandas as pd\n",
        "import numpy as np\n",
        "\n",
        "# Crear un dataset simulado\n",
        "np.random.seed(42)\n",
        "data = {\n",
        "    \"Estudiante\": [f\"E{i}\" for i in range(1, 21)],\n",
        "    \"Edad\": np.random.randint(18, 25, size=20),\n",
        "    \"Género\": np.random.choice([\"Femenino\", \"Masculino\"], size=20),\n",
        "    \"Nota_Matemáticas\": np.random.normal(70, 10, size=20).round(1),\n",
        "    \"Nota_Ciencias\": np.random.normal(75, 12, size=20).round(1),\n",
        "    \"Nota_Inglés\": np.random.normal(65, 15, size=20).round(1),\n",
        "}\n"
      ],
      "metadata": {
        "id": "ul23s7-YRiCm"
      },
      "execution_count": null,
      "outputs": []
    },
    {
      "cell_type": "code",
      "source": [
        "type(data)"
      ],
      "metadata": {
        "id": "-i2wCI6LRnKV"
      },
      "execution_count": null,
      "outputs": []
    },
    {
      "cell_type": "code",
      "source": [
        "df = pd.DataFrame(data)\n",
        "\n",
        "# Mostrar el dataset\n",
        "df.head()"
      ],
      "metadata": {
        "id": "C1avRd1fRpH2"
      },
      "execution_count": null,
      "outputs": []
    },
    {
      "cell_type": "code",
      "source": [
        "df.dtypes"
      ],
      "metadata": {
        "id": "EXNxi92jRs7W"
      },
      "execution_count": null,
      "outputs": []
    },
    {
      "cell_type": "code",
      "source": [
        "# Descripción estadística\n",
        "print(\"Descripción estadística:\")\n",
        "print(df.describe())"
      ],
      "metadata": {
        "id": "cjFEwciYRvBX"
      },
      "execution_count": null,
      "outputs": []
    },
    {
      "cell_type": "code",
      "source": [
        "df.describe(include=\"object\")"
      ],
      "metadata": {
        "id": "52cnU3knRw02"
      },
      "execution_count": null,
      "outputs": []
    },
    {
      "cell_type": "code",
      "source": [
        "df[\"Género\"].value_counts()"
      ],
      "metadata": {
        "id": "6V0K1QYFR0FN"
      },
      "execution_count": null,
      "outputs": []
    },
    {
      "cell_type": "code",
      "source": [
        "df.Género.unique()"
      ],
      "metadata": {
        "id": "dk-uKHUSR4ju"
      },
      "execution_count": null,
      "outputs": []
    },
    {
      "cell_type": "markdown",
      "source": [
        "muestra la cardinalidad, los diferentes valores unicos que puede tomar un feature\n",
        "\n",
        "\n",
        "en PYTHON CHARTS aparecen ls librerias que se pueden usar y paletas de colores"
      ],
      "metadata": {
        "id": "q0Qr4rgPSCI1"
      }
    },
    {
      "cell_type": "code",
      "source": [
        "import seaborn as sns\n",
        "import matplotlib.pyplot as plt\n",
        "\n",
        "# Histograma de edades\n",
        "sns.histplot(df['Edad'], bins=6, kde=True, color='skyblue')\n",
        "plt.title(\"Distribución de Edad\")\n",
        "plt.show()\n",
        "\n",
        "# Gráfico de dispersión: Nota_Matemáticas vs Nota_Ciencias\n",
        "sns.scatterplot(x=\"Nota_Matemáticas\", y=\"Nota_Ciencias\", hue=\"Género\", data=df)\n",
        "plt.title(\"Relación entre Matemáticas y Ciencias\")\n",
        "plt.show()\n",
        "\n",
        "# Boxplot de notas por género\n",
        "sns.boxplot(x=\"Género\", y=\"Nota_Matemáticas\", data=df)\n",
        "plt.title(\"Distribución de Notas de Matemáticas por Género\")\n",
        "plt.show()"
      ],
      "metadata": {
        "id": "LnJjK_qDTS6E"
      },
      "execution_count": null,
      "outputs": []
    },
    {
      "cell_type": "markdown",
      "source": [
        "en colab, el plt.show abre ventana con los datos, pero se debe poner uno por grafica para que no salgan uno encima de otro.\n",
        "\n",
        "tomar en cuenta la coleracion causa-efecto\n",
        "correlacion espuria: vinculo aparente entre dos eventos que se demuestren invalido, es decir, no tienen nada que ver. ejemplo: vehiculos japoneses vendidos y suicidios por choque vehicular\n",
        "\n",
        "outliers: datos anomalos\n",
        "curtosis:mide la altitud o agudeza de los picos de una distribucion de probabilidad.\n",
        "\n",
        "tipos:\n",
        "\n",
        "mesocurtica- no tiene picos extremos ni colas mas gruesas, tiene un valor cercano a 3\n",
        "\n",
        "leptocurtica- tiene un pico mas alto y colas mas delgadas. la curtosis es mayor a 3\n",
        "\n",
        "platicurtica: la distribucion tiene un pico mas bajo y colas mas gruesas, es mas \"achatada\". la curtosis es menor a 3\n",
        "\n",
        "\n",
        "asimetria:"
      ],
      "metadata": {
        "id": "j5U5Wd3DTuS0"
      }
    },
    {
      "cell_type": "code",
      "source": [
        "import pandas as pd\n",
        "import numpy as np\n",
        "\n",
        "# Crear un dataset simulado\n",
        "np.random.seed(42)\n",
        "data = {\n",
        "    \"Estudiante\": [f\"E{i}\" for i in range(1, 21)],\n",
        "    \"Edad\": np.random.randint(18, 25, size=20),\n",
        "    \"Género\": np.random.choice([\"Femenino\", \"Masculino\"], size=20),\n",
        "    \"Nota_Matemáticas\": np.random.normal(70, 10, size=20).round(1),\n",
        "    \"Nota_Ciencias\": np.random.normal(75, 12, size=20).round(1),\n",
        "    \"Nota_Inglés\": np.random.normal(65, 15, size=20).round(1),\n",
        "}\n",
        "df = pd.DataFrame(data)\n",
        "df"
      ],
      "metadata": {
        "id": "ePLjw6b2XkNw"
      },
      "execution_count": null,
      "outputs": []
    },
    {
      "cell_type": "code",
      "source": [
        "# Valores únicos de \"Edad\"\n",
        "valores_unicos_edad = df[\"Edad\"].unique()\n",
        "cantidad_unica_edad = df[\"Edad\"].nunique()\n",
        "\n",
        "print(f\"Valores únicos en 'Edad': {valores_unicos_edad}\")\n",
        "print(f\"Cantidad de valores únicos en 'Edad': {cantidad_unica_edad}\")"
      ],
      "metadata": {
        "id": "hXujtvWsZFFP"
      },
      "execution_count": null,
      "outputs": []
    },
    {
      "cell_type": "code",
      "source": [
        "df[df['Edad']>21].iloc[:,[0,5]]\n",
        "#mostrar a los estuantes mayores de 21 años y las notas de ingles\n"
      ],
      "metadata": {
        "id": "YTxWJtD6ZN0I"
      },
      "execution_count": null,
      "outputs": []
    },
    {
      "cell_type": "code",
      "source": [
        "# Conteo de edades\n",
        "edad_counts = df[\"Edad\"].value_counts()\n",
        "edad_counts"
      ],
      "metadata": {
        "id": "uYmV7QwUaLwn"
      },
      "execution_count": null,
      "outputs": []
    },
    {
      "cell_type": "code",
      "source": [
        "sns.barplot(x=edad_counts.index, y=edad_counts.values, palette=\"muted\")\n",
        "plt.title(\"Frecuencia de Edades\")\n",
        "plt.xlabel(\"Edad\")\n",
        "plt.ylabel(\"Frecuencia\")\n",
        "plt.show()"
      ],
      "metadata": {
        "id": "E-pBOaY8a0SO"
      },
      "execution_count": null,
      "outputs": []
    },
    {
      "cell_type": "code",
      "source": [
        "# Crear boxplots para las tres asignaturas\n",
        "sns.boxplot(data=df[[\"Nota_Matemáticas\", \"Nota_Ciencias\", \"Nota_Inglés\"]], palette=\"coolwarm\")\n",
        "plt.title(\"Resumen de Notas\")\n",
        "plt.xlabel(\"Asignaturas\")\n",
        "plt.ylabel(\"Calificaciones\")\n",
        "plt.show()\n"
      ],
      "metadata": {
        "id": "3g1aJoSCcxQU"
      },
      "execution_count": null,
      "outputs": []
    },
    {
      "cell_type": "code",
      "source": [
        "# prompt: modificar el valor del estudiante de la fila 9, es E10 , y la nota_ciencias es 100\n",
        "df.loc[df.index[9], 'Nota_Ciencias'] = 100\n",
        "\n",
        "df.iloc[9]\n"
      ],
      "metadata": {
        "id": "VJh05krIcWQd"
      },
      "execution_count": null,
      "outputs": []
    },
    {
      "cell_type": "code",
      "source": [
        "print(\"Información del dataset:\")\n",
        "print(df.info())"
      ],
      "metadata": {
        "id": "M4Txsdgic22F"
      },
      "execution_count": null,
      "outputs": []
    },
    {
      "cell_type": "code",
      "source": [
        "valores_nulos = df.isnull().sum()\n",
        "\n",
        "print(\"Valores nulos por columna:\")\n",
        "print(valores_nulos)"
      ],
      "metadata": {
        "id": "RV2neziSeeJs"
      },
      "execution_count": null,
      "outputs": []
    },
    {
      "cell_type": "code",
      "source": [
        "promedios_por_genero = df.groupby(\"Género\")[[\"Nota_Matemáticas\", \"Nota_Ciencias\", \"Nota_Inglés\"]].mean()\n",
        "\n",
        "print(\"Promedio de notas por género:\")\n",
        "print(promedios_por_genero)"
      ],
      "metadata": {
        "id": "YeC5OIhje4nL"
      },
      "execution_count": null,
      "outputs": []
    },
    {
      "cell_type": "code",
      "source": [
        "# Gráfico de barras apiladas para promedios por género\n",
        "promedios_por_genero.plot(kind=\"bar\", figsize=(8, 5), colormap=\"viridis\")\n",
        "plt.title(\"Promedio de Notas por Género\")\n",
        "plt.xlabel(\"Género\")\n",
        "plt.ylabel(\"Promedio\")\n",
        "plt.legend(title=\"Asignatura\")\n",
        "plt.show()\n"
      ],
      "metadata": {
        "id": "mI2Ldl3vfL9y"
      },
      "execution_count": null,
      "outputs": []
    },
    {
      "cell_type": "code",
      "source": [
        "# Seleccionar variables numéricas (int y float)\n",
        "variables_numericas = df.select_dtypes(include=[\"int\", \"float\"])\n",
        "\n",
        "# Calcular la matriz de correlación\n",
        "correlaciones = variables_numericas.corr()\n",
        "\n",
        "# Imprimir la matriz de correlación\n",
        "print(\"Matriz de correlación:\")\n",
        "print(correlaciones)"
      ],
      "metadata": {
        "id": "mFECloYXflts"
      },
      "execution_count": null,
      "outputs": []
    },
    {
      "cell_type": "markdown",
      "source": [
        "correlacion\n",
        "\n",
        "igual a 1-> hay correlacion\n",
        "igual a -1-> hay correlacion inversa\n",
        "igual a 0-> no hay correlacion\n",
        "igual a 0.5 o -0.5-> hay baja correlacion\n",
        "\n",
        "cuando la correlacion supera el 80% o 0.8, una de las variables se borra, con la escepcion de que el dueño del conocimiento no la deje borrar. se quita la que menor varianza tenga\n",
        "\n",
        "\n",
        "\n"
      ],
      "metadata": {
        "id": "mzseM4Lbfv5a"
      }
    },
    {
      "cell_type": "code",
      "source": [
        "import pandas as pd\n",
        "import seaborn as sns\n",
        "import matplotlib.pyplot as plt\n",
        "\n",
        "# Crear un dataset simulado (asegúrate de tener este paso antes si no lo tienes)\n",
        "np.random.seed(42)\n",
        "data = {\n",
        "    \"Estudiante\": [f\"E{i}\" for i in range(1, 21)],\n",
        "    \"Edad\": np.random.randint(18, 25, size=20),\n",
        "    \"Género\": np.random.choice([\"Femenino\", \"Masculino\"], size=20),\n",
        "    \"Nota_Matemáticas\": np.random.normal(70, 10, size=20).round(1),\n",
        "    \"Nota_Ciencias\": np.random.normal(75, 12, size=20).round(1),\n",
        "    \"Nota_Inglés\": np.random.normal(65, 15, size=20).round(1),\n",
        "}\n",
        "df = pd.DataFrame(data)\n",
        "\n",
        "# Seleccionar solo las variables numéricas (int y float)\n",
        "variables_numericas = df.select_dtypes(include=[\"int\", \"float\"])\n",
        "\n",
        "# Calcular la matriz de correlación\n",
        "correlaciones = variables_numericas.corr()\n",
        "\n",
        "# Crear el mapa de calor\n",
        "sns.heatmap(correlaciones, annot=True, cmap=\"coolwarm\", fmt=\".2f\")\n",
        "\n",
        "# Añadir título al gráfico\n",
        "plt.title(\"Mapa de Calor de Correlaciones\")\n",
        "\n",
        "# Mostrar el gráfico\n",
        "plt.show()"
      ],
      "metadata": {
        "id": "XPoB1J94gvZ6"
      },
      "execution_count": null,
      "outputs": []
    },
    {
      "cell_type": "code",
      "source": [
        "# Añadir columna indicando si aprobó matemáticas (nota >= 60)\n",
        "df[\"Aprobado_Matemáticas\"] = df[\"Nota_Matemáticas\"].apply(lambda x: \"Sí\" if x >= 60 else \"No\")\n",
        "\n",
        "# Conteo de aprobaciones\n",
        "aprobaciones = df[\"Aprobado_Matemáticas\"].value_counts()\n",
        "\n",
        "print(\"Conteo de aprobaciones en matemáticas:\")\n",
        "print(aprobaciones)"
      ],
      "metadata": {
        "id": "QD4bX8k-g7_6"
      },
      "execution_count": null,
      "outputs": []
    },
    {
      "cell_type": "code",
      "source": [
        "# Gráfico circular para aprobaciones\n",
        "aprobaciones.plot(kind=\"pie\", autopct=\"%1.1f%%\", colors=[\"lightgreen\", \"salmon\"], startangle=90)\n",
        "plt.title(\"Porcentaje de Aprobaciones en Matemáticas\")\n",
        "plt.ylabel(\"\")  # Ocultar el label del eje Y\n",
        "plt.show()\n",
        "#se utiliza Pandas para mostrar la grafica"
      ],
      "metadata": {
        "id": "FBH5ttTEg-bC"
      },
      "execution_count": null,
      "outputs": []
    },
    {
      "cell_type": "code",
      "source": [
        "# prompt: crear un dataframe que lea el siguiente link https://raw.githubusercontent.com/adiacla/bigdata/refs/heads/master/Valor_vivienda y me lo muestre en una sola tabla\n",
        "\n",
        "import pandas as pd\n",
        "\n",
        "url = 'https://raw.githubusercontent.com/adiacla/bigdata/refs/heads/master/Valor_vivienda'\n",
        "df = pd.read_csv(url)\n",
        "df.head()\n"
      ],
      "metadata": {
        "id": "TKGS8dcuhfUx"
      },
      "execution_count": null,
      "outputs": []
    },
    {
      "cell_type": "code",
      "source": [
        "df.dtypes"
      ],
      "metadata": {
        "id": "wf5u2CGnjnkS"
      },
      "execution_count": null,
      "outputs": []
    },
    {
      "cell_type": "code",
      "source": [
        "# prompt: contar la cantidad de datos del df\n",
        "\n",
        "# Get the number of rows and columns\n",
        "rows, cols = df.shape\n",
        "print(f\"Number of rows: {rows}\")\n",
        "print(f\"Number of columns: {cols}\")\n",
        "\n",
        "# Total number of data points\n",
        "total_data_points = df.size\n",
        "print(f\"Total number of data points: {total_data_points}\")\n"
      ],
      "metadata": {
        "id": "OTQq7lYjk2YW"
      },
      "execution_count": null,
      "outputs": []
    },
    {
      "cell_type": "code",
      "source": [
        "# prompt: generame graficos para cada columna, una grafica boxplots\n",
        "\n",
        "# Assuming 'df' is your DataFrame and it contains numerical columns like 'Nota_Matemáticas', 'Nota_Ciencias', 'Nota_Inglés', etc.\n",
        "\n",
        "import matplotlib.pyplot as plt\n",
        "import seaborn as sns\n",
        "\n",
        "# Iterate through numerical columns and create boxplots\n",
        "for col in df.select_dtypes(include=['number']): # Select only numerical columns\n",
        "    plt.figure(figsize=(8, 6))  # Adjust figure size if needed\n",
        "    sns.boxplot(y=df[col])  # Use Seaborn for better aesthetics\n",
        "    plt.title(f'Boxplot of {col}')\n",
        "    plt.ylabel(col)\n",
        "    plt.show()\n"
      ],
      "metadata": {
        "collapsed": true,
        "id": "6LVG9IWgk_4m"
      },
      "execution_count": null,
      "outputs": []
    },
    {
      "cell_type": "code",
      "source": [
        "import pandas as pd\n",
        "import numpy as np\n",
        "\n",
        "# Crear un dataset simulado\n",
        "np.random.seed(42)\n",
        "data = {\n",
        "    \"Estudiante\": [f\"E{i}\" for i in range(1, 21)],\n",
        "    \"Edad\": np.random.randint(18, 25, size=20),\n",
        "    \"Género\": np.random.choice([\"Femenino\", \"Masculino\"], size=20),\n",
        "    \"Nota_Matemáticas\": np.random.normal(70, 10, size=20).round(1),\n",
        "    \"Nota_Ciencias\": np.random.normal(75, 12, size=20).round(1),\n",
        "    \"Nota_Inglés\": np.random.normal(65, 15, size=20).round(1),\n",
        "}\n",
        "df = pd.DataFrame(data)\n",
        "df"
      ],
      "metadata": {
        "id": "rKyEfSzu-N9w"
      },
      "execution_count": null,
      "outputs": []
    },
    {
      "cell_type": "code",
      "source": [
        "print(\"Información del dataset:\")\n",
        "print(df.info())"
      ],
      "metadata": {
        "id": "a7shEQF_-f0Y"
      },
      "execution_count": null,
      "outputs": []
    },
    {
      "cell_type": "code",
      "source": [
        "df.loc[df.index[5], 'Nota_Ciencias'] = np.nan\n"
      ],
      "metadata": {
        "id": "ouhUvP5--g8Q"
      },
      "execution_count": null,
      "outputs": []
    },
    {
      "cell_type": "markdown",
      "source": [
        "si por casualidad la columna era tipo objeto\n",
        "cuando exista mas del 30% de nulos en un feature hay que quitarla"
      ],
      "metadata": {
        "id": "scl0jVgI-jdX"
      }
    },
    {
      "cell_type": "code",
      "source": [
        "df.isnull()"
      ],
      "metadata": {
        "id": "v5C782NFBZ7Q"
      },
      "execution_count": null,
      "outputs": []
    },
    {
      "cell_type": "code",
      "source": [
        "valores_nulos = df.isnull().sum()\n",
        "\n",
        "print(\"Valores nulos por columna:\")\n",
        "print(valores_nulos)"
      ],
      "metadata": {
        "id": "77E0kKOPBdKw"
      },
      "execution_count": null,
      "outputs": []
    },
    {
      "cell_type": "code",
      "source": [
        "df[df.Nota_Ciencias.isnull()]"
      ],
      "metadata": {
        "id": "EicthyvoBkV4"
      },
      "execution_count": null,
      "outputs": []
    },
    {
      "cell_type": "code",
      "source": [
        "# prompt: mostrar la tabla de df.loc[df.index[4], 'Nota_Ciencias'] = df.Nota_Ciencias.median()\n",
        "\n",
        "df.loc[df.index[4], 'Nota_Ciencias'] = df.Nota_Ciencias.median()\n",
        "print(df.loc[df.index[4], 'Nota_Ciencias'])\n"
      ],
      "metadata": {
        "id": "WpqArGtfEIVi"
      },
      "execution_count": null,
      "outputs": []
    },
    {
      "cell_type": "code",
      "source": [
        "valores_nulos = df.isnull().sum()\n",
        "\n",
        "print(\"Valores nulos por columna:\")\n",
        "print(valores_nulos)\n"
      ],
      "metadata": {
        "id": "fbFUyuPRC4AB"
      },
      "execution_count": null,
      "outputs": []
    },
    {
      "cell_type": "markdown",
      "source": [
        "##AGRUPACION\n",
        "el mean se cambia por max para saber la  mayor nota\n"
      ],
      "metadata": {
        "id": "yPCNNhuLEkkR"
      }
    },
    {
      "cell_type": "code",
      "source": [
        "promedios_por_genero = df.groupby(\"Género\")[[\"Nota_Matemáticas\", \"Nota_Ciencias\", \"Nota_Inglés\"]].mean()\n",
        "\n",
        "print(\"Promedio de notas por género:\")\n",
        "print(promedios_por_genero)\n"
      ],
      "metadata": {
        "id": "83uhV1MfEwmZ"
      },
      "execution_count": null,
      "outputs": []
    },
    {
      "cell_type": "code",
      "source": [
        "# prompt: Cual fue la nota de los estudiantes mas destacados en cada materia\n",
        "\n",
        "# Assuming 'df' is your DataFrame with student data.\n",
        "# Find the maximum grade for each subject.\n",
        "max_math_grade = df['Nota_Matemáticas'].max()\n",
        "max_science_grade = df['Nota_Ciencias'].max()\n",
        "max_english_grade = df['Nota_Inglés'].max()\n",
        "\n",
        "print(f\"Nota máxima en matemáticas: {max_math_grade}\")\n",
        "print(f\"Nota máxima en ciencias: {max_science_grade}\")\n",
        "print(f\"Nota máxima en inglés: {max_english_grade}\")\n",
        "\n",
        "#To find the students who got those maximum grades you can use:\n",
        "#Students with the highest grade in math\n",
        "top_math_students = df[df['Nota_Matemáticas'] == max_math_grade]['Estudiante']\n",
        "print(f\"Estudiante(s) con la máxima nota en matemáticas: {', '.join(top_math_students.astype(str))}\")\n",
        "\n",
        "\n",
        "#Students with the highest grade in science\n",
        "top_science_students = df[df['Nota_Ciencias'] == max_science_grade]['Estudiante']\n",
        "print(f\"Estudiante(s) con la máxima nota en ciencias: {', '.join(top_science_students.astype(str))}\")\n",
        "\n",
        "#Students with the highest grade in english\n",
        "top_english_students = df[df['Nota_Inglés'] == max_english_grade]['Estudiante']\n",
        "print(f\"Estudiante(s) con la máxima nota en inglés: {', '.join(top_english_students.astype(str))}\")\n"
      ],
      "metadata": {
        "id": "9PKEDwwIFEsI"
      },
      "execution_count": null,
      "outputs": []
    },
    {
      "cell_type": "code",
      "source": [
        "# prompt: dime cual o cuales son los estudiantes que sacaron 100 en ciencias\n",
        "\n",
        "#  df[df['Nota_Ciencias']>83\n",
        "top_science_students = df[df['Nota_Ciencias'] == max_science_grade]['Estudiante']\n",
        "print(f\"Estudiante(s) con la máxima nota en ciencias: {', '.join(top_science_students.astype(str))}\")\n"
      ],
      "metadata": {
        "id": "xBRv35nJGSm6"
      },
      "execution_count": null,
      "outputs": []
    },
    {
      "cell_type": "code",
      "source": [
        "# prompt: ahora los estudiantes que sacaron mas de 83 en ciencias\n",
        "\n",
        "# Students who scored more than 83 in science\n",
        "science_students = df[df['Nota_Ciencias'] > 83]\n",
        "print(science_students[['Estudiante', 'Nota_Ciencias']])\n"
      ],
      "metadata": {
        "id": "X6M4AsicGl3R"
      },
      "execution_count": null,
      "outputs": []
    },
    {
      "cell_type": "code",
      "source": [
        "# prompt: ahora los estudiantes que sacaron mas de 83 y menos de 94\n",
        "science_students = df[(df['Nota_Ciencias'] > 83) & (df['Nota_Ciencias'] < 94)]\n",
        "print(science_students[['Estudiante', 'Nota_Ciencias']])\n"
      ],
      "metadata": {
        "id": "jFFEVZrHG1TZ"
      },
      "execution_count": null,
      "outputs": []
    },
    {
      "cell_type": "markdown",
      "source": [
        "##CORRELACION\n",
        "igual a 1-> hay correlacion\n",
        "\n",
        "igual a -1-> hay correlacion inversa\n",
        "\n",
        "igual a 0-> no hay correlacion\n",
        "\n",
        "igual a 0.5 o -0.5-> hay baja correlacion\n",
        "\n",
        "cuando la correlacion supera el 80% o 0.8, una de las variables se borra, con la escepcion de que el dueño del conocimiento no la deje borrar. se quita la que menor varianza tenga\n",
        "\n",
        "es lo mismo con los negativos (mayor a -0.80) se eliminan las de menor varianza"
      ],
      "metadata": {
        "id": "ghLs3g46HfCA"
      }
    },
    {
      "cell_type": "code",
      "source": [
        "# Seleccionar variables numéricas (int y float)\n",
        "variables_numericas = df.select_dtypes(include=[\"int\", \"float\"])\n",
        "\n",
        "# Calcular la matriz de correlación\n",
        "correlaciones = variables_numericas.corr()\n",
        "\n",
        "# Imprimir la matriz de correlación\n",
        "print(\"Matriz de correlación:\")\n",
        "print(correlaciones)\n"
      ],
      "metadata": {
        "id": "oi0MErFXKbET"
      },
      "execution_count": null,
      "outputs": []
    },
    {
      "cell_type": "code",
      "source": [
        "import pandas as pd\n",
        "import seaborn as sns\n",
        "import matplotlib.pyplot as plt\n",
        "\n",
        "# Crear un dataset simulado (asegúrate de tener este paso antes si no lo tienes)\n",
        "np.random.seed(42)\n",
        "data = {\n",
        "    \"Estudiante\": [f\"E{i}\" for i in range(1, 21)],\n",
        "    \"Edad\": np.random.randint(18, 25, size=20),\n",
        "    \"Género\": np.random.choice([\"Femenino\", \"Masculino\"], size=20),\n",
        "    \"Nota_Matemáticas\": np.random.normal(70, 10, size=20).round(1),\n",
        "    \"Nota_Ciencias\": np.random.normal(75, 12, size=20).round(1),\n",
        "    \"Nota_Inglés\": np.random.normal(65, 15, size=20).round(1),\n",
        "}\n",
        "df = pd.DataFrame(data)\n",
        "\n",
        "# Seleccionar solo las variables numéricas (int y float)\n",
        "variables_numericas = df.select_dtypes(include=[\"int\", \"float\"])\n",
        "\n",
        "# Calcular la matriz de correlación\n",
        "correlaciones = variables_numericas.corr()\n",
        "\n",
        "# Crear el mapa de calor\n",
        "sns.heatmap(correlaciones, annot=True, cmap=\"coolwarm\", fmt=\".2f\")\n",
        "\n",
        "# Añadir título al gráfico\n",
        "plt.title(\"Mapa de Calor de Correlaciones\")\n",
        "\n",
        "# Mostrar el gráfico\n",
        "plt.show()\n"
      ],
      "metadata": {
        "id": "BtZgrhTUL-Xz"
      },
      "execution_count": null,
      "outputs": []
    },
    {
      "cell_type": "code",
      "source": [
        "# Añadir columna indicando si aprobó matemáticas (nota >= 60)\n",
        "df[\"Aprobado_Matemáticas\"] = df[\"Nota_Matemáticas\"].apply(lambda x: \"Sí\" if x >= 60 else \"No\")\n",
        "\n",
        "# Conteo de aprobaciones\n",
        "aprobaciones = df[\"Aprobado_Matemáticas\"].value_counts()\n",
        "\n",
        "print(\"Conteo de aprobaciones en matemáticas:\")\n",
        "print(aprobaciones)\n"
      ],
      "metadata": {
        "id": "pryZUNjdNkbz"
      },
      "execution_count": null,
      "outputs": []
    },
    {
      "cell_type": "markdown",
      "source": [
        "dropna = para eliminar filas o columnas con valores nulos\n",
        "\n",
        "##IMPUTACION\n",
        "\n",
        "PARA IMPUTAR SE UTILIZA FILLNA"
      ],
      "metadata": {
        "id": "7wxfPRKrQ6z7"
      }
    },
    {
      "cell_type": "code",
      "source": [
        "import pandas as pd\n",
        "import numpy as np\n",
        "import seaborn as sns\n",
        "import matplotlib.pyplot as plt\n",
        "\n",
        "# Crear un dataset simulado\n",
        "data = {\n",
        "    \"Edad\": [23, np.nan, 21, np.nan, 25, 19, 18, 20, np.nan, 22],\n",
        "    \"Género\": [\"F\", \"M\", np.nan, \"M\", \"F\", \"F\", \"M\", np.nan, \"F\", \"M\"],\n",
        "    \"Calificación\": [85, np.nan, 78, 88, np.nan, 92, 75, 80, np.nan, 77],\n",
        "}\n",
        "df = pd.DataFrame(data)\n",
        "\n",
        "\n",
        "# Metodo para ver la sumatoria de nulos en el dataframe\n",
        "df.isnull().sum()"
      ],
      "metadata": {
        "id": "e6zSz02HRQq7"
      },
      "execution_count": null,
      "outputs": []
    },
    {
      "cell_type": "code",
      "source": [
        "# Mapa de calor para visualizar nulos\n",
        "sns.heatmap(df.isnull(), cbar=False, cmap=\"viridis\")\n",
        "plt.title(\"Mapa de Valores Nulos\")\n",
        "plt.show()"
      ],
      "metadata": {
        "id": "KLM_nBI7RYdj"
      },
      "execution_count": null,
      "outputs": []
    },
    {
      "cell_type": "code",
      "source": [
        "# Porcentaje de valores nulos por columna\n",
        "missing_percentage = df.isnull().mean() * 100\n",
        "print(missing_percentage)\n",
        "\n",
        "# Visualización del porcentaje de nulos\n",
        "missing_percentage.plot(kind='bar', title='Porcentaje de Nulos por Columna')\n",
        "plt.ylabel('Porcentaje')\n",
        "plt.show()"
      ],
      "metadata": {
        "id": "kE_K8vBJRafw"
      },
      "execution_count": null,
      "outputs": []
    },
    {
      "cell_type": "code",
      "source": [
        "# Rellenar valores nulos en \"Edad\" con la media\n",
        "df[\"Edad\"] = df[\"Edad\"].fillna(df[\"Edad\"].mean())\n",
        "\n",
        "# Rellenar valores nulos en \"Calificación\" con la mediana\n",
        "df[\"Calificación\"] = df[\"Calificación\"].fillna(df[\"Calificación\"].median())\n",
        "df"
      ],
      "metadata": {
        "id": "a53xpOX1Rdtb"
      },
      "execution_count": null,
      "outputs": []
    },
    {
      "cell_type": "code",
      "source": [
        "# Rellenar valores nulos en \"Género\" con la moda\n",
        "df[\"Género\"] = df[\"Género\"].fillna(df[\"Género\"].mode()[0])\n",
        "df"
      ],
      "metadata": {
        "id": "wNQGZUXRSDhr"
      },
      "execution_count": null,
      "outputs": []
    },
    {
      "cell_type": "code",
      "source": [
        "from sklearn.impute import SimpleImputer\n",
        "\n",
        "# Usar KNN para imputar valores en \"Calificación\"\n",
        "from sklearn.impute import KNNImputer\n",
        "imputer = KNNImputer(n_neighbors=2)\n",
        "df[[\"Calificación\"]] = imputer.fit_transform(df[[\"Calificación\"]])\n",
        "df"
      ],
      "metadata": {
        "id": "fM0pGoFZSUAz"
      },
      "execution_count": null,
      "outputs": []
    },
    {
      "cell_type": "code",
      "source": [
        "import pandas as pd\n",
        "import numpy as np\n",
        "import seaborn as sns\n",
        "import matplotlib.pyplot as plt\n",
        "\n",
        "# Crear un dataset simulado\n",
        "data = {\n",
        "    \"Edad\": [23, np.nan, 21, np.nan, 25, 19, 18, 20, np.nan, 22],\n",
        "    \"Género\": [\"F\", \"M\", np.nan, \"M\", \"F\", \"F\", \"M\", np.nan, \"F\", \"M\"],\n",
        "    \"Calificación\": [85, np.nan, 78, 88, np.nan, 92, 75, 80, np.nan, 77],\n",
        "}\n",
        "df = pd.DataFrame(data)\n",
        "\n",
        "dfc=df.copy()\n",
        "df\n"
      ],
      "metadata": {
        "id": "5QvRJgjKSjic"
      },
      "execution_count": null,
      "outputs": []
    },
    {
      "cell_type": "code",
      "source": [
        "dfc.isnull().sum()"
      ],
      "metadata": {
        "id": "FvsdPR3oTD57"
      },
      "execution_count": null,
      "outputs": []
    },
    {
      "cell_type": "code",
      "source": [
        "from sklearn.impute import SimpleImputer\n",
        "\n",
        "# Usar KNN para imputar valores en \"Calificación\"\n",
        "from sklearn.impute import KNNImputer\n",
        "imputer = KNNImputer(n_neighbors=2)\n",
        "dfc[[\"Calificación\"]] = imputer.fit_transform(dfc[[\"Calificación\"]])\n",
        "dfc"
      ],
      "metadata": {
        "id": "1BE1HRCETQ7b",
        "colab": {
          "base_uri": "https://localhost:8080/",
          "height": 203
        },
        "outputId": "ea1ce4c1-2240-4dde-9f69-8f150f46026d"
      },
      "execution_count": 1,
      "outputs": [
        {
          "output_type": "error",
          "ename": "NameError",
          "evalue": "name 'dfc' is not defined",
          "traceback": [
            "\u001b[0;31m---------------------------------------------------------------------------\u001b[0m",
            "\u001b[0;31mNameError\u001b[0m                                 Traceback (most recent call last)",
            "\u001b[0;32m<ipython-input-1-407a83343404>\u001b[0m in \u001b[0;36m<cell line: 0>\u001b[0;34m()\u001b[0m\n\u001b[1;32m      4\u001b[0m \u001b[0;32mfrom\u001b[0m \u001b[0msklearn\u001b[0m\u001b[0;34m.\u001b[0m\u001b[0mimpute\u001b[0m \u001b[0;32mimport\u001b[0m \u001b[0mKNNImputer\u001b[0m\u001b[0;34m\u001b[0m\u001b[0;34m\u001b[0m\u001b[0m\n\u001b[1;32m      5\u001b[0m \u001b[0mimputer\u001b[0m \u001b[0;34m=\u001b[0m \u001b[0mKNNImputer\u001b[0m\u001b[0;34m(\u001b[0m\u001b[0mn_neighbors\u001b[0m\u001b[0;34m=\u001b[0m\u001b[0;36m2\u001b[0m\u001b[0;34m)\u001b[0m\u001b[0;34m\u001b[0m\u001b[0;34m\u001b[0m\u001b[0m\n\u001b[0;32m----> 6\u001b[0;31m \u001b[0mdfc\u001b[0m\u001b[0;34m[\u001b[0m\u001b[0;34m[\u001b[0m\u001b[0;34m\"Calificación\"\u001b[0m\u001b[0;34m]\u001b[0m\u001b[0;34m]\u001b[0m \u001b[0;34m=\u001b[0m \u001b[0mimputer\u001b[0m\u001b[0;34m.\u001b[0m\u001b[0mfit_transform\u001b[0m\u001b[0;34m(\u001b[0m\u001b[0mdfc\u001b[0m\u001b[0;34m[\u001b[0m\u001b[0;34m[\u001b[0m\u001b[0;34m\"Calificación\"\u001b[0m\u001b[0;34m]\u001b[0m\u001b[0;34m]\u001b[0m\u001b[0;34m)\u001b[0m\u001b[0;34m\u001b[0m\u001b[0;34m\u001b[0m\u001b[0m\n\u001b[0m\u001b[1;32m      7\u001b[0m \u001b[0mdfc\u001b[0m\u001b[0;34m\u001b[0m\u001b[0;34m\u001b[0m\u001b[0m\n",
            "\u001b[0;31mNameError\u001b[0m: name 'dfc' is not defined"
          ]
        }
      ]
    },
    {
      "cell_type": "code",
      "source": [
        "# prompt: borrar la columna Edad\n",
        "dfc.drop('Edad', axis=1, inplace=True)\n",
        "dfc\n"
      ],
      "metadata": {
        "id": "dktVCq2fUFjT"
      },
      "execution_count": null,
      "outputs": []
    },
    {
      "cell_type": "code",
      "source": [
        "dfc.dropna(axis=0, inplace=True)\n",
        "dfc"
      ],
      "metadata": {
        "id": "xAa906yRUrCU"
      },
      "execution_count": null,
      "outputs": []
    },
    {
      "cell_type": "markdown",
      "source": [
        "con axis=0 elimina las columans con valores nulos"
      ],
      "metadata": {
        "id": "EOnFRFikU7Rs"
      }
    },
    {
      "cell_type": "markdown",
      "source": [
        "##MANEJO DE DATOS CATEGORICOS"
      ],
      "metadata": {
        "id": "OnymSLzWQcBw"
      }
    },
    {
      "cell_type": "markdown",
      "source": [
        "factores dummy-> variables artificiales\n",
        "\n",
        "se crean variables dependiendo de la cardinalidad de datos que tiene la tabla\n",
        "\n",
        "\n",
        "*-----------------------------------------------------------------------------------------------------------------------------------*\n",
        "\n",
        "se pasan categoricas a numericas para poder entrenarlo\n",
        "\n",
        "\n",
        "\n",
        "\n"
      ],
      "metadata": {
        "id": "nyYiL7bJSs2M"
      }
    },
    {
      "cell_type": "code",
      "source": [
        "import pandas as pd\n",
        "\n",
        "# Dataset simulado\n",
        "data = {\n",
        "    \"ID\": [1, 2, 3, 4, 5],\n",
        "    \"Ciudad\": [\"Madrid\", \"Barcelona\", \"Sevilla\", \"Madrid\", \"Valencia\"],  # Nominal\n",
        "    \"Educación\": [\"Secundaria\", \"Primaria\", \"Universitaria\", \"Primaria\", \"Universitaria\"],  # Ordinal\n",
        "    \"Género\": [\"F\", \"M\", \"F\", \"M\", \"F\"],  # Nominal\n",
        "}\n",
        "df = pd.DataFrame(data)\n",
        "print(\"Dataset original:\")\n",
        "print(df)\n"
      ],
      "metadata": {
        "id": "AT03EV0YVBVI"
      },
      "execution_count": null,
      "outputs": []
    },
    {
      "cell_type": "code",
      "source": [
        "import pandas as pd\n",
        "from sklearn.preprocessing import LabelEncoder\n",
        "from joblib import dump\n",
        "\n",
        "# Dataset simulado\n",
        "data = {\n",
        "    \"Género\": [\"M\", \"F\", \"F\", \"F\", \"F\", \"M\", \"M\", \"M\", \"M\"],\n",
        "    \"Edad\": [19, 19, 18, 20, 22, 21, 19, 19, 23],\n",
        "    \"Peso\": [80, 52, 55, 60, 62, 68, 72, 60, 68],\n",
        "    \"Altura\": [194, 160, 155, 165, 160, 176, 185, 178, 170],\n",
        "    \"Cabello\": [\"Corto\", \"Largo\", \"Largo\", \"Corto\", \"Largo\", \"Corto\", \"Corto\", \"Corto\", \"Corto\"],\n",
        "    \"Talla\": [45, 38, 35, 37, 36, 41, 41, 40, 40]\n",
        "}\n",
        "\n",
        "df = pd.DataFrame(data)\n",
        "\n",
        "# Mostrar el dataframe\n",
        "df\n"
      ],
      "metadata": {
        "id": "6qJ-1j2gCU4f",
        "outputId": "89ec8dc7-62c6-48a6-99d9-edd1b5d3abfd",
        "colab": {
          "base_uri": "https://localhost:8080/",
          "height": 332
        }
      },
      "execution_count": null,
      "outputs": [
        {
          "data": {
            "application/vnd.google.colaboratory.intrinsic+json": {
              "summary": "{\n  \"name\": \"df\",\n  \"rows\": 9,\n  \"fields\": [\n    {\n      \"column\": \"G\\u00e9nero\",\n      \"properties\": {\n        \"dtype\": \"category\",\n        \"num_unique_values\": 2,\n        \"samples\": [\n          \"F\",\n          \"M\"\n        ],\n        \"semantic_type\": \"\",\n        \"description\": \"\"\n      }\n    },\n    {\n      \"column\": \"Edad\",\n      \"properties\": {\n        \"dtype\": \"number\",\n        \"std\": 1,\n        \"min\": 18,\n        \"max\": 23,\n        \"num_unique_values\": 6,\n        \"samples\": [\n          19,\n          18\n        ],\n        \"semantic_type\": \"\",\n        \"description\": \"\"\n      }\n    },\n    {\n      \"column\": \"Peso\",\n      \"properties\": {\n        \"dtype\": \"number\",\n        \"std\": 8,\n        \"min\": 52,\n        \"max\": 80,\n        \"num_unique_values\": 7,\n        \"samples\": [\n          80,\n          52\n        ],\n        \"semantic_type\": \"\",\n        \"description\": \"\"\n      }\n    },\n    {\n      \"column\": \"Altura\",\n      \"properties\": {\n        \"dtype\": \"number\",\n        \"std\": 12,\n        \"min\": 155,\n        \"max\": 194,\n        \"num_unique_values\": 8,\n        \"samples\": [\n          160,\n          185\n        ],\n        \"semantic_type\": \"\",\n        \"description\": \"\"\n      }\n    },\n    {\n      \"column\": \"Cabello\",\n      \"properties\": {\n        \"dtype\": \"category\",\n        \"num_unique_values\": 2,\n        \"samples\": [\n          \"Largo\",\n          \"Corto\"\n        ],\n        \"semantic_type\": \"\",\n        \"description\": \"\"\n      }\n    },\n    {\n      \"column\": \"Talla\",\n      \"properties\": {\n        \"dtype\": \"number\",\n        \"std\": 3,\n        \"min\": 35,\n        \"max\": 45,\n        \"num_unique_values\": 7,\n        \"samples\": [\n          45,\n          38\n        ],\n        \"semantic_type\": \"\",\n        \"description\": \"\"\n      }\n    }\n  ]\n}",
              "type": "dataframe",
              "variable_name": "df"
            },
            "text/html": [
              "\n",
              "  <div id=\"df-e85cbac2-db9a-48bb-85c7-c0865d39c4a4\" class=\"colab-df-container\">\n",
              "    <div>\n",
              "<style scoped>\n",
              "    .dataframe tbody tr th:only-of-type {\n",
              "        vertical-align: middle;\n",
              "    }\n",
              "\n",
              "    .dataframe tbody tr th {\n",
              "        vertical-align: top;\n",
              "    }\n",
              "\n",
              "    .dataframe thead th {\n",
              "        text-align: right;\n",
              "    }\n",
              "</style>\n",
              "<table border=\"1\" class=\"dataframe\">\n",
              "  <thead>\n",
              "    <tr style=\"text-align: right;\">\n",
              "      <th></th>\n",
              "      <th>Género</th>\n",
              "      <th>Edad</th>\n",
              "      <th>Peso</th>\n",
              "      <th>Altura</th>\n",
              "      <th>Cabello</th>\n",
              "      <th>Talla</th>\n",
              "    </tr>\n",
              "  </thead>\n",
              "  <tbody>\n",
              "    <tr>\n",
              "      <th>0</th>\n",
              "      <td>M</td>\n",
              "      <td>19</td>\n",
              "      <td>80</td>\n",
              "      <td>194</td>\n",
              "      <td>Corto</td>\n",
              "      <td>45</td>\n",
              "    </tr>\n",
              "    <tr>\n",
              "      <th>1</th>\n",
              "      <td>F</td>\n",
              "      <td>19</td>\n",
              "      <td>52</td>\n",
              "      <td>160</td>\n",
              "      <td>Largo</td>\n",
              "      <td>38</td>\n",
              "    </tr>\n",
              "    <tr>\n",
              "      <th>2</th>\n",
              "      <td>F</td>\n",
              "      <td>18</td>\n",
              "      <td>55</td>\n",
              "      <td>155</td>\n",
              "      <td>Largo</td>\n",
              "      <td>35</td>\n",
              "    </tr>\n",
              "    <tr>\n",
              "      <th>3</th>\n",
              "      <td>F</td>\n",
              "      <td>20</td>\n",
              "      <td>60</td>\n",
              "      <td>165</td>\n",
              "      <td>Corto</td>\n",
              "      <td>37</td>\n",
              "    </tr>\n",
              "    <tr>\n",
              "      <th>4</th>\n",
              "      <td>F</td>\n",
              "      <td>22</td>\n",
              "      <td>62</td>\n",
              "      <td>160</td>\n",
              "      <td>Largo</td>\n",
              "      <td>36</td>\n",
              "    </tr>\n",
              "    <tr>\n",
              "      <th>5</th>\n",
              "      <td>M</td>\n",
              "      <td>21</td>\n",
              "      <td>68</td>\n",
              "      <td>176</td>\n",
              "      <td>Corto</td>\n",
              "      <td>41</td>\n",
              "    </tr>\n",
              "    <tr>\n",
              "      <th>6</th>\n",
              "      <td>M</td>\n",
              "      <td>19</td>\n",
              "      <td>72</td>\n",
              "      <td>185</td>\n",
              "      <td>Corto</td>\n",
              "      <td>41</td>\n",
              "    </tr>\n",
              "    <tr>\n",
              "      <th>7</th>\n",
              "      <td>M</td>\n",
              "      <td>19</td>\n",
              "      <td>60</td>\n",
              "      <td>178</td>\n",
              "      <td>Corto</td>\n",
              "      <td>40</td>\n",
              "    </tr>\n",
              "    <tr>\n",
              "      <th>8</th>\n",
              "      <td>M</td>\n",
              "      <td>23</td>\n",
              "      <td>68</td>\n",
              "      <td>170</td>\n",
              "      <td>Corto</td>\n",
              "      <td>40</td>\n",
              "    </tr>\n",
              "  </tbody>\n",
              "</table>\n",
              "</div>\n",
              "    <div class=\"colab-df-buttons\">\n",
              "\n",
              "  <div class=\"colab-df-container\">\n",
              "    <button class=\"colab-df-convert\" onclick=\"convertToInteractive('df-e85cbac2-db9a-48bb-85c7-c0865d39c4a4')\"\n",
              "            title=\"Convert this dataframe to an interactive table.\"\n",
              "            style=\"display:none;\">\n",
              "\n",
              "  <svg xmlns=\"http://www.w3.org/2000/svg\" height=\"24px\" viewBox=\"0 -960 960 960\">\n",
              "    <path d=\"M120-120v-720h720v720H120Zm60-500h600v-160H180v160Zm220 220h160v-160H400v160Zm0 220h160v-160H400v160ZM180-400h160v-160H180v160Zm440 0h160v-160H620v160ZM180-180h160v-160H180v160Zm440 0h160v-160H620v160Z\"/>\n",
              "  </svg>\n",
              "    </button>\n",
              "\n",
              "  <style>\n",
              "    .colab-df-container {\n",
              "      display:flex;\n",
              "      gap: 12px;\n",
              "    }\n",
              "\n",
              "    .colab-df-convert {\n",
              "      background-color: #E8F0FE;\n",
              "      border: none;\n",
              "      border-radius: 50%;\n",
              "      cursor: pointer;\n",
              "      display: none;\n",
              "      fill: #1967D2;\n",
              "      height: 32px;\n",
              "      padding: 0 0 0 0;\n",
              "      width: 32px;\n",
              "    }\n",
              "\n",
              "    .colab-df-convert:hover {\n",
              "      background-color: #E2EBFA;\n",
              "      box-shadow: 0px 1px 2px rgba(60, 64, 67, 0.3), 0px 1px 3px 1px rgba(60, 64, 67, 0.15);\n",
              "      fill: #174EA6;\n",
              "    }\n",
              "\n",
              "    .colab-df-buttons div {\n",
              "      margin-bottom: 4px;\n",
              "    }\n",
              "\n",
              "    [theme=dark] .colab-df-convert {\n",
              "      background-color: #3B4455;\n",
              "      fill: #D2E3FC;\n",
              "    }\n",
              "\n",
              "    [theme=dark] .colab-df-convert:hover {\n",
              "      background-color: #434B5C;\n",
              "      box-shadow: 0px 1px 3px 1px rgba(0, 0, 0, 0.15);\n",
              "      filter: drop-shadow(0px 1px 2px rgba(0, 0, 0, 0.3));\n",
              "      fill: #FFFFFF;\n",
              "    }\n",
              "  </style>\n",
              "\n",
              "    <script>\n",
              "      const buttonEl =\n",
              "        document.querySelector('#df-e85cbac2-db9a-48bb-85c7-c0865d39c4a4 button.colab-df-convert');\n",
              "      buttonEl.style.display =\n",
              "        google.colab.kernel.accessAllowed ? 'block' : 'none';\n",
              "\n",
              "      async function convertToInteractive(key) {\n",
              "        const element = document.querySelector('#df-e85cbac2-db9a-48bb-85c7-c0865d39c4a4');\n",
              "        const dataTable =\n",
              "          await google.colab.kernel.invokeFunction('convertToInteractive',\n",
              "                                                    [key], {});\n",
              "        if (!dataTable) return;\n",
              "\n",
              "        const docLinkHtml = 'Like what you see? Visit the ' +\n",
              "          '<a target=\"_blank\" href=https://colab.research.google.com/notebooks/data_table.ipynb>data table notebook</a>'\n",
              "          + ' to learn more about interactive tables.';\n",
              "        element.innerHTML = '';\n",
              "        dataTable['output_type'] = 'display_data';\n",
              "        await google.colab.output.renderOutput(dataTable, element);\n",
              "        const docLink = document.createElement('div');\n",
              "        docLink.innerHTML = docLinkHtml;\n",
              "        element.appendChild(docLink);\n",
              "      }\n",
              "    </script>\n",
              "  </div>\n",
              "\n",
              "\n",
              "<div id=\"df-9f19dcc6-6883-4b6f-807f-d314e491162a\">\n",
              "  <button class=\"colab-df-quickchart\" onclick=\"quickchart('df-9f19dcc6-6883-4b6f-807f-d314e491162a')\"\n",
              "            title=\"Suggest charts\"\n",
              "            style=\"display:none;\">\n",
              "\n",
              "<svg xmlns=\"http://www.w3.org/2000/svg\" height=\"24px\"viewBox=\"0 0 24 24\"\n",
              "     width=\"24px\">\n",
              "    <g>\n",
              "        <path d=\"M19 3H5c-1.1 0-2 .9-2 2v14c0 1.1.9 2 2 2h14c1.1 0 2-.9 2-2V5c0-1.1-.9-2-2-2zM9 17H7v-7h2v7zm4 0h-2V7h2v10zm4 0h-2v-4h2v4z\"/>\n",
              "    </g>\n",
              "</svg>\n",
              "  </button>\n",
              "\n",
              "<style>\n",
              "  .colab-df-quickchart {\n",
              "      --bg-color: #E8F0FE;\n",
              "      --fill-color: #1967D2;\n",
              "      --hover-bg-color: #E2EBFA;\n",
              "      --hover-fill-color: #174EA6;\n",
              "      --disabled-fill-color: #AAA;\n",
              "      --disabled-bg-color: #DDD;\n",
              "  }\n",
              "\n",
              "  [theme=dark] .colab-df-quickchart {\n",
              "      --bg-color: #3B4455;\n",
              "      --fill-color: #D2E3FC;\n",
              "      --hover-bg-color: #434B5C;\n",
              "      --hover-fill-color: #FFFFFF;\n",
              "      --disabled-bg-color: #3B4455;\n",
              "      --disabled-fill-color: #666;\n",
              "  }\n",
              "\n",
              "  .colab-df-quickchart {\n",
              "    background-color: var(--bg-color);\n",
              "    border: none;\n",
              "    border-radius: 50%;\n",
              "    cursor: pointer;\n",
              "    display: none;\n",
              "    fill: var(--fill-color);\n",
              "    height: 32px;\n",
              "    padding: 0;\n",
              "    width: 32px;\n",
              "  }\n",
              "\n",
              "  .colab-df-quickchart:hover {\n",
              "    background-color: var(--hover-bg-color);\n",
              "    box-shadow: 0 1px 2px rgba(60, 64, 67, 0.3), 0 1px 3px 1px rgba(60, 64, 67, 0.15);\n",
              "    fill: var(--button-hover-fill-color);\n",
              "  }\n",
              "\n",
              "  .colab-df-quickchart-complete:disabled,\n",
              "  .colab-df-quickchart-complete:disabled:hover {\n",
              "    background-color: var(--disabled-bg-color);\n",
              "    fill: var(--disabled-fill-color);\n",
              "    box-shadow: none;\n",
              "  }\n",
              "\n",
              "  .colab-df-spinner {\n",
              "    border: 2px solid var(--fill-color);\n",
              "    border-color: transparent;\n",
              "    border-bottom-color: var(--fill-color);\n",
              "    animation:\n",
              "      spin 1s steps(1) infinite;\n",
              "  }\n",
              "\n",
              "  @keyframes spin {\n",
              "    0% {\n",
              "      border-color: transparent;\n",
              "      border-bottom-color: var(--fill-color);\n",
              "      border-left-color: var(--fill-color);\n",
              "    }\n",
              "    20% {\n",
              "      border-color: transparent;\n",
              "      border-left-color: var(--fill-color);\n",
              "      border-top-color: var(--fill-color);\n",
              "    }\n",
              "    30% {\n",
              "      border-color: transparent;\n",
              "      border-left-color: var(--fill-color);\n",
              "      border-top-color: var(--fill-color);\n",
              "      border-right-color: var(--fill-color);\n",
              "    }\n",
              "    40% {\n",
              "      border-color: transparent;\n",
              "      border-right-color: var(--fill-color);\n",
              "      border-top-color: var(--fill-color);\n",
              "    }\n",
              "    60% {\n",
              "      border-color: transparent;\n",
              "      border-right-color: var(--fill-color);\n",
              "    }\n",
              "    80% {\n",
              "      border-color: transparent;\n",
              "      border-right-color: var(--fill-color);\n",
              "      border-bottom-color: var(--fill-color);\n",
              "    }\n",
              "    90% {\n",
              "      border-color: transparent;\n",
              "      border-bottom-color: var(--fill-color);\n",
              "    }\n",
              "  }\n",
              "</style>\n",
              "\n",
              "  <script>\n",
              "    async function quickchart(key) {\n",
              "      const quickchartButtonEl =\n",
              "        document.querySelector('#' + key + ' button');\n",
              "      quickchartButtonEl.disabled = true;  // To prevent multiple clicks.\n",
              "      quickchartButtonEl.classList.add('colab-df-spinner');\n",
              "      try {\n",
              "        const charts = await google.colab.kernel.invokeFunction(\n",
              "            'suggestCharts', [key], {});\n",
              "      } catch (error) {\n",
              "        console.error('Error during call to suggestCharts:', error);\n",
              "      }\n",
              "      quickchartButtonEl.classList.remove('colab-df-spinner');\n",
              "      quickchartButtonEl.classList.add('colab-df-quickchart-complete');\n",
              "    }\n",
              "    (() => {\n",
              "      let quickchartButtonEl =\n",
              "        document.querySelector('#df-9f19dcc6-6883-4b6f-807f-d314e491162a button');\n",
              "      quickchartButtonEl.style.display =\n",
              "        google.colab.kernel.accessAllowed ? 'block' : 'none';\n",
              "    })();\n",
              "  </script>\n",
              "</div>\n",
              "\n",
              "  <div id=\"id_5258bded-d0dd-41ca-8d15-e7a8be1dbdb7\">\n",
              "    <style>\n",
              "      .colab-df-generate {\n",
              "        background-color: #E8F0FE;\n",
              "        border: none;\n",
              "        border-radius: 50%;\n",
              "        cursor: pointer;\n",
              "        display: none;\n",
              "        fill: #1967D2;\n",
              "        height: 32px;\n",
              "        padding: 0 0 0 0;\n",
              "        width: 32px;\n",
              "      }\n",
              "\n",
              "      .colab-df-generate:hover {\n",
              "        background-color: #E2EBFA;\n",
              "        box-shadow: 0px 1px 2px rgba(60, 64, 67, 0.3), 0px 1px 3px 1px rgba(60, 64, 67, 0.15);\n",
              "        fill: #174EA6;\n",
              "      }\n",
              "\n",
              "      [theme=dark] .colab-df-generate {\n",
              "        background-color: #3B4455;\n",
              "        fill: #D2E3FC;\n",
              "      }\n",
              "\n",
              "      [theme=dark] .colab-df-generate:hover {\n",
              "        background-color: #434B5C;\n",
              "        box-shadow: 0px 1px 3px 1px rgba(0, 0, 0, 0.15);\n",
              "        filter: drop-shadow(0px 1px 2px rgba(0, 0, 0, 0.3));\n",
              "        fill: #FFFFFF;\n",
              "      }\n",
              "    </style>\n",
              "    <button class=\"colab-df-generate\" onclick=\"generateWithVariable('df')\"\n",
              "            title=\"Generate code using this dataframe.\"\n",
              "            style=\"display:none;\">\n",
              "\n",
              "  <svg xmlns=\"http://www.w3.org/2000/svg\" height=\"24px\"viewBox=\"0 0 24 24\"\n",
              "       width=\"24px\">\n",
              "    <path d=\"M7,19H8.4L18.45,9,17,7.55,7,17.6ZM5,21V16.75L18.45,3.32a2,2,0,0,1,2.83,0l1.4,1.43a1.91,1.91,0,0,1,.58,1.4,1.91,1.91,0,0,1-.58,1.4L9.25,21ZM18.45,9,17,7.55Zm-12,3A5.31,5.31,0,0,0,4.9,8.1,5.31,5.31,0,0,0,1,6.5,5.31,5.31,0,0,0,4.9,4.9,5.31,5.31,0,0,0,6.5,1,5.31,5.31,0,0,0,8.1,4.9,5.31,5.31,0,0,0,12,6.5,5.46,5.46,0,0,0,6.5,12Z\"/>\n",
              "  </svg>\n",
              "    </button>\n",
              "    <script>\n",
              "      (() => {\n",
              "      const buttonEl =\n",
              "        document.querySelector('#id_5258bded-d0dd-41ca-8d15-e7a8be1dbdb7 button.colab-df-generate');\n",
              "      buttonEl.style.display =\n",
              "        google.colab.kernel.accessAllowed ? 'block' : 'none';\n",
              "\n",
              "      buttonEl.onclick = () => {\n",
              "        google.colab.notebook.generateWithVariable('df');\n",
              "      }\n",
              "      })();\n",
              "    </script>\n",
              "  </div>\n",
              "\n",
              "    </div>\n",
              "  </div>\n"
            ],
            "text/plain": [
              "  Género  Edad  Peso  Altura Cabello  Talla\n",
              "0      M    19    80     194   Corto     45\n",
              "1      F    19    52     160   Largo     38\n",
              "2      F    18    55     155   Largo     35\n",
              "3      F    20    60     165   Corto     37\n",
              "4      F    22    62     160   Largo     36\n",
              "5      M    21    68     176   Corto     41\n",
              "6      M    19    72     185   Corto     41\n",
              "7      M    19    60     178   Corto     40\n",
              "8      M    23    68     170   Corto     40"
            ]
          },
          "execution_count": 162,
          "metadata": {},
          "output_type": "execute_result"
        }
      ]
    },
    {
      "cell_type": "markdown",
      "source": [
        "##FIT TRANSFORM\n",
        "Entrenar un modelo\n",
        "\n",
        "##PERSISTENCIA\n",
        "Guardar los datos\n",
        "\n",
        "\n",
        "\n",
        "supervisada-> cuando tiene la columna label\n",
        "\n",
        "no supervisas-> tiene la columna label\n",
        "\n",
        "es decir, tiene algo que se va a predecir\n",
        "\n",
        "\n",
        "##pasos:\n",
        "\n",
        "1. importar libreriar\n",
        "2. declarar el modelo\n",
        "3. darle persistencia\n",
        "\n"
      ],
      "metadata": {
        "id": "A7eXu6BPFN8s"
      }
    },
    {
      "cell_type": "code",
      "source": [
        "# Codificar la columna 'Género'\n",
        "gender_encoder = LabelEncoder()\n",
        "df[\"Género\"] = gender_encoder.fit_transform(df[\"Género\"])\n",
        "df"
      ],
      "metadata": {
        "id": "xODIOtcCGfcW"
      },
      "execution_count": null,
      "outputs": []
    },
    {
      "cell_type": "code",
      "source": [
        "# Codificar la columna 'Cabello'\n",
        "cabello_encoder = LabelEncoder()\n",
        "df[\"Cabello\"] = cabello_encoder.fit_transform(df[\"Cabello\"])\n",
        "df"
      ],
      "metadata": {
        "id": "23qUu5yjHMNl"
      },
      "execution_count": null,
      "outputs": []
    },
    {
      "cell_type": "code",
      "source": [],
      "metadata": {
        "id": "Ehic-PunObWO"
      },
      "execution_count": null,
      "outputs": []
    },
    {
      "cell_type": "code",
      "source": [
        "gender_encoder.classes_\n"
      ],
      "metadata": {
        "id": "tqSWM01QIO_V"
      },
      "execution_count": null,
      "outputs": []
    },
    {
      "cell_type": "code",
      "source": [
        "cabello_encoder.classes_"
      ],
      "metadata": {
        "id": "1rrYRALOImWH"
      },
      "execution_count": null,
      "outputs": []
    },
    {
      "cell_type": "code",
      "source": [
        "df.columns"
      ],
      "metadata": {
        "id": "W67roG63IxW1"
      },
      "execution_count": null,
      "outputs": []
    },
    {
      "cell_type": "code",
      "source": [
        "from sklearn.ensemble import RandomForestClassifier\n",
        "\n",
        "X=df[[ 'Edad', 'Peso', 'Altura', 'Cabello', 'Talla']]\n",
        "y=df['Género']\n"
      ],
      "metadata": {
        "id": "oDKPtC2AI9EV"
      },
      "execution_count": null,
      "outputs": []
    },
    {
      "cell_type": "code",
      "source": [
        "model = RandomForestClassifier()\n",
        "model.fit(X, y)"
      ],
      "metadata": {
        "id": "ZzH4rdiMJgp-"
      },
      "execution_count": null,
      "outputs": []
    },
    {
      "cell_type": "code",
      "source": [
        "# Guardar el modelo entrenado\n",
        "dump(model, \"miPrimerMillon.joblib\")\n",
        "\n",
        "print(\"Modelo guardado correctamente.\")"
      ],
      "metadata": {
        "id": "pS0gbMXMKMVm"
      },
      "execution_count": null,
      "outputs": []
    },
    {
      "cell_type": "code",
      "source": [
        "new_data = pd.DataFrame({\n",
        "    'Edad': [20,19,22],\n",
        "    'Peso': [70,75,52],\n",
        "    'Altura': [172,175,161],\n",
        "    'Cabello': [\"Corto\",\"Corto\",\"Largo\"],\n",
        "    'Talla': [42,39,37],\n",
        "\n",
        "})\n",
        "new_data"
      ],
      "metadata": {
        "id": "MR0fBEaxKxct"
      },
      "execution_count": null,
      "outputs": []
    },
    {
      "cell_type": "code",
      "source": [
        "import joblib as jb\n",
        "import pandas as pd\n",
        "\n",
        "# Load the cabello_encoder\n",
        "cabello_encoder = jb.load(\"cabello_encoder.joblib\")\n",
        "\n",
        "# Assuming you have a DataFrame named new_data\n",
        "new_data = pd.DataFrame({\n",
        "    'Edad': [20, 19, 22],\n",
        "    'Peso': [70, 75, 52],\n",
        "    'Altura': [172, 175, 161],\n",
        "    'Cabello': [\"Corto\", \"Corto\", \"Largo\"],\n",
        "    'Talla': [42, 39, 37],\n",
        "})\n",
        "\n",
        "# Apply the transformation\n",
        "new_data[\"Cabello\"] = cabello_encoder.transform(new_data[\"Cabello\"])\n",
        "\n",
        "# That's it! The 'Cabello' column in new_data is now transformed.\n",
        "# No need to display new_data again."
      ],
      "metadata": {
        "id": "ULQ_CP2JOHiV"
      },
      "execution_count": null,
      "outputs": []
    },
    {
      "cell_type": "code",
      "source": [
        "\n",
        "cabello_encoder = LabelEncoder()\n",
        "new_data[\"Cabello\"] = cabello_encoder.fit_transform(new_data[\"Cabello\"])\n",
        "new_data"
      ],
      "metadata": {
        "id": "LZOOAgRmOdtN",
        "outputId": "b73512e6-1b12-4893-fbf6-0c133b51e9b3",
        "colab": {
          "base_uri": "https://localhost:8080/",
          "height": 143
        }
      },
      "execution_count": null,
      "outputs": [
        {
          "output_type": "execute_result",
          "data": {
            "text/plain": [
              "   Edad  Peso  Altura  Cabello  Talla\n",
              "0    20    70     172        0     42\n",
              "1    19    75     175        0     39\n",
              "2    22    52     161        1     37"
            ],
            "text/html": [
              "\n",
              "  <div id=\"df-cb91cdd9-3542-4626-bee1-71d823b993fc\" class=\"colab-df-container\">\n",
              "    <div>\n",
              "<style scoped>\n",
              "    .dataframe tbody tr th:only-of-type {\n",
              "        vertical-align: middle;\n",
              "    }\n",
              "\n",
              "    .dataframe tbody tr th {\n",
              "        vertical-align: top;\n",
              "    }\n",
              "\n",
              "    .dataframe thead th {\n",
              "        text-align: right;\n",
              "    }\n",
              "</style>\n",
              "<table border=\"1\" class=\"dataframe\">\n",
              "  <thead>\n",
              "    <tr style=\"text-align: right;\">\n",
              "      <th></th>\n",
              "      <th>Edad</th>\n",
              "      <th>Peso</th>\n",
              "      <th>Altura</th>\n",
              "      <th>Cabello</th>\n",
              "      <th>Talla</th>\n",
              "    </tr>\n",
              "  </thead>\n",
              "  <tbody>\n",
              "    <tr>\n",
              "      <th>0</th>\n",
              "      <td>20</td>\n",
              "      <td>70</td>\n",
              "      <td>172</td>\n",
              "      <td>0</td>\n",
              "      <td>42</td>\n",
              "    </tr>\n",
              "    <tr>\n",
              "      <th>1</th>\n",
              "      <td>19</td>\n",
              "      <td>75</td>\n",
              "      <td>175</td>\n",
              "      <td>0</td>\n",
              "      <td>39</td>\n",
              "    </tr>\n",
              "    <tr>\n",
              "      <th>2</th>\n",
              "      <td>22</td>\n",
              "      <td>52</td>\n",
              "      <td>161</td>\n",
              "      <td>1</td>\n",
              "      <td>37</td>\n",
              "    </tr>\n",
              "  </tbody>\n",
              "</table>\n",
              "</div>\n",
              "    <div class=\"colab-df-buttons\">\n",
              "\n",
              "  <div class=\"colab-df-container\">\n",
              "    <button class=\"colab-df-convert\" onclick=\"convertToInteractive('df-cb91cdd9-3542-4626-bee1-71d823b993fc')\"\n",
              "            title=\"Convert this dataframe to an interactive table.\"\n",
              "            style=\"display:none;\">\n",
              "\n",
              "  <svg xmlns=\"http://www.w3.org/2000/svg\" height=\"24px\" viewBox=\"0 -960 960 960\">\n",
              "    <path d=\"M120-120v-720h720v720H120Zm60-500h600v-160H180v160Zm220 220h160v-160H400v160Zm0 220h160v-160H400v160ZM180-400h160v-160H180v160Zm440 0h160v-160H620v160ZM180-180h160v-160H180v160Zm440 0h160v-160H620v160Z\"/>\n",
              "  </svg>\n",
              "    </button>\n",
              "\n",
              "  <style>\n",
              "    .colab-df-container {\n",
              "      display:flex;\n",
              "      gap: 12px;\n",
              "    }\n",
              "\n",
              "    .colab-df-convert {\n",
              "      background-color: #E8F0FE;\n",
              "      border: none;\n",
              "      border-radius: 50%;\n",
              "      cursor: pointer;\n",
              "      display: none;\n",
              "      fill: #1967D2;\n",
              "      height: 32px;\n",
              "      padding: 0 0 0 0;\n",
              "      width: 32px;\n",
              "    }\n",
              "\n",
              "    .colab-df-convert:hover {\n",
              "      background-color: #E2EBFA;\n",
              "      box-shadow: 0px 1px 2px rgba(60, 64, 67, 0.3), 0px 1px 3px 1px rgba(60, 64, 67, 0.15);\n",
              "      fill: #174EA6;\n",
              "    }\n",
              "\n",
              "    .colab-df-buttons div {\n",
              "      margin-bottom: 4px;\n",
              "    }\n",
              "\n",
              "    [theme=dark] .colab-df-convert {\n",
              "      background-color: #3B4455;\n",
              "      fill: #D2E3FC;\n",
              "    }\n",
              "\n",
              "    [theme=dark] .colab-df-convert:hover {\n",
              "      background-color: #434B5C;\n",
              "      box-shadow: 0px 1px 3px 1px rgba(0, 0, 0, 0.15);\n",
              "      filter: drop-shadow(0px 1px 2px rgba(0, 0, 0, 0.3));\n",
              "      fill: #FFFFFF;\n",
              "    }\n",
              "  </style>\n",
              "\n",
              "    <script>\n",
              "      const buttonEl =\n",
              "        document.querySelector('#df-cb91cdd9-3542-4626-bee1-71d823b993fc button.colab-df-convert');\n",
              "      buttonEl.style.display =\n",
              "        google.colab.kernel.accessAllowed ? 'block' : 'none';\n",
              "\n",
              "      async function convertToInteractive(key) {\n",
              "        const element = document.querySelector('#df-cb91cdd9-3542-4626-bee1-71d823b993fc');\n",
              "        const dataTable =\n",
              "          await google.colab.kernel.invokeFunction('convertToInteractive',\n",
              "                                                    [key], {});\n",
              "        if (!dataTable) return;\n",
              "\n",
              "        const docLinkHtml = 'Like what you see? Visit the ' +\n",
              "          '<a target=\"_blank\" href=https://colab.research.google.com/notebooks/data_table.ipynb>data table notebook</a>'\n",
              "          + ' to learn more about interactive tables.';\n",
              "        element.innerHTML = '';\n",
              "        dataTable['output_type'] = 'display_data';\n",
              "        await google.colab.output.renderOutput(dataTable, element);\n",
              "        const docLink = document.createElement('div');\n",
              "        docLink.innerHTML = docLinkHtml;\n",
              "        element.appendChild(docLink);\n",
              "      }\n",
              "    </script>\n",
              "  </div>\n",
              "\n",
              "\n",
              "<div id=\"df-66f49133-0dbf-4f44-9e87-8e9246dc587c\">\n",
              "  <button class=\"colab-df-quickchart\" onclick=\"quickchart('df-66f49133-0dbf-4f44-9e87-8e9246dc587c')\"\n",
              "            title=\"Suggest charts\"\n",
              "            style=\"display:none;\">\n",
              "\n",
              "<svg xmlns=\"http://www.w3.org/2000/svg\" height=\"24px\"viewBox=\"0 0 24 24\"\n",
              "     width=\"24px\">\n",
              "    <g>\n",
              "        <path d=\"M19 3H5c-1.1 0-2 .9-2 2v14c0 1.1.9 2 2 2h14c1.1 0 2-.9 2-2V5c0-1.1-.9-2-2-2zM9 17H7v-7h2v7zm4 0h-2V7h2v10zm4 0h-2v-4h2v4z\"/>\n",
              "    </g>\n",
              "</svg>\n",
              "  </button>\n",
              "\n",
              "<style>\n",
              "  .colab-df-quickchart {\n",
              "      --bg-color: #E8F0FE;\n",
              "      --fill-color: #1967D2;\n",
              "      --hover-bg-color: #E2EBFA;\n",
              "      --hover-fill-color: #174EA6;\n",
              "      --disabled-fill-color: #AAA;\n",
              "      --disabled-bg-color: #DDD;\n",
              "  }\n",
              "\n",
              "  [theme=dark] .colab-df-quickchart {\n",
              "      --bg-color: #3B4455;\n",
              "      --fill-color: #D2E3FC;\n",
              "      --hover-bg-color: #434B5C;\n",
              "      --hover-fill-color: #FFFFFF;\n",
              "      --disabled-bg-color: #3B4455;\n",
              "      --disabled-fill-color: #666;\n",
              "  }\n",
              "\n",
              "  .colab-df-quickchart {\n",
              "    background-color: var(--bg-color);\n",
              "    border: none;\n",
              "    border-radius: 50%;\n",
              "    cursor: pointer;\n",
              "    display: none;\n",
              "    fill: var(--fill-color);\n",
              "    height: 32px;\n",
              "    padding: 0;\n",
              "    width: 32px;\n",
              "  }\n",
              "\n",
              "  .colab-df-quickchart:hover {\n",
              "    background-color: var(--hover-bg-color);\n",
              "    box-shadow: 0 1px 2px rgba(60, 64, 67, 0.3), 0 1px 3px 1px rgba(60, 64, 67, 0.15);\n",
              "    fill: var(--button-hover-fill-color);\n",
              "  }\n",
              "\n",
              "  .colab-df-quickchart-complete:disabled,\n",
              "  .colab-df-quickchart-complete:disabled:hover {\n",
              "    background-color: var(--disabled-bg-color);\n",
              "    fill: var(--disabled-fill-color);\n",
              "    box-shadow: none;\n",
              "  }\n",
              "\n",
              "  .colab-df-spinner {\n",
              "    border: 2px solid var(--fill-color);\n",
              "    border-color: transparent;\n",
              "    border-bottom-color: var(--fill-color);\n",
              "    animation:\n",
              "      spin 1s steps(1) infinite;\n",
              "  }\n",
              "\n",
              "  @keyframes spin {\n",
              "    0% {\n",
              "      border-color: transparent;\n",
              "      border-bottom-color: var(--fill-color);\n",
              "      border-left-color: var(--fill-color);\n",
              "    }\n",
              "    20% {\n",
              "      border-color: transparent;\n",
              "      border-left-color: var(--fill-color);\n",
              "      border-top-color: var(--fill-color);\n",
              "    }\n",
              "    30% {\n",
              "      border-color: transparent;\n",
              "      border-left-color: var(--fill-color);\n",
              "      border-top-color: var(--fill-color);\n",
              "      border-right-color: var(--fill-color);\n",
              "    }\n",
              "    40% {\n",
              "      border-color: transparent;\n",
              "      border-right-color: var(--fill-color);\n",
              "      border-top-color: var(--fill-color);\n",
              "    }\n",
              "    60% {\n",
              "      border-color: transparent;\n",
              "      border-right-color: var(--fill-color);\n",
              "    }\n",
              "    80% {\n",
              "      border-color: transparent;\n",
              "      border-right-color: var(--fill-color);\n",
              "      border-bottom-color: var(--fill-color);\n",
              "    }\n",
              "    90% {\n",
              "      border-color: transparent;\n",
              "      border-bottom-color: var(--fill-color);\n",
              "    }\n",
              "  }\n",
              "</style>\n",
              "\n",
              "  <script>\n",
              "    async function quickchart(key) {\n",
              "      const quickchartButtonEl =\n",
              "        document.querySelector('#' + key + ' button');\n",
              "      quickchartButtonEl.disabled = true;  // To prevent multiple clicks.\n",
              "      quickchartButtonEl.classList.add('colab-df-spinner');\n",
              "      try {\n",
              "        const charts = await google.colab.kernel.invokeFunction(\n",
              "            'suggestCharts', [key], {});\n",
              "      } catch (error) {\n",
              "        console.error('Error during call to suggestCharts:', error);\n",
              "      }\n",
              "      quickchartButtonEl.classList.remove('colab-df-spinner');\n",
              "      quickchartButtonEl.classList.add('colab-df-quickchart-complete');\n",
              "    }\n",
              "    (() => {\n",
              "      let quickchartButtonEl =\n",
              "        document.querySelector('#df-66f49133-0dbf-4f44-9e87-8e9246dc587c button');\n",
              "      quickchartButtonEl.style.display =\n",
              "        google.colab.kernel.accessAllowed ? 'block' : 'none';\n",
              "    })();\n",
              "  </script>\n",
              "</div>\n",
              "\n",
              "  <div id=\"id_c05e3deb-ac24-4ce0-abd5-e3ba415a741f\">\n",
              "    <style>\n",
              "      .colab-df-generate {\n",
              "        background-color: #E8F0FE;\n",
              "        border: none;\n",
              "        border-radius: 50%;\n",
              "        cursor: pointer;\n",
              "        display: none;\n",
              "        fill: #1967D2;\n",
              "        height: 32px;\n",
              "        padding: 0 0 0 0;\n",
              "        width: 32px;\n",
              "      }\n",
              "\n",
              "      .colab-df-generate:hover {\n",
              "        background-color: #E2EBFA;\n",
              "        box-shadow: 0px 1px 2px rgba(60, 64, 67, 0.3), 0px 1px 3px 1px rgba(60, 64, 67, 0.15);\n",
              "        fill: #174EA6;\n",
              "      }\n",
              "\n",
              "      [theme=dark] .colab-df-generate {\n",
              "        background-color: #3B4455;\n",
              "        fill: #D2E3FC;\n",
              "      }\n",
              "\n",
              "      [theme=dark] .colab-df-generate:hover {\n",
              "        background-color: #434B5C;\n",
              "        box-shadow: 0px 1px 3px 1px rgba(0, 0, 0, 0.15);\n",
              "        filter: drop-shadow(0px 1px 2px rgba(0, 0, 0, 0.3));\n",
              "        fill: #FFFFFF;\n",
              "      }\n",
              "    </style>\n",
              "    <button class=\"colab-df-generate\" onclick=\"generateWithVariable('new_data')\"\n",
              "            title=\"Generate code using this dataframe.\"\n",
              "            style=\"display:none;\">\n",
              "\n",
              "  <svg xmlns=\"http://www.w3.org/2000/svg\" height=\"24px\"viewBox=\"0 0 24 24\"\n",
              "       width=\"24px\">\n",
              "    <path d=\"M7,19H8.4L18.45,9,17,7.55,7,17.6ZM5,21V16.75L18.45,3.32a2,2,0,0,1,2.83,0l1.4,1.43a1.91,1.91,0,0,1,.58,1.4,1.91,1.91,0,0,1-.58,1.4L9.25,21ZM18.45,9,17,7.55Zm-12,3A5.31,5.31,0,0,0,4.9,8.1,5.31,5.31,0,0,0,1,6.5,5.31,5.31,0,0,0,4.9,4.9,5.31,5.31,0,0,0,6.5,1,5.31,5.31,0,0,0,8.1,4.9,5.31,5.31,0,0,0,12,6.5,5.46,5.46,0,0,0,6.5,12Z\"/>\n",
              "  </svg>\n",
              "    </button>\n",
              "    <script>\n",
              "      (() => {\n",
              "      const buttonEl =\n",
              "        document.querySelector('#id_c05e3deb-ac24-4ce0-abd5-e3ba415a741f button.colab-df-generate');\n",
              "      buttonEl.style.display =\n",
              "        google.colab.kernel.accessAllowed ? 'block' : 'none';\n",
              "\n",
              "      buttonEl.onclick = () => {\n",
              "        google.colab.notebook.generateWithVariable('new_data');\n",
              "      }\n",
              "      })();\n",
              "    </script>\n",
              "  </div>\n",
              "\n",
              "    </div>\n",
              "  </div>\n"
            ],
            "application/vnd.google.colaboratory.intrinsic+json": {
              "type": "dataframe",
              "variable_name": "new_data",
              "summary": "{\n  \"name\": \"new_data\",\n  \"rows\": 3,\n  \"fields\": [\n    {\n      \"column\": \"Edad\",\n      \"properties\": {\n        \"dtype\": \"number\",\n        \"std\": 1,\n        \"min\": 19,\n        \"max\": 22,\n        \"num_unique_values\": 3,\n        \"samples\": [\n          20,\n          19,\n          22\n        ],\n        \"semantic_type\": \"\",\n        \"description\": \"\"\n      }\n    },\n    {\n      \"column\": \"Peso\",\n      \"properties\": {\n        \"dtype\": \"number\",\n        \"std\": 12,\n        \"min\": 52,\n        \"max\": 75,\n        \"num_unique_values\": 3,\n        \"samples\": [\n          70,\n          75,\n          52\n        ],\n        \"semantic_type\": \"\",\n        \"description\": \"\"\n      }\n    },\n    {\n      \"column\": \"Altura\",\n      \"properties\": {\n        \"dtype\": \"number\",\n        \"std\": 7,\n        \"min\": 161,\n        \"max\": 175,\n        \"num_unique_values\": 3,\n        \"samples\": [\n          172,\n          175,\n          161\n        ],\n        \"semantic_type\": \"\",\n        \"description\": \"\"\n      }\n    },\n    {\n      \"column\": \"Cabello\",\n      \"properties\": {\n        \"dtype\": \"number\",\n        \"std\": 0,\n        \"min\": 0,\n        \"max\": 1,\n        \"num_unique_values\": 2,\n        \"samples\": [\n          1,\n          0\n        ],\n        \"semantic_type\": \"\",\n        \"description\": \"\"\n      }\n    },\n    {\n      \"column\": \"Talla\",\n      \"properties\": {\n        \"dtype\": \"number\",\n        \"std\": 2,\n        \"min\": 37,\n        \"max\": 42,\n        \"num_unique_values\": 3,\n        \"samples\": [\n          42,\n          39\n        ],\n        \"semantic_type\": \"\",\n        \"description\": \"\"\n      }\n    }\n  ]\n}"
            }
          },
          "metadata": {},
          "execution_count": 158
        }
      ]
    },
    {
      "cell_type": "code",
      "source": [
        "model = jb.load(\"miPrimerMillon.joblib\")\n",
        "X_new = new_data[[ 'Edad', 'Peso', 'Altura', 'Cabello', 'Talla']]\n",
        "predictions = model.predict(X_new)\n",
        "predictions"
      ],
      "metadata": {
        "id": "Z6iyM1IEPdft",
        "outputId": "2e7e00a4-b41b-4fc5-ec8b-d6f77e2354a5",
        "colab": {
          "base_uri": "https://localhost:8080/"
        }
      },
      "execution_count": null,
      "outputs": [
        {
          "data": {
            "text/plain": [
              "array([1, 1, 0])"
            ]
          },
          "execution_count": 160,
          "metadata": {},
          "output_type": "execute_result"
        }
      ]
    },
    {
      "cell_type": "code",
      "source": [
        "decoded_predictions = gender_encoder.inverse_transform(predictions)\n",
        "decoded_predictions"
      ],
      "metadata": {
        "id": "-BkbVRT0QCpv",
        "outputId": "847be438-24c9-4fe2-a1e2-045236034c89",
        "colab": {
          "base_uri": "https://localhost:8080/"
        }
      },
      "execution_count": null,
      "outputs": [
        {
          "output_type": "execute_result",
          "data": {
            "text/plain": [
              "array(['M', 'M', 'F'], dtype=object)"
            ]
          },
          "metadata": {},
          "execution_count": 161
        }
      ]
    },
    {
      "cell_type": "code",
      "source": [
        "import pandas as pd\n",
        "\n",
        "# Dataset de ejemplo\n",
        "data = pd.DataFrame({\n",
        "    \"Precio\": [100, 200, 150, 300],\n",
        "    \"Cantidad\": [2, 5, 3, 8]\n",
        "})\n",
        "\n",
        "# Crear una nueva característica: Total\n",
        "data[\"Total\"] = data[\"Precio\"] * data[\"Cantidad\"]\n",
        "print(\"Datos con nueva característica:\\n\", data)\n"
      ],
      "metadata": {
        "id": "Y0tJhfe_hXJw",
        "outputId": "d3fb4b1c-31c0-41e4-f288-ed25c9092bc7",
        "colab": {
          "base_uri": "https://localhost:8080/"
        }
      },
      "execution_count": null,
      "outputs": [
        {
          "output_type": "stream",
          "name": "stdout",
          "text": [
            "Datos con nueva característica:\n",
            "    Precio  Cantidad  Total\n",
            "0     100         2    200\n",
            "1     200         5   1000\n",
            "2     150         3    450\n",
            "3     300         8   2400\n"
          ]
        }
      ]
    },
    {
      "cell_type": "code",
      "source": [
        "# Agregar fechas al dataset\n",
        "data[\"Fecha\"] = pd.to_datetime([\"2023-01-01\", \"2023-01-15\", \"2023-02-10\", \"2023-03-01\"])\n",
        "data"
      ],
      "metadata": {
        "id": "7NTim-OThow4",
        "outputId": "b9bf7b8d-c68a-491e-a673-a29507facb72",
        "colab": {
          "base_uri": "https://localhost:8080/",
          "height": 175
        }
      },
      "execution_count": null,
      "outputs": [
        {
          "output_type": "execute_result",
          "data": {
            "text/plain": [
              "   Precio  Cantidad  Total      Fecha\n",
              "0     100         2    200 2023-01-01\n",
              "1     200         5   1000 2023-01-15\n",
              "2     150         3    450 2023-02-10\n",
              "3     300         8   2400 2023-03-01"
            ],
            "text/html": [
              "\n",
              "  <div id=\"df-f94c1301-8cc3-408a-a51b-6766ec34e9b4\" class=\"colab-df-container\">\n",
              "    <div>\n",
              "<style scoped>\n",
              "    .dataframe tbody tr th:only-of-type {\n",
              "        vertical-align: middle;\n",
              "    }\n",
              "\n",
              "    .dataframe tbody tr th {\n",
              "        vertical-align: top;\n",
              "    }\n",
              "\n",
              "    .dataframe thead th {\n",
              "        text-align: right;\n",
              "    }\n",
              "</style>\n",
              "<table border=\"1\" class=\"dataframe\">\n",
              "  <thead>\n",
              "    <tr style=\"text-align: right;\">\n",
              "      <th></th>\n",
              "      <th>Precio</th>\n",
              "      <th>Cantidad</th>\n",
              "      <th>Total</th>\n",
              "      <th>Fecha</th>\n",
              "    </tr>\n",
              "  </thead>\n",
              "  <tbody>\n",
              "    <tr>\n",
              "      <th>0</th>\n",
              "      <td>100</td>\n",
              "      <td>2</td>\n",
              "      <td>200</td>\n",
              "      <td>2023-01-01</td>\n",
              "    </tr>\n",
              "    <tr>\n",
              "      <th>1</th>\n",
              "      <td>200</td>\n",
              "      <td>5</td>\n",
              "      <td>1000</td>\n",
              "      <td>2023-01-15</td>\n",
              "    </tr>\n",
              "    <tr>\n",
              "      <th>2</th>\n",
              "      <td>150</td>\n",
              "      <td>3</td>\n",
              "      <td>450</td>\n",
              "      <td>2023-02-10</td>\n",
              "    </tr>\n",
              "    <tr>\n",
              "      <th>3</th>\n",
              "      <td>300</td>\n",
              "      <td>8</td>\n",
              "      <td>2400</td>\n",
              "      <td>2023-03-01</td>\n",
              "    </tr>\n",
              "  </tbody>\n",
              "</table>\n",
              "</div>\n",
              "    <div class=\"colab-df-buttons\">\n",
              "\n",
              "  <div class=\"colab-df-container\">\n",
              "    <button class=\"colab-df-convert\" onclick=\"convertToInteractive('df-f94c1301-8cc3-408a-a51b-6766ec34e9b4')\"\n",
              "            title=\"Convert this dataframe to an interactive table.\"\n",
              "            style=\"display:none;\">\n",
              "\n",
              "  <svg xmlns=\"http://www.w3.org/2000/svg\" height=\"24px\" viewBox=\"0 -960 960 960\">\n",
              "    <path d=\"M120-120v-720h720v720H120Zm60-500h600v-160H180v160Zm220 220h160v-160H400v160Zm0 220h160v-160H400v160ZM180-400h160v-160H180v160Zm440 0h160v-160H620v160ZM180-180h160v-160H180v160Zm440 0h160v-160H620v160Z\"/>\n",
              "  </svg>\n",
              "    </button>\n",
              "\n",
              "  <style>\n",
              "    .colab-df-container {\n",
              "      display:flex;\n",
              "      gap: 12px;\n",
              "    }\n",
              "\n",
              "    .colab-df-convert {\n",
              "      background-color: #E8F0FE;\n",
              "      border: none;\n",
              "      border-radius: 50%;\n",
              "      cursor: pointer;\n",
              "      display: none;\n",
              "      fill: #1967D2;\n",
              "      height: 32px;\n",
              "      padding: 0 0 0 0;\n",
              "      width: 32px;\n",
              "    }\n",
              "\n",
              "    .colab-df-convert:hover {\n",
              "      background-color: #E2EBFA;\n",
              "      box-shadow: 0px 1px 2px rgba(60, 64, 67, 0.3), 0px 1px 3px 1px rgba(60, 64, 67, 0.15);\n",
              "      fill: #174EA6;\n",
              "    }\n",
              "\n",
              "    .colab-df-buttons div {\n",
              "      margin-bottom: 4px;\n",
              "    }\n",
              "\n",
              "    [theme=dark] .colab-df-convert {\n",
              "      background-color: #3B4455;\n",
              "      fill: #D2E3FC;\n",
              "    }\n",
              "\n",
              "    [theme=dark] .colab-df-convert:hover {\n",
              "      background-color: #434B5C;\n",
              "      box-shadow: 0px 1px 3px 1px rgba(0, 0, 0, 0.15);\n",
              "      filter: drop-shadow(0px 1px 2px rgba(0, 0, 0, 0.3));\n",
              "      fill: #FFFFFF;\n",
              "    }\n",
              "  </style>\n",
              "\n",
              "    <script>\n",
              "      const buttonEl =\n",
              "        document.querySelector('#df-f94c1301-8cc3-408a-a51b-6766ec34e9b4 button.colab-df-convert');\n",
              "      buttonEl.style.display =\n",
              "        google.colab.kernel.accessAllowed ? 'block' : 'none';\n",
              "\n",
              "      async function convertToInteractive(key) {\n",
              "        const element = document.querySelector('#df-f94c1301-8cc3-408a-a51b-6766ec34e9b4');\n",
              "        const dataTable =\n",
              "          await google.colab.kernel.invokeFunction('convertToInteractive',\n",
              "                                                    [key], {});\n",
              "        if (!dataTable) return;\n",
              "\n",
              "        const docLinkHtml = 'Like what you see? Visit the ' +\n",
              "          '<a target=\"_blank\" href=https://colab.research.google.com/notebooks/data_table.ipynb>data table notebook</a>'\n",
              "          + ' to learn more about interactive tables.';\n",
              "        element.innerHTML = '';\n",
              "        dataTable['output_type'] = 'display_data';\n",
              "        await google.colab.output.renderOutput(dataTable, element);\n",
              "        const docLink = document.createElement('div');\n",
              "        docLink.innerHTML = docLinkHtml;\n",
              "        element.appendChild(docLink);\n",
              "      }\n",
              "    </script>\n",
              "  </div>\n",
              "\n",
              "\n",
              "<div id=\"df-772ab159-dbf8-48f4-bddc-3a6588f1829b\">\n",
              "  <button class=\"colab-df-quickchart\" onclick=\"quickchart('df-772ab159-dbf8-48f4-bddc-3a6588f1829b')\"\n",
              "            title=\"Suggest charts\"\n",
              "            style=\"display:none;\">\n",
              "\n",
              "<svg xmlns=\"http://www.w3.org/2000/svg\" height=\"24px\"viewBox=\"0 0 24 24\"\n",
              "     width=\"24px\">\n",
              "    <g>\n",
              "        <path d=\"M19 3H5c-1.1 0-2 .9-2 2v14c0 1.1.9 2 2 2h14c1.1 0 2-.9 2-2V5c0-1.1-.9-2-2-2zM9 17H7v-7h2v7zm4 0h-2V7h2v10zm4 0h-2v-4h2v4z\"/>\n",
              "    </g>\n",
              "</svg>\n",
              "  </button>\n",
              "\n",
              "<style>\n",
              "  .colab-df-quickchart {\n",
              "      --bg-color: #E8F0FE;\n",
              "      --fill-color: #1967D2;\n",
              "      --hover-bg-color: #E2EBFA;\n",
              "      --hover-fill-color: #174EA6;\n",
              "      --disabled-fill-color: #AAA;\n",
              "      --disabled-bg-color: #DDD;\n",
              "  }\n",
              "\n",
              "  [theme=dark] .colab-df-quickchart {\n",
              "      --bg-color: #3B4455;\n",
              "      --fill-color: #D2E3FC;\n",
              "      --hover-bg-color: #434B5C;\n",
              "      --hover-fill-color: #FFFFFF;\n",
              "      --disabled-bg-color: #3B4455;\n",
              "      --disabled-fill-color: #666;\n",
              "  }\n",
              "\n",
              "  .colab-df-quickchart {\n",
              "    background-color: var(--bg-color);\n",
              "    border: none;\n",
              "    border-radius: 50%;\n",
              "    cursor: pointer;\n",
              "    display: none;\n",
              "    fill: var(--fill-color);\n",
              "    height: 32px;\n",
              "    padding: 0;\n",
              "    width: 32px;\n",
              "  }\n",
              "\n",
              "  .colab-df-quickchart:hover {\n",
              "    background-color: var(--hover-bg-color);\n",
              "    box-shadow: 0 1px 2px rgba(60, 64, 67, 0.3), 0 1px 3px 1px rgba(60, 64, 67, 0.15);\n",
              "    fill: var(--button-hover-fill-color);\n",
              "  }\n",
              "\n",
              "  .colab-df-quickchart-complete:disabled,\n",
              "  .colab-df-quickchart-complete:disabled:hover {\n",
              "    background-color: var(--disabled-bg-color);\n",
              "    fill: var(--disabled-fill-color);\n",
              "    box-shadow: none;\n",
              "  }\n",
              "\n",
              "  .colab-df-spinner {\n",
              "    border: 2px solid var(--fill-color);\n",
              "    border-color: transparent;\n",
              "    border-bottom-color: var(--fill-color);\n",
              "    animation:\n",
              "      spin 1s steps(1) infinite;\n",
              "  }\n",
              "\n",
              "  @keyframes spin {\n",
              "    0% {\n",
              "      border-color: transparent;\n",
              "      border-bottom-color: var(--fill-color);\n",
              "      border-left-color: var(--fill-color);\n",
              "    }\n",
              "    20% {\n",
              "      border-color: transparent;\n",
              "      border-left-color: var(--fill-color);\n",
              "      border-top-color: var(--fill-color);\n",
              "    }\n",
              "    30% {\n",
              "      border-color: transparent;\n",
              "      border-left-color: var(--fill-color);\n",
              "      border-top-color: var(--fill-color);\n",
              "      border-right-color: var(--fill-color);\n",
              "    }\n",
              "    40% {\n",
              "      border-color: transparent;\n",
              "      border-right-color: var(--fill-color);\n",
              "      border-top-color: var(--fill-color);\n",
              "    }\n",
              "    60% {\n",
              "      border-color: transparent;\n",
              "      border-right-color: var(--fill-color);\n",
              "    }\n",
              "    80% {\n",
              "      border-color: transparent;\n",
              "      border-right-color: var(--fill-color);\n",
              "      border-bottom-color: var(--fill-color);\n",
              "    }\n",
              "    90% {\n",
              "      border-color: transparent;\n",
              "      border-bottom-color: var(--fill-color);\n",
              "    }\n",
              "  }\n",
              "</style>\n",
              "\n",
              "  <script>\n",
              "    async function quickchart(key) {\n",
              "      const quickchartButtonEl =\n",
              "        document.querySelector('#' + key + ' button');\n",
              "      quickchartButtonEl.disabled = true;  // To prevent multiple clicks.\n",
              "      quickchartButtonEl.classList.add('colab-df-spinner');\n",
              "      try {\n",
              "        const charts = await google.colab.kernel.invokeFunction(\n",
              "            'suggestCharts', [key], {});\n",
              "      } catch (error) {\n",
              "        console.error('Error during call to suggestCharts:', error);\n",
              "      }\n",
              "      quickchartButtonEl.classList.remove('colab-df-spinner');\n",
              "      quickchartButtonEl.classList.add('colab-df-quickchart-complete');\n",
              "    }\n",
              "    (() => {\n",
              "      let quickchartButtonEl =\n",
              "        document.querySelector('#df-772ab159-dbf8-48f4-bddc-3a6588f1829b button');\n",
              "      quickchartButtonEl.style.display =\n",
              "        google.colab.kernel.accessAllowed ? 'block' : 'none';\n",
              "    })();\n",
              "  </script>\n",
              "</div>\n",
              "\n",
              "  <div id=\"id_ffc391d7-eee0-4b36-b8e5-a71abbc1c3ee\">\n",
              "    <style>\n",
              "      .colab-df-generate {\n",
              "        background-color: #E8F0FE;\n",
              "        border: none;\n",
              "        border-radius: 50%;\n",
              "        cursor: pointer;\n",
              "        display: none;\n",
              "        fill: #1967D2;\n",
              "        height: 32px;\n",
              "        padding: 0 0 0 0;\n",
              "        width: 32px;\n",
              "      }\n",
              "\n",
              "      .colab-df-generate:hover {\n",
              "        background-color: #E2EBFA;\n",
              "        box-shadow: 0px 1px 2px rgba(60, 64, 67, 0.3), 0px 1px 3px 1px rgba(60, 64, 67, 0.15);\n",
              "        fill: #174EA6;\n",
              "      }\n",
              "\n",
              "      [theme=dark] .colab-df-generate {\n",
              "        background-color: #3B4455;\n",
              "        fill: #D2E3FC;\n",
              "      }\n",
              "\n",
              "      [theme=dark] .colab-df-generate:hover {\n",
              "        background-color: #434B5C;\n",
              "        box-shadow: 0px 1px 3px 1px rgba(0, 0, 0, 0.15);\n",
              "        filter: drop-shadow(0px 1px 2px rgba(0, 0, 0, 0.3));\n",
              "        fill: #FFFFFF;\n",
              "      }\n",
              "    </style>\n",
              "    <button class=\"colab-df-generate\" onclick=\"generateWithVariable('data')\"\n",
              "            title=\"Generate code using this dataframe.\"\n",
              "            style=\"display:none;\">\n",
              "\n",
              "  <svg xmlns=\"http://www.w3.org/2000/svg\" height=\"24px\"viewBox=\"0 0 24 24\"\n",
              "       width=\"24px\">\n",
              "    <path d=\"M7,19H8.4L18.45,9,17,7.55,7,17.6ZM5,21V16.75L18.45,3.32a2,2,0,0,1,2.83,0l1.4,1.43a1.91,1.91,0,0,1,.58,1.4,1.91,1.91,0,0,1-.58,1.4L9.25,21ZM18.45,9,17,7.55Zm-12,3A5.31,5.31,0,0,0,4.9,8.1,5.31,5.31,0,0,0,1,6.5,5.31,5.31,0,0,0,4.9,4.9,5.31,5.31,0,0,0,6.5,1,5.31,5.31,0,0,0,8.1,4.9,5.31,5.31,0,0,0,12,6.5,5.46,5.46,0,0,0,6.5,12Z\"/>\n",
              "  </svg>\n",
              "    </button>\n",
              "    <script>\n",
              "      (() => {\n",
              "      const buttonEl =\n",
              "        document.querySelector('#id_ffc391d7-eee0-4b36-b8e5-a71abbc1c3ee button.colab-df-generate');\n",
              "      buttonEl.style.display =\n",
              "        google.colab.kernel.accessAllowed ? 'block' : 'none';\n",
              "\n",
              "      buttonEl.onclick = () => {\n",
              "        google.colab.notebook.generateWithVariable('data');\n",
              "      }\n",
              "      })();\n",
              "    </script>\n",
              "  </div>\n",
              "\n",
              "    </div>\n",
              "  </div>\n"
            ],
            "application/vnd.google.colaboratory.intrinsic+json": {
              "type": "dataframe",
              "variable_name": "data",
              "summary": "{\n  \"name\": \"data\",\n  \"rows\": 4,\n  \"fields\": [\n    {\n      \"column\": \"Precio\",\n      \"properties\": {\n        \"dtype\": \"number\",\n        \"std\": 85,\n        \"min\": 100,\n        \"max\": 300,\n        \"num_unique_values\": 4,\n        \"samples\": [\n          200,\n          300,\n          100\n        ],\n        \"semantic_type\": \"\",\n        \"description\": \"\"\n      }\n    },\n    {\n      \"column\": \"Cantidad\",\n      \"properties\": {\n        \"dtype\": \"number\",\n        \"std\": 2,\n        \"min\": 2,\n        \"max\": 8,\n        \"num_unique_values\": 4,\n        \"samples\": [\n          5,\n          8,\n          2\n        ],\n        \"semantic_type\": \"\",\n        \"description\": \"\"\n      }\n    },\n    {\n      \"column\": \"Total\",\n      \"properties\": {\n        \"dtype\": \"number\",\n        \"std\": 983,\n        \"min\": 200,\n        \"max\": 2400,\n        \"num_unique_values\": 4,\n        \"samples\": [\n          1000,\n          2400,\n          200\n        ],\n        \"semantic_type\": \"\",\n        \"description\": \"\"\n      }\n    },\n    {\n      \"column\": \"Fecha\",\n      \"properties\": {\n        \"dtype\": \"date\",\n        \"min\": \"2023-01-01 00:00:00\",\n        \"max\": \"2023-03-01 00:00:00\",\n        \"num_unique_values\": 4,\n        \"samples\": [\n          \"2023-01-15 00:00:00\",\n          \"2023-03-01 00:00:00\",\n          \"2023-01-01 00:00:00\"\n        ],\n        \"semantic_type\": \"\",\n        \"description\": \"\"\n      }\n    }\n  ]\n}"
            }
          },
          "metadata": {},
          "execution_count": 2
        }
      ]
    },
    {
      "cell_type": "code",
      "source": [
        "# Extraer características temporales\n",
        "data[\"Año\"] = data[\"Fecha\"].dt.year\n",
        "data[\"Mes\"] = data[\"Fecha\"].dt.month\n",
        "data[\"Día\"] = data[\"Fecha\"].dt.day\n",
        "data[\"Día_Semana\"] = data[\"Fecha\"].dt.day_name()\n",
        "print(\"Datos con características temporales:\\n\", data)"
      ],
      "metadata": {
        "id": "_vHm4Yq4hxuH",
        "outputId": "4158b46e-10df-4a78-86ed-a3273474866d",
        "colab": {
          "base_uri": "https://localhost:8080/"
        }
      },
      "execution_count": null,
      "outputs": [
        {
          "output_type": "stream",
          "name": "stdout",
          "text": [
            "Datos con características temporales:\n",
            "    Precio  Cantidad  Total      Fecha   Año  Mes  Día Día_Semana\n",
            "0     100         2    200 2023-01-01  2023    1    1     Sunday\n",
            "1     200         5   1000 2023-01-15  2023    1   15     Sunday\n",
            "2     150         3    450 2023-02-10  2023    2   10     Friday\n",
            "3     300         8   2400 2023-03-01  2023    3    1  Wednesday\n"
          ]
        }
      ]
    },
    {
      "cell_type": "markdown",
      "source": [
        "dt es un metodo de pandas para extraer la fecha del dataframe\n",
        "\n",
        "\n",
        "feature engineering-> crear campos a partir de un campo existente"
      ],
      "metadata": {
        "id": "GckWZspTh02H"
      }
    },
    {
      "cell_type": "markdown",
      "source": [
        "# **Tokenización y Conteo de Palabras**"
      ],
      "metadata": {
        "id": "ONz9GSN1ilVc"
      }
    },
    {
      "cell_type": "code",
      "source": [
        "from sklearn.feature_extraction.text import CountVectorizer\n",
        "\n",
        "# Datos de texto\n",
        "data_texto = pd.DataFrame({\n",
        "    \"Texto\": [\"Hola mundo\", \"Machine learning es un mundo increíble\", \"Python es popular en el mundo\"]\n",
        "})\n",
        "\n",
        "# Vectorizador de palabras\n",
        "vectorizer = CountVectorizer()\n",
        "matriz_frecuencia = vectorizer.fit_transform(data_texto[\"Texto\"])\n",
        "\n",
        "# Mostrar el vocabulario y la matriz\n",
        "print(\"\\nVocabulario:\", vectorizer.get_feature_names_out())\n",
        "print(\"Matriz de frecuencia:\\n\", matriz_frecuencia.toarray())"
      ],
      "metadata": {
        "id": "8EKu4vz_iijW",
        "outputId": "ee9bf011-eced-4151-e700-a535c3f54c33",
        "colab": {
          "base_uri": "https://localhost:8080/"
        }
      },
      "execution_count": null,
      "outputs": [
        {
          "output_type": "stream",
          "name": "stdout",
          "text": [
            "\n",
            "Vocabulario: ['el' 'en' 'es' 'hola' 'increíble' 'learning' 'machine' 'mundo' 'popular'\n",
            " 'python' 'un']\n",
            "Matriz de frecuencia:\n",
            " [[0 0 0 1 0 0 0 1 0 0 0]\n",
            " [0 0 1 0 1 1 1 1 0 0 1]\n",
            " [1 1 1 0 0 0 0 1 1 1 0]]\n"
          ]
        }
      ]
    },
    {
      "cell_type": "code",
      "source": [
        "# prompt: con el vectorizer.get_feature_names_out() y la matriz de frecuencia matriz_frecuencia.toarray () devolver la cantidad de frecuencia de cada palabra en el total de las frases\n",
        "\n",
        "# Continuación del código anterior\n",
        "\n",
        "# Obtener la cantidad de frecuencia de cada palabra en el total de las frases\n",
        "feature_names = vectorizer.get_feature_names_out()\n",
        "frequency_matrix = matriz_frecuencia.toarray()\n",
        "\n",
        "# Calcular la frecuencia total de cada palabra\n",
        "total_word_frequencies = frequency_matrix.sum(axis=0)\n",
        "\n",
        "# Crear un diccionario para almacenar la frecuencia de cada palabra\n",
        "word_frequencies = {}\n",
        "for i, word in enumerate(feature_names):\n",
        "    word_frequencies[word] = total_word_frequencies[i]\n",
        "\n",
        "# Mostrar la frecuencia de cada palabra\n",
        "print(\"Frecuencia de cada palabra:\")\n",
        "for word, frequency in word_frequencies.items():\n",
        "    print(f\"{word}: {frequency}\")\n"
      ],
      "metadata": {
        "id": "EvhOB1jAkJNo",
        "outputId": "35aa819a-f89c-4128-9793-e79d661a0675",
        "colab": {
          "base_uri": "https://localhost:8080/"
        }
      },
      "execution_count": null,
      "outputs": [
        {
          "output_type": "stream",
          "name": "stdout",
          "text": [
            "Frecuencia de cada palabra:\n",
            "el: 1\n",
            "en: 1\n",
            "es: 2\n",
            "hola: 1\n",
            "increíble: 1\n",
            "learning: 1\n",
            "machine: 1\n",
            "mundo: 3\n",
            "popular: 1\n",
            "python: 1\n",
            "un: 1\n"
          ]
        }
      ]
    },
    {
      "cell_type": "markdown",
      "source": [
        "# ** Extracción de Características Geoespaciales**"
      ],
      "metadata": {
        "id": "nJAXiIIDky6g"
      }
    },
    {
      "cell_type": "code",
      "source": [
        "from geopy.distance import geodesic\n",
        "\n",
        "\n",
        "# Coordenadas de dos ubicaciones\n",
        "data_geo = pd.DataFrame({\n",
        "    \"Latitud\": [19.4326, 40.7128],  # Ciudad de México, Nueva York\n",
        "    \"Longitud\": [-99.1332, -74.0060]\n",
        "})\n",
        "\n",
        "\n",
        "# Calcular distancias desde un punto de referencia\n",
        "referencia = (19.4326, -99.1332)  # Ciudad de México\n",
        "data_geo[\"Distancia_km\"] = data_geo.apply(\n",
        "    lambda row: geodesic(referencia, (row[\"Latitud\"], row[\"Longitud\"])).kilometers, axis=1\n",
        ")\n",
        "print(\"\\nDatos con distancia geoespacial:\\n\", data_geo)\n"
      ],
      "metadata": {
        "id": "mIeUTvA0k15e",
        "outputId": "c869ef47-4d22-4ad8-f87c-64de6512004a",
        "colab": {
          "base_uri": "https://localhost:8080/"
        }
      },
      "execution_count": null,
      "outputs": [
        {
          "output_type": "stream",
          "name": "stdout",
          "text": [
            "\n",
            "Datos con distancia geoespacial:\n",
            "    Latitud  Longitud  Distancia_km\n",
            "0  19.4326  -99.1332        0.0000\n",
            "1  40.7128  -74.0060     3357.6952\n"
          ]
        }
      ]
    },
    {
      "cell_type": "code",
      "source": [
        "# prompt: crear un dataframe con datos sinteticos que tenga la edad que va de 17 a 22 años, la ubicacion  ( latitud y longitud) en la periferia de bucaramanga, el nombre del estudiante, la nota de inteligencia artificial 1 a 5. dame 100 datos\n",
        "\n",
        "import pandas as pd\n",
        "import numpy as np\n",
        "\n",
        "# Definir la ubicación central de Bucaramanga (aproximada)\n",
        "lat_bucaramanga = 7.1255\n",
        "lon_bucaramanga = -73.1195\n",
        "\n",
        "# Crear una lista para almacenar los datos\n",
        "data = []\n",
        "\n",
        "# Generar 100 registros sintéticos\n",
        "for _ in range(100):\n",
        "  edad = np.random.randint(17, 23)  # Edad entre 17 y 22\n",
        "  # Generar coordenadas aleatorias en la periferia de Bucaramanga\n",
        "  lat = lat_bucaramanga + np.random.uniform(-0.1, 0.1)\n",
        "  lon = lon_bucaramanga + np.random.uniform(-0.1, 0.1)\n",
        "  nombre = f\"Estudiante{_}\"  # Nombre del estudiante\n",
        "  nota_ia = np.random.randint(1, 6)  # Nota de IA entre 1 y 5\n",
        "\n",
        "  data.append([edad, lat, lon, nombre, nota_ia])\n",
        "\n",
        "# Crear el DataFrame\n",
        "columnas = [\"Edad\", \"Latitud\", \"Longitud\", \"Nombre\", \"Nota_IA\"]\n",
        "df = pd.DataFrame(data, columns=columnas)\n",
        "\n",
        "df\n"
      ],
      "metadata": {
        "id": "6vilYlv-ltYQ",
        "outputId": "88cb1c1d-7dae-49e1-b3ee-6ff5bf00ae53",
        "colab": {
          "base_uri": "https://localhost:8080/",
          "height": 424
        }
      },
      "execution_count": null,
      "outputs": [
        {
          "output_type": "execute_result",
          "data": {
            "text/plain": [
              "    Edad   Latitud   Longitud        Nombre  Nota_IA\n",
              "0     18  7.079833 -73.157808   Estudiante0        2\n",
              "1     18  7.161208 -73.188258   Estudiante1        1\n",
              "2     22  7.163014 -73.152827   Estudiante2        4\n",
              "3     20  7.030521 -73.036859   Estudiante3        5\n",
              "4     18  7.170204 -73.093056   Estudiante4        3\n",
              "..   ...       ...        ...           ...      ...\n",
              "95    17  7.221966 -73.032753  Estudiante95        2\n",
              "96    17  7.177835 -73.125945  Estudiante96        2\n",
              "97    22  7.105619 -73.022630  Estudiante97        2\n",
              "98    20  7.053003 -73.108763  Estudiante98        3\n",
              "99    20  7.136348 -73.183714  Estudiante99        2\n",
              "\n",
              "[100 rows x 5 columns]"
            ],
            "text/html": [
              "\n",
              "  <div id=\"df-fc9313e7-e9db-4f7f-906c-615e44f8b42c\" class=\"colab-df-container\">\n",
              "    <div>\n",
              "<style scoped>\n",
              "    .dataframe tbody tr th:only-of-type {\n",
              "        vertical-align: middle;\n",
              "    }\n",
              "\n",
              "    .dataframe tbody tr th {\n",
              "        vertical-align: top;\n",
              "    }\n",
              "\n",
              "    .dataframe thead th {\n",
              "        text-align: right;\n",
              "    }\n",
              "</style>\n",
              "<table border=\"1\" class=\"dataframe\">\n",
              "  <thead>\n",
              "    <tr style=\"text-align: right;\">\n",
              "      <th></th>\n",
              "      <th>Edad</th>\n",
              "      <th>Latitud</th>\n",
              "      <th>Longitud</th>\n",
              "      <th>Nombre</th>\n",
              "      <th>Nota_IA</th>\n",
              "    </tr>\n",
              "  </thead>\n",
              "  <tbody>\n",
              "    <tr>\n",
              "      <th>0</th>\n",
              "      <td>18</td>\n",
              "      <td>7.079833</td>\n",
              "      <td>-73.157808</td>\n",
              "      <td>Estudiante0</td>\n",
              "      <td>2</td>\n",
              "    </tr>\n",
              "    <tr>\n",
              "      <th>1</th>\n",
              "      <td>18</td>\n",
              "      <td>7.161208</td>\n",
              "      <td>-73.188258</td>\n",
              "      <td>Estudiante1</td>\n",
              "      <td>1</td>\n",
              "    </tr>\n",
              "    <tr>\n",
              "      <th>2</th>\n",
              "      <td>22</td>\n",
              "      <td>7.163014</td>\n",
              "      <td>-73.152827</td>\n",
              "      <td>Estudiante2</td>\n",
              "      <td>4</td>\n",
              "    </tr>\n",
              "    <tr>\n",
              "      <th>3</th>\n",
              "      <td>20</td>\n",
              "      <td>7.030521</td>\n",
              "      <td>-73.036859</td>\n",
              "      <td>Estudiante3</td>\n",
              "      <td>5</td>\n",
              "    </tr>\n",
              "    <tr>\n",
              "      <th>4</th>\n",
              "      <td>18</td>\n",
              "      <td>7.170204</td>\n",
              "      <td>-73.093056</td>\n",
              "      <td>Estudiante4</td>\n",
              "      <td>3</td>\n",
              "    </tr>\n",
              "    <tr>\n",
              "      <th>...</th>\n",
              "      <td>...</td>\n",
              "      <td>...</td>\n",
              "      <td>...</td>\n",
              "      <td>...</td>\n",
              "      <td>...</td>\n",
              "    </tr>\n",
              "    <tr>\n",
              "      <th>95</th>\n",
              "      <td>17</td>\n",
              "      <td>7.221966</td>\n",
              "      <td>-73.032753</td>\n",
              "      <td>Estudiante95</td>\n",
              "      <td>2</td>\n",
              "    </tr>\n",
              "    <tr>\n",
              "      <th>96</th>\n",
              "      <td>17</td>\n",
              "      <td>7.177835</td>\n",
              "      <td>-73.125945</td>\n",
              "      <td>Estudiante96</td>\n",
              "      <td>2</td>\n",
              "    </tr>\n",
              "    <tr>\n",
              "      <th>97</th>\n",
              "      <td>22</td>\n",
              "      <td>7.105619</td>\n",
              "      <td>-73.022630</td>\n",
              "      <td>Estudiante97</td>\n",
              "      <td>2</td>\n",
              "    </tr>\n",
              "    <tr>\n",
              "      <th>98</th>\n",
              "      <td>20</td>\n",
              "      <td>7.053003</td>\n",
              "      <td>-73.108763</td>\n",
              "      <td>Estudiante98</td>\n",
              "      <td>3</td>\n",
              "    </tr>\n",
              "    <tr>\n",
              "      <th>99</th>\n",
              "      <td>20</td>\n",
              "      <td>7.136348</td>\n",
              "      <td>-73.183714</td>\n",
              "      <td>Estudiante99</td>\n",
              "      <td>2</td>\n",
              "    </tr>\n",
              "  </tbody>\n",
              "</table>\n",
              "<p>100 rows × 5 columns</p>\n",
              "</div>\n",
              "    <div class=\"colab-df-buttons\">\n",
              "\n",
              "  <div class=\"colab-df-container\">\n",
              "    <button class=\"colab-df-convert\" onclick=\"convertToInteractive('df-fc9313e7-e9db-4f7f-906c-615e44f8b42c')\"\n",
              "            title=\"Convert this dataframe to an interactive table.\"\n",
              "            style=\"display:none;\">\n",
              "\n",
              "  <svg xmlns=\"http://www.w3.org/2000/svg\" height=\"24px\" viewBox=\"0 -960 960 960\">\n",
              "    <path d=\"M120-120v-720h720v720H120Zm60-500h600v-160H180v160Zm220 220h160v-160H400v160Zm0 220h160v-160H400v160ZM180-400h160v-160H180v160Zm440 0h160v-160H620v160ZM180-180h160v-160H180v160Zm440 0h160v-160H620v160Z\"/>\n",
              "  </svg>\n",
              "    </button>\n",
              "\n",
              "  <style>\n",
              "    .colab-df-container {\n",
              "      display:flex;\n",
              "      gap: 12px;\n",
              "    }\n",
              "\n",
              "    .colab-df-convert {\n",
              "      background-color: #E8F0FE;\n",
              "      border: none;\n",
              "      border-radius: 50%;\n",
              "      cursor: pointer;\n",
              "      display: none;\n",
              "      fill: #1967D2;\n",
              "      height: 32px;\n",
              "      padding: 0 0 0 0;\n",
              "      width: 32px;\n",
              "    }\n",
              "\n",
              "    .colab-df-convert:hover {\n",
              "      background-color: #E2EBFA;\n",
              "      box-shadow: 0px 1px 2px rgba(60, 64, 67, 0.3), 0px 1px 3px 1px rgba(60, 64, 67, 0.15);\n",
              "      fill: #174EA6;\n",
              "    }\n",
              "\n",
              "    .colab-df-buttons div {\n",
              "      margin-bottom: 4px;\n",
              "    }\n",
              "\n",
              "    [theme=dark] .colab-df-convert {\n",
              "      background-color: #3B4455;\n",
              "      fill: #D2E3FC;\n",
              "    }\n",
              "\n",
              "    [theme=dark] .colab-df-convert:hover {\n",
              "      background-color: #434B5C;\n",
              "      box-shadow: 0px 1px 3px 1px rgba(0, 0, 0, 0.15);\n",
              "      filter: drop-shadow(0px 1px 2px rgba(0, 0, 0, 0.3));\n",
              "      fill: #FFFFFF;\n",
              "    }\n",
              "  </style>\n",
              "\n",
              "    <script>\n",
              "      const buttonEl =\n",
              "        document.querySelector('#df-fc9313e7-e9db-4f7f-906c-615e44f8b42c button.colab-df-convert');\n",
              "      buttonEl.style.display =\n",
              "        google.colab.kernel.accessAllowed ? 'block' : 'none';\n",
              "\n",
              "      async function convertToInteractive(key) {\n",
              "        const element = document.querySelector('#df-fc9313e7-e9db-4f7f-906c-615e44f8b42c');\n",
              "        const dataTable =\n",
              "          await google.colab.kernel.invokeFunction('convertToInteractive',\n",
              "                                                    [key], {});\n",
              "        if (!dataTable) return;\n",
              "\n",
              "        const docLinkHtml = 'Like what you see? Visit the ' +\n",
              "          '<a target=\"_blank\" href=https://colab.research.google.com/notebooks/data_table.ipynb>data table notebook</a>'\n",
              "          + ' to learn more about interactive tables.';\n",
              "        element.innerHTML = '';\n",
              "        dataTable['output_type'] = 'display_data';\n",
              "        await google.colab.output.renderOutput(dataTable, element);\n",
              "        const docLink = document.createElement('div');\n",
              "        docLink.innerHTML = docLinkHtml;\n",
              "        element.appendChild(docLink);\n",
              "      }\n",
              "    </script>\n",
              "  </div>\n",
              "\n",
              "\n",
              "<div id=\"df-6554eee2-688c-4bae-878d-517d2ae5466c\">\n",
              "  <button class=\"colab-df-quickchart\" onclick=\"quickchart('df-6554eee2-688c-4bae-878d-517d2ae5466c')\"\n",
              "            title=\"Suggest charts\"\n",
              "            style=\"display:none;\">\n",
              "\n",
              "<svg xmlns=\"http://www.w3.org/2000/svg\" height=\"24px\"viewBox=\"0 0 24 24\"\n",
              "     width=\"24px\">\n",
              "    <g>\n",
              "        <path d=\"M19 3H5c-1.1 0-2 .9-2 2v14c0 1.1.9 2 2 2h14c1.1 0 2-.9 2-2V5c0-1.1-.9-2-2-2zM9 17H7v-7h2v7zm4 0h-2V7h2v10zm4 0h-2v-4h2v4z\"/>\n",
              "    </g>\n",
              "</svg>\n",
              "  </button>\n",
              "\n",
              "<style>\n",
              "  .colab-df-quickchart {\n",
              "      --bg-color: #E8F0FE;\n",
              "      --fill-color: #1967D2;\n",
              "      --hover-bg-color: #E2EBFA;\n",
              "      --hover-fill-color: #174EA6;\n",
              "      --disabled-fill-color: #AAA;\n",
              "      --disabled-bg-color: #DDD;\n",
              "  }\n",
              "\n",
              "  [theme=dark] .colab-df-quickchart {\n",
              "      --bg-color: #3B4455;\n",
              "      --fill-color: #D2E3FC;\n",
              "      --hover-bg-color: #434B5C;\n",
              "      --hover-fill-color: #FFFFFF;\n",
              "      --disabled-bg-color: #3B4455;\n",
              "      --disabled-fill-color: #666;\n",
              "  }\n",
              "\n",
              "  .colab-df-quickchart {\n",
              "    background-color: var(--bg-color);\n",
              "    border: none;\n",
              "    border-radius: 50%;\n",
              "    cursor: pointer;\n",
              "    display: none;\n",
              "    fill: var(--fill-color);\n",
              "    height: 32px;\n",
              "    padding: 0;\n",
              "    width: 32px;\n",
              "  }\n",
              "\n",
              "  .colab-df-quickchart:hover {\n",
              "    background-color: var(--hover-bg-color);\n",
              "    box-shadow: 0 1px 2px rgba(60, 64, 67, 0.3), 0 1px 3px 1px rgba(60, 64, 67, 0.15);\n",
              "    fill: var(--button-hover-fill-color);\n",
              "  }\n",
              "\n",
              "  .colab-df-quickchart-complete:disabled,\n",
              "  .colab-df-quickchart-complete:disabled:hover {\n",
              "    background-color: var(--disabled-bg-color);\n",
              "    fill: var(--disabled-fill-color);\n",
              "    box-shadow: none;\n",
              "  }\n",
              "\n",
              "  .colab-df-spinner {\n",
              "    border: 2px solid var(--fill-color);\n",
              "    border-color: transparent;\n",
              "    border-bottom-color: var(--fill-color);\n",
              "    animation:\n",
              "      spin 1s steps(1) infinite;\n",
              "  }\n",
              "\n",
              "  @keyframes spin {\n",
              "    0% {\n",
              "      border-color: transparent;\n",
              "      border-bottom-color: var(--fill-color);\n",
              "      border-left-color: var(--fill-color);\n",
              "    }\n",
              "    20% {\n",
              "      border-color: transparent;\n",
              "      border-left-color: var(--fill-color);\n",
              "      border-top-color: var(--fill-color);\n",
              "    }\n",
              "    30% {\n",
              "      border-color: transparent;\n",
              "      border-left-color: var(--fill-color);\n",
              "      border-top-color: var(--fill-color);\n",
              "      border-right-color: var(--fill-color);\n",
              "    }\n",
              "    40% {\n",
              "      border-color: transparent;\n",
              "      border-right-color: var(--fill-color);\n",
              "      border-top-color: var(--fill-color);\n",
              "    }\n",
              "    60% {\n",
              "      border-color: transparent;\n",
              "      border-right-color: var(--fill-color);\n",
              "    }\n",
              "    80% {\n",
              "      border-color: transparent;\n",
              "      border-right-color: var(--fill-color);\n",
              "      border-bottom-color: var(--fill-color);\n",
              "    }\n",
              "    90% {\n",
              "      border-color: transparent;\n",
              "      border-bottom-color: var(--fill-color);\n",
              "    }\n",
              "  }\n",
              "</style>\n",
              "\n",
              "  <script>\n",
              "    async function quickchart(key) {\n",
              "      const quickchartButtonEl =\n",
              "        document.querySelector('#' + key + ' button');\n",
              "      quickchartButtonEl.disabled = true;  // To prevent multiple clicks.\n",
              "      quickchartButtonEl.classList.add('colab-df-spinner');\n",
              "      try {\n",
              "        const charts = await google.colab.kernel.invokeFunction(\n",
              "            'suggestCharts', [key], {});\n",
              "      } catch (error) {\n",
              "        console.error('Error during call to suggestCharts:', error);\n",
              "      }\n",
              "      quickchartButtonEl.classList.remove('colab-df-spinner');\n",
              "      quickchartButtonEl.classList.add('colab-df-quickchart-complete');\n",
              "    }\n",
              "    (() => {\n",
              "      let quickchartButtonEl =\n",
              "        document.querySelector('#df-6554eee2-688c-4bae-878d-517d2ae5466c button');\n",
              "      quickchartButtonEl.style.display =\n",
              "        google.colab.kernel.accessAllowed ? 'block' : 'none';\n",
              "    })();\n",
              "  </script>\n",
              "</div>\n",
              "\n",
              "  <div id=\"id_9e8b38fb-5c4b-4804-85b7-1f5a18ffac78\">\n",
              "    <style>\n",
              "      .colab-df-generate {\n",
              "        background-color: #E8F0FE;\n",
              "        border: none;\n",
              "        border-radius: 50%;\n",
              "        cursor: pointer;\n",
              "        display: none;\n",
              "        fill: #1967D2;\n",
              "        height: 32px;\n",
              "        padding: 0 0 0 0;\n",
              "        width: 32px;\n",
              "      }\n",
              "\n",
              "      .colab-df-generate:hover {\n",
              "        background-color: #E2EBFA;\n",
              "        box-shadow: 0px 1px 2px rgba(60, 64, 67, 0.3), 0px 1px 3px 1px rgba(60, 64, 67, 0.15);\n",
              "        fill: #174EA6;\n",
              "      }\n",
              "\n",
              "      [theme=dark] .colab-df-generate {\n",
              "        background-color: #3B4455;\n",
              "        fill: #D2E3FC;\n",
              "      }\n",
              "\n",
              "      [theme=dark] .colab-df-generate:hover {\n",
              "        background-color: #434B5C;\n",
              "        box-shadow: 0px 1px 3px 1px rgba(0, 0, 0, 0.15);\n",
              "        filter: drop-shadow(0px 1px 2px rgba(0, 0, 0, 0.3));\n",
              "        fill: #FFFFFF;\n",
              "      }\n",
              "    </style>\n",
              "    <button class=\"colab-df-generate\" onclick=\"generateWithVariable('df')\"\n",
              "            title=\"Generate code using this dataframe.\"\n",
              "            style=\"display:none;\">\n",
              "\n",
              "  <svg xmlns=\"http://www.w3.org/2000/svg\" height=\"24px\"viewBox=\"0 0 24 24\"\n",
              "       width=\"24px\">\n",
              "    <path d=\"M7,19H8.4L18.45,9,17,7.55,7,17.6ZM5,21V16.75L18.45,3.32a2,2,0,0,1,2.83,0l1.4,1.43a1.91,1.91,0,0,1,.58,1.4,1.91,1.91,0,0,1-.58,1.4L9.25,21ZM18.45,9,17,7.55Zm-12,3A5.31,5.31,0,0,0,4.9,8.1,5.31,5.31,0,0,0,1,6.5,5.31,5.31,0,0,0,4.9,4.9,5.31,5.31,0,0,0,6.5,1,5.31,5.31,0,0,0,8.1,4.9,5.31,5.31,0,0,0,12,6.5,5.46,5.46,0,0,0,6.5,12Z\"/>\n",
              "  </svg>\n",
              "    </button>\n",
              "    <script>\n",
              "      (() => {\n",
              "      const buttonEl =\n",
              "        document.querySelector('#id_9e8b38fb-5c4b-4804-85b7-1f5a18ffac78 button.colab-df-generate');\n",
              "      buttonEl.style.display =\n",
              "        google.colab.kernel.accessAllowed ? 'block' : 'none';\n",
              "\n",
              "      buttonEl.onclick = () => {\n",
              "        google.colab.notebook.generateWithVariable('df');\n",
              "      }\n",
              "      })();\n",
              "    </script>\n",
              "  </div>\n",
              "\n",
              "    </div>\n",
              "  </div>\n"
            ],
            "application/vnd.google.colaboratory.intrinsic+json": {
              "type": "dataframe",
              "variable_name": "df",
              "summary": "{\n  \"name\": \"df\",\n  \"rows\": 100,\n  \"fields\": [\n    {\n      \"column\": \"Edad\",\n      \"properties\": {\n        \"dtype\": \"number\",\n        \"std\": 1,\n        \"min\": 17,\n        \"max\": 22,\n        \"num_unique_values\": 6,\n        \"samples\": [\n          18,\n          22,\n          21\n        ],\n        \"semantic_type\": \"\",\n        \"description\": \"\"\n      }\n    },\n    {\n      \"column\": \"Latitud\",\n      \"properties\": {\n        \"dtype\": \"number\",\n        \"std\": 0.05026595477043596,\n        \"min\": 7.029598597521919,\n        \"max\": 7.22291319369524,\n        \"num_unique_values\": 100,\n        \"samples\": [\n          7.22291319369524,\n          7.062512874573018,\n          7.054310416491229\n        ],\n        \"semantic_type\": \"\",\n        \"description\": \"\"\n      }\n    },\n    {\n      \"column\": \"Longitud\",\n      \"properties\": {\n        \"dtype\": \"number\",\n        \"std\": 0.05295734413891324,\n        \"min\": -73.21694534678743,\n        \"max\": -73.01950705473422,\n        \"num_unique_values\": 100,\n        \"samples\": [\n          -73.16232540896281,\n          -73.08630209000123,\n          -73.09471007271445\n        ],\n        \"semantic_type\": \"\",\n        \"description\": \"\"\n      }\n    },\n    {\n      \"column\": \"Nombre\",\n      \"properties\": {\n        \"dtype\": \"string\",\n        \"num_unique_values\": 100,\n        \"samples\": [\n          \"Estudiante83\",\n          \"Estudiante53\",\n          \"Estudiante70\"\n        ],\n        \"semantic_type\": \"\",\n        \"description\": \"\"\n      }\n    },\n    {\n      \"column\": \"Nota_IA\",\n      \"properties\": {\n        \"dtype\": \"number\",\n        \"std\": 1,\n        \"min\": 1,\n        \"max\": 5,\n        \"num_unique_values\": 5,\n        \"samples\": [\n          1,\n          3,\n          4\n        ],\n        \"semantic_type\": \"\",\n        \"description\": \"\"\n      }\n    }\n  ]\n}"
            }
          },
          "metadata": {},
          "execution_count": 11
        }
      ]
    },
    {
      "cell_type": "code",
      "source": [
        "import pandas as pd\n",
        "import plotly.express as px\n",
        "\n",
        "\n",
        "fig = px.scatter_mapbox(df, lat=\"Latitud\", lon=\"Longitud\", size=\"Nota_IA\",\n",
        "                        zoom=10, mapbox_style=\"open-street-map\",\n",
        "                        center={\"lon\": lon_bucaramanga, \"lat\": lat_bucaramanga})\n",
        "fig.show()\n"
      ],
      "metadata": {
        "id": "VmW6hsVfnXJY",
        "outputId": "04e8ca7a-8526-4cdb-b805-22d1da8b45c9",
        "colab": {
          "base_uri": "https://localhost:8080/",
          "height": 542
        }
      },
      "execution_count": null,
      "outputs": [
        {
          "output_type": "display_data",
          "data": {
            "text/html": [
              "<html>\n",
              "<head><meta charset=\"utf-8\" /></head>\n",
              "<body>\n",
              "    <div>            <script src=\"https://cdnjs.cloudflare.com/ajax/libs/mathjax/2.7.5/MathJax.js?config=TeX-AMS-MML_SVG\"></script><script type=\"text/javascript\">if (window.MathJax && window.MathJax.Hub && window.MathJax.Hub.Config) {window.MathJax.Hub.Config({SVG: {font: \"STIX-Web\"}});}</script>                <script type=\"text/javascript\">window.PlotlyConfig = {MathJaxConfig: 'local'};</script>\n",
              "        <script charset=\"utf-8\" src=\"https://cdn.plot.ly/plotly-2.35.2.min.js\"></script>                <div id=\"32ef116e-1226-4d39-ad90-200008094155\" class=\"plotly-graph-div\" style=\"height:525px; width:100%;\"></div>            <script type=\"text/javascript\">                                    window.PLOTLYENV=window.PLOTLYENV || {};                                    if (document.getElementById(\"32ef116e-1226-4d39-ad90-200008094155\")) {                    Plotly.newPlot(                        \"32ef116e-1226-4d39-ad90-200008094155\",                        [{\"hovertemplate\":\"Nota_IA=%{marker.size}\\u003cbr\\u003eLatitud=%{lat}\\u003cbr\\u003eLongitud=%{lon}\\u003cextra\\u003e\\u003c\\u002fextra\\u003e\",\"lat\":[7.1659818865177005,7.107481052415929,7.131150350419652,7.036116006118067,7.093538787598516,7.072012697848266,7.174448178674017,7.036649839341144,7.207770571000521,7.133789770405633,7.091730594460006,7.154572904699511,7.147554931852029,7.21074004799743,7.039174314588219,7.059564439378862,7.087148032353655,7.171376890419266,7.202721314315263,7.2142797299702455,7.214455098779748,7.159749319958879,7.105792323988586,7.0628422320694355,7.031408872710393,7.091106392663553,7.0338523015519705,7.163367060632086,7.051675992116411,7.061480981715095,7.193701180139282,7.109457532126426,7.1315201914723065,7.091459366601426,7.224211106527486,7.096710740034823,7.210424990604437,7.131281130329232,7.145285637591608,7.106434937670858,7.134583760802888,7.205095239121404,7.059050865638299,7.026806413391717,7.1332264933041944,7.05883106399681,7.03847469139341,7.106801582629151,7.167331135075194,7.1902134525989,7.197325376218194,7.1662743976193815,7.149739394170429,7.154655007282665,7.063184481266303,7.15737669356519,7.116298654178678,7.058731217261281,7.19448416403131,7.149343976462304,7.111912498219211,7.0375842396991155,7.220228205119048,7.186012489755382,7.038720045786944,7.125951218126596,7.068220537076612,7.221391319620058,7.158840885565854,7.08078679159557,7.063606654735988,7.0880657563424165,7.038435054242153,7.043903834827458,7.068763544824359,7.1524560613819474,7.163860876871612,7.052062131036405,7.045459842750659,7.129521760485072,7.0744475408736704,7.224406025212555,7.137205603434518,7.028844991835902,7.218474475273523,7.089958735189234,7.025955609860423,7.2126921000597415,7.083895723321119,7.170233930445482,7.055455141608792,7.105285110928897,7.101805140927761,7.069279425708691,7.032433218979979,7.042121960496017,7.123740865132491,7.1470986873739255,7.115857933340236,7.02827869124034],\"legendgroup\":\"\",\"lon\":[-73.09464576462827,-73.11463735110034,-73.12176613644328,-73.16474552865736,-73.199948866436,-73.0487055354242,-73.17210785931948,-73.05413172902708,-73.10965876431177,-73.02712320226183,-73.1434019668689,-73.13417431028954,-73.20554388326785,-73.19390131414976,-73.15736329271527,-73.05962550032923,-73.14088178342544,-73.04275635255229,-73.10864765373852,-73.10762748433741,-73.21612808830788,-73.20743123904887,-73.19140092022151,-73.03400815890086,-73.2118807232704,-73.09419786266268,-73.07226368195056,-73.18136798559614,-73.03436157485845,-73.21075793525421,-73.11815600809415,-73.13578823631082,-73.05830562454345,-73.11166692284594,-73.02027694814856,-73.11905274488076,-73.09079652724786,-73.14562791791728,-73.11695652747466,-73.07043449705449,-73.19634497661106,-73.21784063266371,-73.19108007637887,-73.02343538176045,-73.21735034969268,-73.12577239127394,-73.09174584368569,-73.13370729694365,-73.1671366490128,-73.06223842305194,-73.20122036093332,-73.15515599084205,-73.14002309210531,-73.03668324088433,-73.04509801296796,-73.05544531813527,-73.03403534426187,-73.11924826836257,-73.17880647462566,-73.21005733572564,-73.03770451467703,-73.14423551087869,-73.18465715188185,-73.19554477043465,-73.20692430473221,-73.18196863978805,-73.07850701258249,-73.10014130018037,-73.03880347706247,-73.051666002809,-73.12327016604951,-73.07951031755455,-73.04412396195188,-73.10375302986016,-73.16360596852995,-73.14334608258712,-73.19457540210028,-73.04859511275652,-73.14783410651475,-73.10660748762608,-73.15496676891776,-73.03898252652995,-73.1425455441797,-73.15092198884916,-73.02386323781249,-73.15519430041583,-73.21570952339962,-73.08938813365148,-73.17738711147135,-73.05999307283147,-73.20636619022493,-73.14897820865704,-73.16632500080777,-73.14427839422139,-73.12233109641362,-73.05690584923187,-73.21511779569676,-73.02265808432604,-73.10167582451311,-73.20433392404381],\"marker\":{\"color\":\"#636efa\",\"size\":[3,2,3,2,3,5,1,5,4,3,3,1,4,2,4,2,5,2,4,3,1,1,5,1,5,1,1,1,5,3,2,2,3,1,4,4,3,5,4,2,1,5,2,2,5,5,2,2,2,4,1,1,4,3,4,4,1,2,5,2,2,4,1,1,4,2,1,3,3,5,3,1,3,4,4,3,4,3,1,3,3,1,3,4,2,3,1,3,5,2,4,2,4,2,2,2,4,1,4,2],\"sizemode\":\"area\",\"sizeref\":0.0125},\"mode\":\"markers\",\"name\":\"\",\"showlegend\":false,\"subplot\":\"mapbox\",\"type\":\"scattermapbox\"}],                        {\"template\":{\"data\":{\"histogram2dcontour\":[{\"type\":\"histogram2dcontour\",\"colorbar\":{\"outlinewidth\":0,\"ticks\":\"\"},\"colorscale\":[[0.0,\"#0d0887\"],[0.1111111111111111,\"#46039f\"],[0.2222222222222222,\"#7201a8\"],[0.3333333333333333,\"#9c179e\"],[0.4444444444444444,\"#bd3786\"],[0.5555555555555556,\"#d8576b\"],[0.6666666666666666,\"#ed7953\"],[0.7777777777777778,\"#fb9f3a\"],[0.8888888888888888,\"#fdca26\"],[1.0,\"#f0f921\"]]}],\"choropleth\":[{\"type\":\"choropleth\",\"colorbar\":{\"outlinewidth\":0,\"ticks\":\"\"}}],\"histogram2d\":[{\"type\":\"histogram2d\",\"colorbar\":{\"outlinewidth\":0,\"ticks\":\"\"},\"colorscale\":[[0.0,\"#0d0887\"],[0.1111111111111111,\"#46039f\"],[0.2222222222222222,\"#7201a8\"],[0.3333333333333333,\"#9c179e\"],[0.4444444444444444,\"#bd3786\"],[0.5555555555555556,\"#d8576b\"],[0.6666666666666666,\"#ed7953\"],[0.7777777777777778,\"#fb9f3a\"],[0.8888888888888888,\"#fdca26\"],[1.0,\"#f0f921\"]]}],\"heatmap\":[{\"type\":\"heatmap\",\"colorbar\":{\"outlinewidth\":0,\"ticks\":\"\"},\"colorscale\":[[0.0,\"#0d0887\"],[0.1111111111111111,\"#46039f\"],[0.2222222222222222,\"#7201a8\"],[0.3333333333333333,\"#9c179e\"],[0.4444444444444444,\"#bd3786\"],[0.5555555555555556,\"#d8576b\"],[0.6666666666666666,\"#ed7953\"],[0.7777777777777778,\"#fb9f3a\"],[0.8888888888888888,\"#fdca26\"],[1.0,\"#f0f921\"]]}],\"heatmapgl\":[{\"type\":\"heatmapgl\",\"colorbar\":{\"outlinewidth\":0,\"ticks\":\"\"},\"colorscale\":[[0.0,\"#0d0887\"],[0.1111111111111111,\"#46039f\"],[0.2222222222222222,\"#7201a8\"],[0.3333333333333333,\"#9c179e\"],[0.4444444444444444,\"#bd3786\"],[0.5555555555555556,\"#d8576b\"],[0.6666666666666666,\"#ed7953\"],[0.7777777777777778,\"#fb9f3a\"],[0.8888888888888888,\"#fdca26\"],[1.0,\"#f0f921\"]]}],\"contourcarpet\":[{\"type\":\"contourcarpet\",\"colorbar\":{\"outlinewidth\":0,\"ticks\":\"\"}}],\"contour\":[{\"type\":\"contour\",\"colorbar\":{\"outlinewidth\":0,\"ticks\":\"\"},\"colorscale\":[[0.0,\"#0d0887\"],[0.1111111111111111,\"#46039f\"],[0.2222222222222222,\"#7201a8\"],[0.3333333333333333,\"#9c179e\"],[0.4444444444444444,\"#bd3786\"],[0.5555555555555556,\"#d8576b\"],[0.6666666666666666,\"#ed7953\"],[0.7777777777777778,\"#fb9f3a\"],[0.8888888888888888,\"#fdca26\"],[1.0,\"#f0f921\"]]}],\"surface\":[{\"type\":\"surface\",\"colorbar\":{\"outlinewidth\":0,\"ticks\":\"\"},\"colorscale\":[[0.0,\"#0d0887\"],[0.1111111111111111,\"#46039f\"],[0.2222222222222222,\"#7201a8\"],[0.3333333333333333,\"#9c179e\"],[0.4444444444444444,\"#bd3786\"],[0.5555555555555556,\"#d8576b\"],[0.6666666666666666,\"#ed7953\"],[0.7777777777777778,\"#fb9f3a\"],[0.8888888888888888,\"#fdca26\"],[1.0,\"#f0f921\"]]}],\"mesh3d\":[{\"type\":\"mesh3d\",\"colorbar\":{\"outlinewidth\":0,\"ticks\":\"\"}}],\"scatter\":[{\"fillpattern\":{\"fillmode\":\"overlay\",\"size\":10,\"solidity\":0.2},\"type\":\"scatter\"}],\"parcoords\":[{\"type\":\"parcoords\",\"line\":{\"colorbar\":{\"outlinewidth\":0,\"ticks\":\"\"}}}],\"scatterpolargl\":[{\"type\":\"scatterpolargl\",\"marker\":{\"colorbar\":{\"outlinewidth\":0,\"ticks\":\"\"}}}],\"bar\":[{\"error_x\":{\"color\":\"#2a3f5f\"},\"error_y\":{\"color\":\"#2a3f5f\"},\"marker\":{\"line\":{\"color\":\"#E5ECF6\",\"width\":0.5},\"pattern\":{\"fillmode\":\"overlay\",\"size\":10,\"solidity\":0.2}},\"type\":\"bar\"}],\"scattergeo\":[{\"type\":\"scattergeo\",\"marker\":{\"colorbar\":{\"outlinewidth\":0,\"ticks\":\"\"}}}],\"scatterpolar\":[{\"type\":\"scatterpolar\",\"marker\":{\"colorbar\":{\"outlinewidth\":0,\"ticks\":\"\"}}}],\"histogram\":[{\"marker\":{\"pattern\":{\"fillmode\":\"overlay\",\"size\":10,\"solidity\":0.2}},\"type\":\"histogram\"}],\"scattergl\":[{\"type\":\"scattergl\",\"marker\":{\"colorbar\":{\"outlinewidth\":0,\"ticks\":\"\"}}}],\"scatter3d\":[{\"type\":\"scatter3d\",\"line\":{\"colorbar\":{\"outlinewidth\":0,\"ticks\":\"\"}},\"marker\":{\"colorbar\":{\"outlinewidth\":0,\"ticks\":\"\"}}}],\"scattermapbox\":[{\"type\":\"scattermapbox\",\"marker\":{\"colorbar\":{\"outlinewidth\":0,\"ticks\":\"\"}}}],\"scatterternary\":[{\"type\":\"scatterternary\",\"marker\":{\"colorbar\":{\"outlinewidth\":0,\"ticks\":\"\"}}}],\"scattercarpet\":[{\"type\":\"scattercarpet\",\"marker\":{\"colorbar\":{\"outlinewidth\":0,\"ticks\":\"\"}}}],\"carpet\":[{\"aaxis\":{\"endlinecolor\":\"#2a3f5f\",\"gridcolor\":\"white\",\"linecolor\":\"white\",\"minorgridcolor\":\"white\",\"startlinecolor\":\"#2a3f5f\"},\"baxis\":{\"endlinecolor\":\"#2a3f5f\",\"gridcolor\":\"white\",\"linecolor\":\"white\",\"minorgridcolor\":\"white\",\"startlinecolor\":\"#2a3f5f\"},\"type\":\"carpet\"}],\"table\":[{\"cells\":{\"fill\":{\"color\":\"#EBF0F8\"},\"line\":{\"color\":\"white\"}},\"header\":{\"fill\":{\"color\":\"#C8D4E3\"},\"line\":{\"color\":\"white\"}},\"type\":\"table\"}],\"barpolar\":[{\"marker\":{\"line\":{\"color\":\"#E5ECF6\",\"width\":0.5},\"pattern\":{\"fillmode\":\"overlay\",\"size\":10,\"solidity\":0.2}},\"type\":\"barpolar\"}],\"pie\":[{\"automargin\":true,\"type\":\"pie\"}]},\"layout\":{\"autotypenumbers\":\"strict\",\"colorway\":[\"#636efa\",\"#EF553B\",\"#00cc96\",\"#ab63fa\",\"#FFA15A\",\"#19d3f3\",\"#FF6692\",\"#B6E880\",\"#FF97FF\",\"#FECB52\"],\"font\":{\"color\":\"#2a3f5f\"},\"hovermode\":\"closest\",\"hoverlabel\":{\"align\":\"left\"},\"paper_bgcolor\":\"white\",\"plot_bgcolor\":\"#E5ECF6\",\"polar\":{\"bgcolor\":\"#E5ECF6\",\"angularaxis\":{\"gridcolor\":\"white\",\"linecolor\":\"white\",\"ticks\":\"\"},\"radialaxis\":{\"gridcolor\":\"white\",\"linecolor\":\"white\",\"ticks\":\"\"}},\"ternary\":{\"bgcolor\":\"#E5ECF6\",\"aaxis\":{\"gridcolor\":\"white\",\"linecolor\":\"white\",\"ticks\":\"\"},\"baxis\":{\"gridcolor\":\"white\",\"linecolor\":\"white\",\"ticks\":\"\"},\"caxis\":{\"gridcolor\":\"white\",\"linecolor\":\"white\",\"ticks\":\"\"}},\"coloraxis\":{\"colorbar\":{\"outlinewidth\":0,\"ticks\":\"\"}},\"colorscale\":{\"sequential\":[[0.0,\"#0d0887\"],[0.1111111111111111,\"#46039f\"],[0.2222222222222222,\"#7201a8\"],[0.3333333333333333,\"#9c179e\"],[0.4444444444444444,\"#bd3786\"],[0.5555555555555556,\"#d8576b\"],[0.6666666666666666,\"#ed7953\"],[0.7777777777777778,\"#fb9f3a\"],[0.8888888888888888,\"#fdca26\"],[1.0,\"#f0f921\"]],\"sequentialminus\":[[0.0,\"#0d0887\"],[0.1111111111111111,\"#46039f\"],[0.2222222222222222,\"#7201a8\"],[0.3333333333333333,\"#9c179e\"],[0.4444444444444444,\"#bd3786\"],[0.5555555555555556,\"#d8576b\"],[0.6666666666666666,\"#ed7953\"],[0.7777777777777778,\"#fb9f3a\"],[0.8888888888888888,\"#fdca26\"],[1.0,\"#f0f921\"]],\"diverging\":[[0,\"#8e0152\"],[0.1,\"#c51b7d\"],[0.2,\"#de77ae\"],[0.3,\"#f1b6da\"],[0.4,\"#fde0ef\"],[0.5,\"#f7f7f7\"],[0.6,\"#e6f5d0\"],[0.7,\"#b8e186\"],[0.8,\"#7fbc41\"],[0.9,\"#4d9221\"],[1,\"#276419\"]]},\"xaxis\":{\"gridcolor\":\"white\",\"linecolor\":\"white\",\"ticks\":\"\",\"title\":{\"standoff\":15},\"zerolinecolor\":\"white\",\"automargin\":true,\"zerolinewidth\":2},\"yaxis\":{\"gridcolor\":\"white\",\"linecolor\":\"white\",\"ticks\":\"\",\"title\":{\"standoff\":15},\"zerolinecolor\":\"white\",\"automargin\":true,\"zerolinewidth\":2},\"scene\":{\"xaxis\":{\"backgroundcolor\":\"#E5ECF6\",\"gridcolor\":\"white\",\"linecolor\":\"white\",\"showbackground\":true,\"ticks\":\"\",\"zerolinecolor\":\"white\",\"gridwidth\":2},\"yaxis\":{\"backgroundcolor\":\"#E5ECF6\",\"gridcolor\":\"white\",\"linecolor\":\"white\",\"showbackground\":true,\"ticks\":\"\",\"zerolinecolor\":\"white\",\"gridwidth\":2},\"zaxis\":{\"backgroundcolor\":\"#E5ECF6\",\"gridcolor\":\"white\",\"linecolor\":\"white\",\"showbackground\":true,\"ticks\":\"\",\"zerolinecolor\":\"white\",\"gridwidth\":2}},\"shapedefaults\":{\"line\":{\"color\":\"#2a3f5f\"}},\"annotationdefaults\":{\"arrowcolor\":\"#2a3f5f\",\"arrowhead\":0,\"arrowwidth\":1},\"geo\":{\"bgcolor\":\"white\",\"landcolor\":\"#E5ECF6\",\"subunitcolor\":\"white\",\"showland\":true,\"showlakes\":true,\"lakecolor\":\"white\"},\"title\":{\"x\":0.05},\"mapbox\":{\"style\":\"light\"}}},\"mapbox\":{\"domain\":{\"x\":[0.0,1.0],\"y\":[0.0,1.0]},\"center\":{\"lon\":-73.1195,\"lat\":7.1255},\"zoom\":10,\"style\":\"open-street-map\"},\"legend\":{\"tracegroupgap\":0,\"itemsizing\":\"constant\"},\"margin\":{\"t\":60}},                        {\"responsive\": true}                    ).then(function(){\n",
              "                            \n",
              "var gd = document.getElementById('32ef116e-1226-4d39-ad90-200008094155');\n",
              "var x = new MutationObserver(function (mutations, observer) {{\n",
              "        var display = window.getComputedStyle(gd).display;\n",
              "        if (!display || display === 'none') {{\n",
              "            console.log([gd, 'removed!']);\n",
              "            Plotly.purge(gd);\n",
              "            observer.disconnect();\n",
              "        }}\n",
              "}});\n",
              "\n",
              "// Listen for the removal of the full notebook cells\n",
              "var notebookContainer = gd.closest('#notebook-container');\n",
              "if (notebookContainer) {{\n",
              "    x.observe(notebookContainer, {childList: true});\n",
              "}}\n",
              "\n",
              "// Listen for the clearing of the current output cell\n",
              "var outputEl = gd.closest('.output');\n",
              "if (outputEl) {{\n",
              "    x.observe(outputEl, {childList: true});\n",
              "}}\n",
              "\n",
              "                        })                };                            </script>        </div>\n",
              "</body>\n",
              "</html>"
            ]
          },
          "metadata": {}
        }
      ]
    },
    {
      "cell_type": "code",
      "source": [
        "\n",
        "import plotly.express as px\n",
        "\n",
        "unab_coordinates = (7.11711, -73.10501) # Example UNAB coordinates (Bucaramanga)\n",
        "df[\"Distancia_km\"] = df.apply(\n",
        "    lambda row: geodesic(unab_coordinates, (row[\"Latitud\"], row[\"Longitud\"])).kilometers, axis=1)\n",
        "\n",
        "\n",
        "fig = px.scatter_mapbox(df, lat=\"Latitud\", lon=\"Longitud\", hover_name=\"Nombre\",\n",
        "                        hover_data={\"Distancia_km\": True, \"Latitud\": False, \"Longitud\": False},\n",
        "                        zoom=10, mapbox_style=\"open-street-map\",\n",
        "                        center={\"lon\": unab_coordinates[1], \"lat\": unab_coordinates[0]},\n",
        "                        color_continuous_scale = 'plasma', # Customize marker color\n",
        "                        labels={\"Distancia_km\": \"Distancia a UNAB (km)\"})  # Custom label\n",
        "\n",
        "fig.update_traces(marker=dict(size=10)) # Customize marker size\n",
        "\n",
        "\n",
        "fig.show()\n"
      ],
      "metadata": {
        "id": "vm5qTV-KpZMu",
        "outputId": "83793ff4-3594-435a-af8a-bd07729ef236",
        "colab": {
          "base_uri": "https://localhost:8080/",
          "height": 542
        }
      },
      "execution_count": null,
      "outputs": [
        {
          "output_type": "display_data",
          "data": {
            "text/html": [
              "<html>\n",
              "<head><meta charset=\"utf-8\" /></head>\n",
              "<body>\n",
              "    <div>            <script src=\"https://cdnjs.cloudflare.com/ajax/libs/mathjax/2.7.5/MathJax.js?config=TeX-AMS-MML_SVG\"></script><script type=\"text/javascript\">if (window.MathJax && window.MathJax.Hub && window.MathJax.Hub.Config) {window.MathJax.Hub.Config({SVG: {font: \"STIX-Web\"}});}</script>                <script type=\"text/javascript\">window.PlotlyConfig = {MathJaxConfig: 'local'};</script>\n",
              "        <script charset=\"utf-8\" src=\"https://cdn.plot.ly/plotly-2.35.2.min.js\"></script>                <div id=\"d371d099-665d-4d7e-bb30-dc86d4d13459\" class=\"plotly-graph-div\" style=\"height:525px; width:100%;\"></div>            <script type=\"text/javascript\">                                    window.PLOTLYENV=window.PLOTLYENV || {};                                    if (document.getElementById(\"d371d099-665d-4d7e-bb30-dc86d4d13459\")) {                    Plotly.newPlot(                        \"d371d099-665d-4d7e-bb30-dc86d4d13459\",                        [{\"customdata\":[[5.524733205556478,7.1659818865177005,-73.09464576462827],[1.5050048353463874,7.107481052415929,-73.11463735110034],[2.4160154988901725,7.131150350419652,-73.12176613644328],[11.125822420382937,7.036116006118067,-73.16474552865736],[10.80702319650852,7.093538787598516,-73.199948866436],[7.972679980281333,7.072012697848266,-73.0487055354242],[9.75410351291848,7.174448178674017,-73.17210785931948],[10.524823390937316,7.036649839341144,-73.05413172902708],[10.03943234984667,7.207770571000521,-73.10965876431177],[8.799322218505123,7.133789770405633,-73.02712320226183],[5.085802921008246,7.091730594460006,-73.1434019668689],[5.248202278514096,7.154572904699511,-73.13417431028954],[11.604535567076722,7.147554931852029,-73.20554388326785],[14.269705345443626,7.21074004799743,-73.19390131414976],[10.37977244671553,7.039174314588219,-73.15736329271527],[8.101808725461066,7.059564439378862,-73.05962550032923],[5.165580029558651,7.087148032353655,-73.14088178342544],[9.12715910686079,7.171376890419266,-73.04275635255229],[9.47640821063058,7.202721314315263,-73.10864765373852],[10.750040055020289,7.2142797299702455,-73.10762748433741],[16.326023052707377,7.214455098779748,-73.21612808830788],[12.257076359246224,7.159749319958879,-73.20743123904887],[9.625227888748144,7.105792323988586,-73.19140092022151],[9.876459861344248,7.0628422320694355,-73.03400815890086],[15.140328291212787,7.031408872710393,-73.2118807232704],[3.113953882109407,7.091106392663553,-73.09419786266268],[9.892783006716524,7.0338523015519705,-73.07226368195056],[9.86473587329688,7.163367060632086,-73.18136798559614],[10.643416841838642,7.051675992116411,-73.03436157485845],[13.20328341050046,7.061480981715095,-73.21075793525421],[8.593899472035057,7.193701180139282,-73.11815600809415],[3.5037641193166422,7.109457532126426,-73.13578823631082],[5.399757252702697,7.1315201914723065,-73.05830562454345],[2.930507539744946,7.091459366601426,-73.11166692284594],[15.095875940661196,7.224211106527486,-73.02027694814856],[2.737878630776186,7.096710740034823,-73.11905274488076],[10.438586122353195,7.210424990604437,-73.09079652724786],[4.752715203742619,7.131281130329232,-73.14562791791728],[3.383911584153667,7.145285637591608,-73.11695652747466],[3.9978009882932133,7.106434937670858,-73.07043449705449],[10.272747989361456,7.134583760802888,-73.19634497661106],[15.811562177598079,7.205095239121404,-73.21784063266371],[11.473418190557991,7.059050865638299,-73.19108007637887],[13.451977712516912,7.026806413391717,-73.02343538176045],[12.537076156144645,7.1332264933041944,-73.21735034969268],[6.841118529547471,7.05883106399681,-73.12577239127394],[8.818966017504344,7.03847469139341,-73.09174584368569],[3.36890419652257,7.106801582629151,-73.13370729694365],[8.828503929426704,7.167331135075194,-73.1671366490128],[9.363861801521775,7.1902134525989,-73.06223842305194],[13.843201293950848,7.197325376218194,-73.20122036093332],[7.761798008039421,7.1662743976193815,-73.15515599084205],[5.289646851112134,7.149739394170429,-73.14002309210531],[8.614307243265895,7.154655007282665,-73.03668324088433],[8.909146221171776,7.063184481266303,-73.04509801296796],[7.057383911217124,7.15737669356519,-73.05544531813527],[7.840909414838224,7.116298654178678,-73.03403534426187],[6.645032723465236,7.058731217261281,-73.11924826836257],[11.81806540465689,7.19448416403131,-73.17880647462566],[12.139127995464055,7.149343976462304,-73.21005733572564],[7.457292404312667,7.111912498219211,-73.03770451467703],[9.80452047163443,7.0375842396991155,-73.14423551087869],[14.402989232792475,7.220228205119048,-73.18465715188185],[12.57269955008037,7.186012489755382,-73.19554477043465],[14.210011073019977,7.038720045786944,-73.20692430473221],[8.557385962880925,7.125951218126596,-73.18196863978805],[6.14860327676459,7.068220537076612,-73.07850701258249],[11.545166544422774,7.221391319620058,-73.10014130018037],[8.647763193813885,7.158840885565854,-73.03880347706247],[7.131903265991549,7.08078679159557,-73.051666002809],[6.251420334311743,7.063606654735988,-73.12327016604951],[4.27229856580224,7.0880657563424165,-73.07951031755455],[10.997673646487865,7.038435054242153,-73.04412396195188],[8.097144740370183,7.043903834827458,-73.10375302986016],[8.395864717575101,7.068763544824359,-73.16360596852995],[5.763068950671147,7.1524560613819474,-73.14334608258712],[11.163062807059907,7.163860876871612,-73.19457540210028],[9.518034920931791,7.052062131036405,-73.04859511275652],[9.228784679306514,7.045459842750659,-73.14783410651475],[1.3839303943110448,7.129521760485072,-73.10660748762608],[7.260724717653736,7.0744475408736704,-73.15496676891776],[13.92807211049393,7.224406025212555,-73.03898252652995],[4.704403269715759,7.137205603434518,-73.1425455441797],[11.000514769262738,7.028844991835902,-73.15092198884916],[14.352779963636612,7.218474475273523,-73.02386323781249],[6.304833602218492,7.089958735189234,-73.15519430041583],[15.849106397814364,7.025955609860423,-73.21570952339962],[10.710483448761444,7.2126921000597415,-73.08938813365148],[8.798983266658546,7.083895723321119,-73.17738711147135],[7.696958831245057,7.170233930445482,-73.05999307283147],[13.109971311918105,7.055455141608792,-73.20636619022493],[5.03008469013058,7.105285110928897,-73.14897820865704],[6.9816982786988,7.101805140927761,-73.16632500080777],[6.841011853497349,7.069279425708691,-73.14427839422139],[9.558017464120304,7.032433218979979,-73.12233109641362],[9.849701637859228,7.042121960496017,-73.05690584923187],[12.185325480774111,7.123740865132491,-73.21511779569676],[9.682607457594465,7.1470986873739255,-73.02265808432604],[0.39348661677669056,7.115857933340236,-73.10167582451311],[14.728177802475734,7.02827869124034,-73.20433392404381]],\"hovertemplate\":\"\\u003cb\\u003e%{hovertext}\\u003c\\u002fb\\u003e\\u003cbr\\u003e\\u003cbr\\u003eDistancia a UNAB (km)=%{customdata[0]}\\u003cextra\\u003e\\u003c\\u002fextra\\u003e\",\"hovertext\":[\"Estudiante0\",\"Estudiante1\",\"Estudiante2\",\"Estudiante3\",\"Estudiante4\",\"Estudiante5\",\"Estudiante6\",\"Estudiante7\",\"Estudiante8\",\"Estudiante9\",\"Estudiante10\",\"Estudiante11\",\"Estudiante12\",\"Estudiante13\",\"Estudiante14\",\"Estudiante15\",\"Estudiante16\",\"Estudiante17\",\"Estudiante18\",\"Estudiante19\",\"Estudiante20\",\"Estudiante21\",\"Estudiante22\",\"Estudiante23\",\"Estudiante24\",\"Estudiante25\",\"Estudiante26\",\"Estudiante27\",\"Estudiante28\",\"Estudiante29\",\"Estudiante30\",\"Estudiante31\",\"Estudiante32\",\"Estudiante33\",\"Estudiante34\",\"Estudiante35\",\"Estudiante36\",\"Estudiante37\",\"Estudiante38\",\"Estudiante39\",\"Estudiante40\",\"Estudiante41\",\"Estudiante42\",\"Estudiante43\",\"Estudiante44\",\"Estudiante45\",\"Estudiante46\",\"Estudiante47\",\"Estudiante48\",\"Estudiante49\",\"Estudiante50\",\"Estudiante51\",\"Estudiante52\",\"Estudiante53\",\"Estudiante54\",\"Estudiante55\",\"Estudiante56\",\"Estudiante57\",\"Estudiante58\",\"Estudiante59\",\"Estudiante60\",\"Estudiante61\",\"Estudiante62\",\"Estudiante63\",\"Estudiante64\",\"Estudiante65\",\"Estudiante66\",\"Estudiante67\",\"Estudiante68\",\"Estudiante69\",\"Estudiante70\",\"Estudiante71\",\"Estudiante72\",\"Estudiante73\",\"Estudiante74\",\"Estudiante75\",\"Estudiante76\",\"Estudiante77\",\"Estudiante78\",\"Estudiante79\",\"Estudiante80\",\"Estudiante81\",\"Estudiante82\",\"Estudiante83\",\"Estudiante84\",\"Estudiante85\",\"Estudiante86\",\"Estudiante87\",\"Estudiante88\",\"Estudiante89\",\"Estudiante90\",\"Estudiante91\",\"Estudiante92\",\"Estudiante93\",\"Estudiante94\",\"Estudiante95\",\"Estudiante96\",\"Estudiante97\",\"Estudiante98\",\"Estudiante99\"],\"lat\":[7.1659818865177005,7.107481052415929,7.131150350419652,7.036116006118067,7.093538787598516,7.072012697848266,7.174448178674017,7.036649839341144,7.207770571000521,7.133789770405633,7.091730594460006,7.154572904699511,7.147554931852029,7.21074004799743,7.039174314588219,7.059564439378862,7.087148032353655,7.171376890419266,7.202721314315263,7.2142797299702455,7.214455098779748,7.159749319958879,7.105792323988586,7.0628422320694355,7.031408872710393,7.091106392663553,7.0338523015519705,7.163367060632086,7.051675992116411,7.061480981715095,7.193701180139282,7.109457532126426,7.1315201914723065,7.091459366601426,7.224211106527486,7.096710740034823,7.210424990604437,7.131281130329232,7.145285637591608,7.106434937670858,7.134583760802888,7.205095239121404,7.059050865638299,7.026806413391717,7.1332264933041944,7.05883106399681,7.03847469139341,7.106801582629151,7.167331135075194,7.1902134525989,7.197325376218194,7.1662743976193815,7.149739394170429,7.154655007282665,7.063184481266303,7.15737669356519,7.116298654178678,7.058731217261281,7.19448416403131,7.149343976462304,7.111912498219211,7.0375842396991155,7.220228205119048,7.186012489755382,7.038720045786944,7.125951218126596,7.068220537076612,7.221391319620058,7.158840885565854,7.08078679159557,7.063606654735988,7.0880657563424165,7.038435054242153,7.043903834827458,7.068763544824359,7.1524560613819474,7.163860876871612,7.052062131036405,7.045459842750659,7.129521760485072,7.0744475408736704,7.224406025212555,7.137205603434518,7.028844991835902,7.218474475273523,7.089958735189234,7.025955609860423,7.2126921000597415,7.083895723321119,7.170233930445482,7.055455141608792,7.105285110928897,7.101805140927761,7.069279425708691,7.032433218979979,7.042121960496017,7.123740865132491,7.1470986873739255,7.115857933340236,7.02827869124034],\"legendgroup\":\"\",\"lon\":[-73.09464576462827,-73.11463735110034,-73.12176613644328,-73.16474552865736,-73.199948866436,-73.0487055354242,-73.17210785931948,-73.05413172902708,-73.10965876431177,-73.02712320226183,-73.1434019668689,-73.13417431028954,-73.20554388326785,-73.19390131414976,-73.15736329271527,-73.05962550032923,-73.14088178342544,-73.04275635255229,-73.10864765373852,-73.10762748433741,-73.21612808830788,-73.20743123904887,-73.19140092022151,-73.03400815890086,-73.2118807232704,-73.09419786266268,-73.07226368195056,-73.18136798559614,-73.03436157485845,-73.21075793525421,-73.11815600809415,-73.13578823631082,-73.05830562454345,-73.11166692284594,-73.02027694814856,-73.11905274488076,-73.09079652724786,-73.14562791791728,-73.11695652747466,-73.07043449705449,-73.19634497661106,-73.21784063266371,-73.19108007637887,-73.02343538176045,-73.21735034969268,-73.12577239127394,-73.09174584368569,-73.13370729694365,-73.1671366490128,-73.06223842305194,-73.20122036093332,-73.15515599084205,-73.14002309210531,-73.03668324088433,-73.04509801296796,-73.05544531813527,-73.03403534426187,-73.11924826836257,-73.17880647462566,-73.21005733572564,-73.03770451467703,-73.14423551087869,-73.18465715188185,-73.19554477043465,-73.20692430473221,-73.18196863978805,-73.07850701258249,-73.10014130018037,-73.03880347706247,-73.051666002809,-73.12327016604951,-73.07951031755455,-73.04412396195188,-73.10375302986016,-73.16360596852995,-73.14334608258712,-73.19457540210028,-73.04859511275652,-73.14783410651475,-73.10660748762608,-73.15496676891776,-73.03898252652995,-73.1425455441797,-73.15092198884916,-73.02386323781249,-73.15519430041583,-73.21570952339962,-73.08938813365148,-73.17738711147135,-73.05999307283147,-73.20636619022493,-73.14897820865704,-73.16632500080777,-73.14427839422139,-73.12233109641362,-73.05690584923187,-73.21511779569676,-73.02265808432604,-73.10167582451311,-73.20433392404381],\"marker\":{\"color\":\"#636efa\",\"size\":10},\"mode\":\"markers\",\"name\":\"\",\"showlegend\":false,\"subplot\":\"mapbox\",\"type\":\"scattermapbox\"}],                        {\"template\":{\"data\":{\"histogram2dcontour\":[{\"type\":\"histogram2dcontour\",\"colorbar\":{\"outlinewidth\":0,\"ticks\":\"\"},\"colorscale\":[[0.0,\"#0d0887\"],[0.1111111111111111,\"#46039f\"],[0.2222222222222222,\"#7201a8\"],[0.3333333333333333,\"#9c179e\"],[0.4444444444444444,\"#bd3786\"],[0.5555555555555556,\"#d8576b\"],[0.6666666666666666,\"#ed7953\"],[0.7777777777777778,\"#fb9f3a\"],[0.8888888888888888,\"#fdca26\"],[1.0,\"#f0f921\"]]}],\"choropleth\":[{\"type\":\"choropleth\",\"colorbar\":{\"outlinewidth\":0,\"ticks\":\"\"}}],\"histogram2d\":[{\"type\":\"histogram2d\",\"colorbar\":{\"outlinewidth\":0,\"ticks\":\"\"},\"colorscale\":[[0.0,\"#0d0887\"],[0.1111111111111111,\"#46039f\"],[0.2222222222222222,\"#7201a8\"],[0.3333333333333333,\"#9c179e\"],[0.4444444444444444,\"#bd3786\"],[0.5555555555555556,\"#d8576b\"],[0.6666666666666666,\"#ed7953\"],[0.7777777777777778,\"#fb9f3a\"],[0.8888888888888888,\"#fdca26\"],[1.0,\"#f0f921\"]]}],\"heatmap\":[{\"type\":\"heatmap\",\"colorbar\":{\"outlinewidth\":0,\"ticks\":\"\"},\"colorscale\":[[0.0,\"#0d0887\"],[0.1111111111111111,\"#46039f\"],[0.2222222222222222,\"#7201a8\"],[0.3333333333333333,\"#9c179e\"],[0.4444444444444444,\"#bd3786\"],[0.5555555555555556,\"#d8576b\"],[0.6666666666666666,\"#ed7953\"],[0.7777777777777778,\"#fb9f3a\"],[0.8888888888888888,\"#fdca26\"],[1.0,\"#f0f921\"]]}],\"heatmapgl\":[{\"type\":\"heatmapgl\",\"colorbar\":{\"outlinewidth\":0,\"ticks\":\"\"},\"colorscale\":[[0.0,\"#0d0887\"],[0.1111111111111111,\"#46039f\"],[0.2222222222222222,\"#7201a8\"],[0.3333333333333333,\"#9c179e\"],[0.4444444444444444,\"#bd3786\"],[0.5555555555555556,\"#d8576b\"],[0.6666666666666666,\"#ed7953\"],[0.7777777777777778,\"#fb9f3a\"],[0.8888888888888888,\"#fdca26\"],[1.0,\"#f0f921\"]]}],\"contourcarpet\":[{\"type\":\"contourcarpet\",\"colorbar\":{\"outlinewidth\":0,\"ticks\":\"\"}}],\"contour\":[{\"type\":\"contour\",\"colorbar\":{\"outlinewidth\":0,\"ticks\":\"\"},\"colorscale\":[[0.0,\"#0d0887\"],[0.1111111111111111,\"#46039f\"],[0.2222222222222222,\"#7201a8\"],[0.3333333333333333,\"#9c179e\"],[0.4444444444444444,\"#bd3786\"],[0.5555555555555556,\"#d8576b\"],[0.6666666666666666,\"#ed7953\"],[0.7777777777777778,\"#fb9f3a\"],[0.8888888888888888,\"#fdca26\"],[1.0,\"#f0f921\"]]}],\"surface\":[{\"type\":\"surface\",\"colorbar\":{\"outlinewidth\":0,\"ticks\":\"\"},\"colorscale\":[[0.0,\"#0d0887\"],[0.1111111111111111,\"#46039f\"],[0.2222222222222222,\"#7201a8\"],[0.3333333333333333,\"#9c179e\"],[0.4444444444444444,\"#bd3786\"],[0.5555555555555556,\"#d8576b\"],[0.6666666666666666,\"#ed7953\"],[0.7777777777777778,\"#fb9f3a\"],[0.8888888888888888,\"#fdca26\"],[1.0,\"#f0f921\"]]}],\"mesh3d\":[{\"type\":\"mesh3d\",\"colorbar\":{\"outlinewidth\":0,\"ticks\":\"\"}}],\"scatter\":[{\"fillpattern\":{\"fillmode\":\"overlay\",\"size\":10,\"solidity\":0.2},\"type\":\"scatter\"}],\"parcoords\":[{\"type\":\"parcoords\",\"line\":{\"colorbar\":{\"outlinewidth\":0,\"ticks\":\"\"}}}],\"scatterpolargl\":[{\"type\":\"scatterpolargl\",\"marker\":{\"colorbar\":{\"outlinewidth\":0,\"ticks\":\"\"}}}],\"bar\":[{\"error_x\":{\"color\":\"#2a3f5f\"},\"error_y\":{\"color\":\"#2a3f5f\"},\"marker\":{\"line\":{\"color\":\"#E5ECF6\",\"width\":0.5},\"pattern\":{\"fillmode\":\"overlay\",\"size\":10,\"solidity\":0.2}},\"type\":\"bar\"}],\"scattergeo\":[{\"type\":\"scattergeo\",\"marker\":{\"colorbar\":{\"outlinewidth\":0,\"ticks\":\"\"}}}],\"scatterpolar\":[{\"type\":\"scatterpolar\",\"marker\":{\"colorbar\":{\"outlinewidth\":0,\"ticks\":\"\"}}}],\"histogram\":[{\"marker\":{\"pattern\":{\"fillmode\":\"overlay\",\"size\":10,\"solidity\":0.2}},\"type\":\"histogram\"}],\"scattergl\":[{\"type\":\"scattergl\",\"marker\":{\"colorbar\":{\"outlinewidth\":0,\"ticks\":\"\"}}}],\"scatter3d\":[{\"type\":\"scatter3d\",\"line\":{\"colorbar\":{\"outlinewidth\":0,\"ticks\":\"\"}},\"marker\":{\"colorbar\":{\"outlinewidth\":0,\"ticks\":\"\"}}}],\"scattermapbox\":[{\"type\":\"scattermapbox\",\"marker\":{\"colorbar\":{\"outlinewidth\":0,\"ticks\":\"\"}}}],\"scatterternary\":[{\"type\":\"scatterternary\",\"marker\":{\"colorbar\":{\"outlinewidth\":0,\"ticks\":\"\"}}}],\"scattercarpet\":[{\"type\":\"scattercarpet\",\"marker\":{\"colorbar\":{\"outlinewidth\":0,\"ticks\":\"\"}}}],\"carpet\":[{\"aaxis\":{\"endlinecolor\":\"#2a3f5f\",\"gridcolor\":\"white\",\"linecolor\":\"white\",\"minorgridcolor\":\"white\",\"startlinecolor\":\"#2a3f5f\"},\"baxis\":{\"endlinecolor\":\"#2a3f5f\",\"gridcolor\":\"white\",\"linecolor\":\"white\",\"minorgridcolor\":\"white\",\"startlinecolor\":\"#2a3f5f\"},\"type\":\"carpet\"}],\"table\":[{\"cells\":{\"fill\":{\"color\":\"#EBF0F8\"},\"line\":{\"color\":\"white\"}},\"header\":{\"fill\":{\"color\":\"#C8D4E3\"},\"line\":{\"color\":\"white\"}},\"type\":\"table\"}],\"barpolar\":[{\"marker\":{\"line\":{\"color\":\"#E5ECF6\",\"width\":0.5},\"pattern\":{\"fillmode\":\"overlay\",\"size\":10,\"solidity\":0.2}},\"type\":\"barpolar\"}],\"pie\":[{\"automargin\":true,\"type\":\"pie\"}]},\"layout\":{\"autotypenumbers\":\"strict\",\"colorway\":[\"#636efa\",\"#EF553B\",\"#00cc96\",\"#ab63fa\",\"#FFA15A\",\"#19d3f3\",\"#FF6692\",\"#B6E880\",\"#FF97FF\",\"#FECB52\"],\"font\":{\"color\":\"#2a3f5f\"},\"hovermode\":\"closest\",\"hoverlabel\":{\"align\":\"left\"},\"paper_bgcolor\":\"white\",\"plot_bgcolor\":\"#E5ECF6\",\"polar\":{\"bgcolor\":\"#E5ECF6\",\"angularaxis\":{\"gridcolor\":\"white\",\"linecolor\":\"white\",\"ticks\":\"\"},\"radialaxis\":{\"gridcolor\":\"white\",\"linecolor\":\"white\",\"ticks\":\"\"}},\"ternary\":{\"bgcolor\":\"#E5ECF6\",\"aaxis\":{\"gridcolor\":\"white\",\"linecolor\":\"white\",\"ticks\":\"\"},\"baxis\":{\"gridcolor\":\"white\",\"linecolor\":\"white\",\"ticks\":\"\"},\"caxis\":{\"gridcolor\":\"white\",\"linecolor\":\"white\",\"ticks\":\"\"}},\"coloraxis\":{\"colorbar\":{\"outlinewidth\":0,\"ticks\":\"\"}},\"colorscale\":{\"sequential\":[[0.0,\"#0d0887\"],[0.1111111111111111,\"#46039f\"],[0.2222222222222222,\"#7201a8\"],[0.3333333333333333,\"#9c179e\"],[0.4444444444444444,\"#bd3786\"],[0.5555555555555556,\"#d8576b\"],[0.6666666666666666,\"#ed7953\"],[0.7777777777777778,\"#fb9f3a\"],[0.8888888888888888,\"#fdca26\"],[1.0,\"#f0f921\"]],\"sequentialminus\":[[0.0,\"#0d0887\"],[0.1111111111111111,\"#46039f\"],[0.2222222222222222,\"#7201a8\"],[0.3333333333333333,\"#9c179e\"],[0.4444444444444444,\"#bd3786\"],[0.5555555555555556,\"#d8576b\"],[0.6666666666666666,\"#ed7953\"],[0.7777777777777778,\"#fb9f3a\"],[0.8888888888888888,\"#fdca26\"],[1.0,\"#f0f921\"]],\"diverging\":[[0,\"#8e0152\"],[0.1,\"#c51b7d\"],[0.2,\"#de77ae\"],[0.3,\"#f1b6da\"],[0.4,\"#fde0ef\"],[0.5,\"#f7f7f7\"],[0.6,\"#e6f5d0\"],[0.7,\"#b8e186\"],[0.8,\"#7fbc41\"],[0.9,\"#4d9221\"],[1,\"#276419\"]]},\"xaxis\":{\"gridcolor\":\"white\",\"linecolor\":\"white\",\"ticks\":\"\",\"title\":{\"standoff\":15},\"zerolinecolor\":\"white\",\"automargin\":true,\"zerolinewidth\":2},\"yaxis\":{\"gridcolor\":\"white\",\"linecolor\":\"white\",\"ticks\":\"\",\"title\":{\"standoff\":15},\"zerolinecolor\":\"white\",\"automargin\":true,\"zerolinewidth\":2},\"scene\":{\"xaxis\":{\"backgroundcolor\":\"#E5ECF6\",\"gridcolor\":\"white\",\"linecolor\":\"white\",\"showbackground\":true,\"ticks\":\"\",\"zerolinecolor\":\"white\",\"gridwidth\":2},\"yaxis\":{\"backgroundcolor\":\"#E5ECF6\",\"gridcolor\":\"white\",\"linecolor\":\"white\",\"showbackground\":true,\"ticks\":\"\",\"zerolinecolor\":\"white\",\"gridwidth\":2},\"zaxis\":{\"backgroundcolor\":\"#E5ECF6\",\"gridcolor\":\"white\",\"linecolor\":\"white\",\"showbackground\":true,\"ticks\":\"\",\"zerolinecolor\":\"white\",\"gridwidth\":2}},\"shapedefaults\":{\"line\":{\"color\":\"#2a3f5f\"}},\"annotationdefaults\":{\"arrowcolor\":\"#2a3f5f\",\"arrowhead\":0,\"arrowwidth\":1},\"geo\":{\"bgcolor\":\"white\",\"landcolor\":\"#E5ECF6\",\"subunitcolor\":\"white\",\"showland\":true,\"showlakes\":true,\"lakecolor\":\"white\"},\"title\":{\"x\":0.05},\"mapbox\":{\"style\":\"light\"}}},\"mapbox\":{\"domain\":{\"x\":[0.0,1.0],\"y\":[0.0,1.0]},\"center\":{\"lon\":-73.10501,\"lat\":7.11711},\"zoom\":10,\"style\":\"open-street-map\"},\"legend\":{\"tracegroupgap\":0},\"margin\":{\"t\":60}},                        {\"responsive\": true}                    ).then(function(){\n",
              "                            \n",
              "var gd = document.getElementById('d371d099-665d-4d7e-bb30-dc86d4d13459');\n",
              "var x = new MutationObserver(function (mutations, observer) {{\n",
              "        var display = window.getComputedStyle(gd).display;\n",
              "        if (!display || display === 'none') {{\n",
              "            console.log([gd, 'removed!']);\n",
              "            Plotly.purge(gd);\n",
              "            observer.disconnect();\n",
              "        }}\n",
              "}});\n",
              "\n",
              "// Listen for the removal of the full notebook cells\n",
              "var notebookContainer = gd.closest('#notebook-container');\n",
              "if (notebookContainer) {{\n",
              "    x.observe(notebookContainer, {childList: true});\n",
              "}}\n",
              "\n",
              "// Listen for the clearing of the current output cell\n",
              "var outputEl = gd.closest('.output');\n",
              "if (outputEl) {{\n",
              "    x.observe(outputEl, {childList: true});\n",
              "}}\n",
              "\n",
              "                        })                };                            </script>        </div>\n",
              "</body>\n",
              "</html>"
            ]
          },
          "metadata": {}
        }
      ]
    }
  ]
}