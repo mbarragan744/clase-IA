{
  "nbformat": 4,
  "nbformat_minor": 0,
  "metadata": {
    "colab": {
      "provenance": [],
      "include_colab_link": true
    },
    "kernelspec": {
      "name": "python3",
      "display_name": "Python 3"
    },
    "language_info": {
      "name": "python"
    }
  },
  "cells": [
    {
      "cell_type": "markdown",
      "metadata": {
        "id": "view-in-github",
        "colab_type": "text"
      },
      "source": [
        "<a href=\"https://colab.research.google.com/github/mbarragan744/clase-IA/blob/main/EDA.ipynb\" target=\"_parent\"><img src=\"https://colab.research.google.com/assets/colab-badge.svg\" alt=\"Open In Colab\"/></a>"
      ]
    },
    {
      "cell_type": "markdown",
      "source": [
        "# CUADERNO DE PRACTICAS DE TIPOS DE DATOS\n",
        "\n",
        "**dataframe:** estructuras de datos de dos dimensiones (rectangulares) que pueden contener datos de diferentes tipos, por lo tanto, son heterogéneas"
      ],
      "metadata": {
        "id": "IujSBZ2DTLrP"
      }
    },
    {
      "cell_type": "code",
      "source": [
        "import pandas as pd\n",
        "import numpy as np\n"
      ],
      "metadata": {
        "id": "vWXU8GuYTO4d"
      },
      "execution_count": 151,
      "outputs": []
    },
    {
      "cell_type": "code",
      "source": [
        "# prompt: crear un dataframe df cargando en https://raw.githubusercontent.com/adiacla/bigdata/refs/heads/master/vivienda_clasificacion.csv\n",
        "\n",
        "import pandas as pd\n",
        "import matplotlib.pyplot as plt\n",
        "import numpy as np\n",
        "\n",
        "url = 'https://raw.githubusercontent.com/adiacla/bigdata/refs/heads/master/vivienda_clasificacion.csv'\n",
        "df = pd.read_csv('https://raw.githubusercontent.com/adiacla/bigdata/refs/heads/master/vivienda_clasificacion.csv')\n",
        "df\n"
      ],
      "metadata": {
        "id": "rRn2y4ZkUZil"
      },
      "execution_count": null,
      "outputs": []
    },
    {
      "cell_type": "code",
      "source": [],
      "metadata": {
        "id": "yCAs-dDP91EB"
      },
      "execution_count": null,
      "outputs": []
    },
    {
      "cell_type": "code",
      "source": [
        "\n",
        "\n",
        "# Count the occurrences of each room type\n",
        "room_counts = df['habitaciones'].value_counts()\n",
        "\n",
        "# Create the bar plot\n",
        "plt.figure(figsize=(10, 6))  # Adjust figure size if needed\n",
        "plt.bar(room_counts.index, room_counts.values)\n",
        "plt.xlabel(\"Frecuencia de habitaciones\")\n",
        "plt.ylabel(\"Frecuencia-Cantidad\")\n",
        "plt.title(\"Distribución de habitaciones de las viviendas\")\n",
        "plt.xticks(room_counts.index) # Ensure all room counts are displayed on x-axis\n",
        "plt.show()\n"
      ],
      "metadata": {
        "id": "FpbgMoBvYXMr"
      },
      "execution_count": null,
      "outputs": []
    },
    {
      "cell_type": "code",
      "source": [
        "df['habitaciones'].value_counts()"
      ],
      "metadata": {
        "id": "ZRjf47apZg2C"
      },
      "execution_count": null,
      "outputs": []
    },
    {
      "cell_type": "code",
      "source": [
        "df.size, df.shape"
      ],
      "metadata": {
        "id": "jWwu6wAbZxw4"
      },
      "execution_count": null,
      "outputs": []
    },
    {
      "cell_type": "code",
      "source": [
        "df.info()"
      ],
      "metadata": {
        "id": "Lyxd_ZIfaIRR"
      },
      "execution_count": null,
      "outputs": []
    },
    {
      "cell_type": "code",
      "source": [
        "# prompt: cual es el promedio de habitacion entre todas las casas (por medio de codigo)\n",
        "\n",
        "# Calculate the average number of rooms\n",
        "average_rooms = df['habitaciones'].mean()\n",
        "\n",
        "print(f\"The average number of rooms across all houses is: {average_rooms}\")\n"
      ],
      "metadata": {
        "id": "YjcomY1IaxcX"
      },
      "execution_count": null,
      "outputs": []
    },
    {
      "cell_type": "code",
      "source": [
        "df.habitaciones.median()"
      ],
      "metadata": {
        "id": "ugicU0uJbdnJ"
      },
      "execution_count": null,
      "outputs": []
    },
    {
      "cell_type": "code",
      "source": [
        "df.describe()"
      ],
      "metadata": {
        "id": "E0dmjlqKbzrP"
      },
      "execution_count": null,
      "outputs": []
    },
    {
      "cell_type": "code",
      "source": [
        "# prompt: dame la caja de bigotes de Area_parqeo\n",
        "\n",
        "import pandas as pd\n",
        "import matplotlib.pyplot as plt\n",
        "\n",
        "# Assuming 'Area_parqeo' is a column in your DataFrame 'df'\n",
        "# If not, replace 'Area_parqeo' with the actual column name\n",
        "\n",
        "plt.figure(figsize=(8, 6))\n",
        "df.boxplot(column=['Area_parqeo'])\n",
        "plt.title('Boxplot of Area_parqeo')\n",
        "plt.ylabel('Area_parqeo')\n",
        "plt.show()\n"
      ],
      "metadata": {
        "id": "gVkfbbyIca52"
      },
      "execution_count": null,
      "outputs": []
    },
    {
      "cell_type": "markdown",
      "source": [
        "**Outlier:** datos anormales.\n",
        "\n",
        "En estadística, tales como muestras estratificadas, un valor atípico (en inglés outlier) es una observación que es numéricamente distante del resto de los datos."
      ],
      "metadata": {
        "id": "Kf0_NoGSdJh3"
      }
    },
    {
      "cell_type": "code",
      "source": [
        "# prompt: borrar todos los registros que sean superior a 31 en Area_parqeo y dejarlo en el mismo df\n",
        "\n",
        "import pandas as pd\n",
        "import numpy as np\n",
        "import matplotlib.pyplot as plt\n",
        "\n",
        "url = 'https://raw.githubusercontent.com/adiacla/bigdata/refs/heads/master/vivienda_clasificacion.csv'\n",
        "df = pd.read_csv('https://raw.githubusercontent.com/adiacla/bigdata/refs/heads/master/vivienda_clasificacion.csv')\n",
        "\n",
        "# Filter out rows where 'Area_parqeo' is greater than 31\n",
        "df = df[df['Area_parqeo'] <= 31]\n"
      ],
      "metadata": {
        "id": "4GQDZ2Vif39b"
      },
      "execution_count": null,
      "outputs": []
    },
    {
      "cell_type": "code",
      "source": [
        "plt.figure(figsize=(8, 6))\n",
        "df.boxplot(column=['Area_parqeo'])\n",
        "plt.title('Boxplot of Area_parqeo')\n",
        "plt.ylabel('Area_parqeo')\n",
        "plt.show()"
      ],
      "metadata": {
        "id": "NcpVPKsXgkRL"
      },
      "execution_count": null,
      "outputs": []
    },
    {
      "cell_type": "code",
      "source": [
        "df.shape"
      ],
      "metadata": {
        "id": "dtYAke6vgnbz"
      },
      "execution_count": null,
      "outputs": []
    },
    {
      "cell_type": "code",
      "source": [
        "df.isnull().sum()"
      ],
      "metadata": {
        "id": "v8CFbEs3grhj"
      },
      "execution_count": null,
      "outputs": []
    },
    {
      "cell_type": "markdown",
      "source": [
        "Los libros de donde el profesor se va guiando estan es el teams, en archivos, Documentos/General/Notebooks/CuadernosCurso"
      ],
      "metadata": {
        "id": "5GuDRe6VOBXQ"
      }
    },
    {
      "cell_type": "markdown",
      "source": [
        "los datos unicos no son importantes,por lo que su columna se puede eliminar.\n",
        "\n",
        "datos inventados-> sinteticos\n",
        "\n",
        "el describe ayuda a tener balanceada la data\n",
        "df.describe(include=\"object\")\n",
        "\n"
      ],
      "metadata": {
        "id": "iJiP8bwCQYlO"
      }
    },
    {
      "cell_type": "code",
      "source": [
        "import pandas as pd\n",
        "import numpy as np\n",
        "\n",
        "# Crear un dataset simulado\n",
        "np.random.seed(42)\n",
        "data = {\n",
        "    \"Estudiante\": [f\"E{i}\" for i in range(1, 21)],\n",
        "    \"Edad\": np.random.randint(18, 25, size=20),\n",
        "    \"Género\": np.random.choice([\"Femenino\", \"Masculino\"], size=20),\n",
        "    \"Nota_Matemáticas\": np.random.normal(70, 10, size=20).round(1),\n",
        "    \"Nota_Ciencias\": np.random.normal(75, 12, size=20).round(1),\n",
        "    \"Nota_Inglés\": np.random.normal(65, 15, size=20).round(1),\n",
        "}\n"
      ],
      "metadata": {
        "id": "ul23s7-YRiCm"
      },
      "execution_count": null,
      "outputs": []
    },
    {
      "cell_type": "code",
      "source": [
        "type(data)"
      ],
      "metadata": {
        "id": "-i2wCI6LRnKV"
      },
      "execution_count": null,
      "outputs": []
    },
    {
      "cell_type": "code",
      "source": [
        "df = pd.DataFrame(data)\n",
        "\n",
        "# Mostrar el dataset\n",
        "df.head()"
      ],
      "metadata": {
        "id": "C1avRd1fRpH2"
      },
      "execution_count": null,
      "outputs": []
    },
    {
      "cell_type": "code",
      "source": [
        "df.dtypes"
      ],
      "metadata": {
        "id": "EXNxi92jRs7W"
      },
      "execution_count": null,
      "outputs": []
    },
    {
      "cell_type": "code",
      "source": [
        "# Descripción estadística\n",
        "print(\"Descripción estadística:\")\n",
        "print(df.describe())"
      ],
      "metadata": {
        "id": "cjFEwciYRvBX"
      },
      "execution_count": null,
      "outputs": []
    },
    {
      "cell_type": "code",
      "source": [
        "df.describe(include=\"object\")"
      ],
      "metadata": {
        "id": "52cnU3knRw02"
      },
      "execution_count": null,
      "outputs": []
    },
    {
      "cell_type": "code",
      "source": [
        "df[\"Género\"].value_counts()"
      ],
      "metadata": {
        "id": "6V0K1QYFR0FN"
      },
      "execution_count": null,
      "outputs": []
    },
    {
      "cell_type": "code",
      "source": [
        "df.Género.unique()"
      ],
      "metadata": {
        "id": "dk-uKHUSR4ju"
      },
      "execution_count": null,
      "outputs": []
    },
    {
      "cell_type": "markdown",
      "source": [
        "muestra la cardinalidad, los diferentes valores unicos que puede tomar un feature\n",
        "\n",
        "\n",
        "en PYTHON CHARTS aparecen ls librerias que se pueden usar y paletas de colores"
      ],
      "metadata": {
        "id": "q0Qr4rgPSCI1"
      }
    },
    {
      "cell_type": "code",
      "source": [
        "import seaborn as sns\n",
        "import matplotlib.pyplot as plt\n",
        "\n",
        "# Histograma de edades\n",
        "sns.histplot(df['Edad'], bins=6, kde=True, color='skyblue')\n",
        "plt.title(\"Distribución de Edad\")\n",
        "plt.show()\n",
        "\n",
        "# Gráfico de dispersión: Nota_Matemáticas vs Nota_Ciencias\n",
        "sns.scatterplot(x=\"Nota_Matemáticas\", y=\"Nota_Ciencias\", hue=\"Género\", data=df)\n",
        "plt.title(\"Relación entre Matemáticas y Ciencias\")\n",
        "plt.show()\n",
        "\n",
        "# Boxplot de notas por género\n",
        "sns.boxplot(x=\"Género\", y=\"Nota_Matemáticas\", data=df)\n",
        "plt.title(\"Distribución de Notas de Matemáticas por Género\")\n",
        "plt.show()"
      ],
      "metadata": {
        "id": "LnJjK_qDTS6E"
      },
      "execution_count": null,
      "outputs": []
    },
    {
      "cell_type": "markdown",
      "source": [
        "en colab, el plt.show abre ventana con los datos, pero se debe poner uno por grafica para que no salgan uno encima de otro.\n",
        "\n",
        "tomar en cuenta la coleracion causa-efecto\n",
        "correlacion espuria: vinculo aparente entre dos eventos que se demuestren invalido, es decir, no tienen nada que ver. ejemplo: vehiculos japoneses vendidos y suicidios por choque vehicular\n",
        "\n",
        "outliers: datos anomalos\n",
        "curtosis:mide la altitud o agudeza de los picos de una distribucion de probabilidad.\n",
        "\n",
        "tipos:\n",
        "\n",
        "mesocurtica- no tiene picos extremos ni colas mas gruesas, tiene un valor cercano a 3\n",
        "\n",
        "leptocurtica- tiene un pico mas alto y colas mas delgadas. la curtosis es mayor a 3\n",
        "\n",
        "platicurtica: la distribucion tiene un pico mas bajo y colas mas gruesas, es mas \"achatada\". la curtosis es menor a 3\n",
        "\n",
        "\n",
        "asimetria:"
      ],
      "metadata": {
        "id": "j5U5Wd3DTuS0"
      }
    },
    {
      "cell_type": "code",
      "source": [
        "import pandas as pd\n",
        "import numpy as np\n",
        "\n",
        "# Crear un dataset simulado\n",
        "np.random.seed(42)\n",
        "data = {\n",
        "    \"Estudiante\": [f\"E{i}\" for i in range(1, 21)],\n",
        "    \"Edad\": np.random.randint(18, 25, size=20),\n",
        "    \"Género\": np.random.choice([\"Femenino\", \"Masculino\"], size=20),\n",
        "    \"Nota_Matemáticas\": np.random.normal(70, 10, size=20).round(1),\n",
        "    \"Nota_Ciencias\": np.random.normal(75, 12, size=20).round(1),\n",
        "    \"Nota_Inglés\": np.random.normal(65, 15, size=20).round(1),\n",
        "}\n",
        "df = pd.DataFrame(data)\n",
        "df"
      ],
      "metadata": {
        "id": "ePLjw6b2XkNw"
      },
      "execution_count": null,
      "outputs": []
    },
    {
      "cell_type": "code",
      "source": [
        "# Valores únicos de \"Edad\"\n",
        "valores_unicos_edad = df[\"Edad\"].unique()\n",
        "cantidad_unica_edad = df[\"Edad\"].nunique()\n",
        "\n",
        "print(f\"Valores únicos en 'Edad': {valores_unicos_edad}\")\n",
        "print(f\"Cantidad de valores únicos en 'Edad': {cantidad_unica_edad}\")"
      ],
      "metadata": {
        "id": "hXujtvWsZFFP"
      },
      "execution_count": null,
      "outputs": []
    },
    {
      "cell_type": "code",
      "source": [
        "df[df['Edad']>21].iloc[:,[0,5]]\n",
        "#mostrar a los estuantes mayores de 21 años y las notas de ingles\n"
      ],
      "metadata": {
        "id": "YTxWJtD6ZN0I"
      },
      "execution_count": null,
      "outputs": []
    },
    {
      "cell_type": "code",
      "source": [
        "# Conteo de edades\n",
        "edad_counts = df[\"Edad\"].value_counts()\n",
        "edad_counts"
      ],
      "metadata": {
        "id": "uYmV7QwUaLwn"
      },
      "execution_count": null,
      "outputs": []
    },
    {
      "cell_type": "code",
      "source": [
        "sns.barplot(x=edad_counts.index, y=edad_counts.values, palette=\"muted\")\n",
        "plt.title(\"Frecuencia de Edades\")\n",
        "plt.xlabel(\"Edad\")\n",
        "plt.ylabel(\"Frecuencia\")\n",
        "plt.show()"
      ],
      "metadata": {
        "id": "E-pBOaY8a0SO"
      },
      "execution_count": null,
      "outputs": []
    },
    {
      "cell_type": "code",
      "source": [
        "# Crear boxplots para las tres asignaturas\n",
        "sns.boxplot(data=df[[\"Nota_Matemáticas\", \"Nota_Ciencias\", \"Nota_Inglés\"]], palette=\"coolwarm\")\n",
        "plt.title(\"Resumen de Notas\")\n",
        "plt.xlabel(\"Asignaturas\")\n",
        "plt.ylabel(\"Calificaciones\")\n",
        "plt.show()\n"
      ],
      "metadata": {
        "id": "3g1aJoSCcxQU"
      },
      "execution_count": null,
      "outputs": []
    },
    {
      "cell_type": "code",
      "source": [
        "# prompt: modificar el valor del estudiante de la fila 9, es E10 , y la nota_ciencias es 100\n",
        "df.loc[df.index[9], 'Nota_Ciencias'] = 100\n",
        "\n",
        "df.iloc[9]\n"
      ],
      "metadata": {
        "id": "VJh05krIcWQd"
      },
      "execution_count": null,
      "outputs": []
    },
    {
      "cell_type": "code",
      "source": [
        "print(\"Información del dataset:\")\n",
        "print(df.info())"
      ],
      "metadata": {
        "id": "M4Txsdgic22F"
      },
      "execution_count": null,
      "outputs": []
    },
    {
      "cell_type": "code",
      "source": [
        "valores_nulos = df.isnull().sum()\n",
        "\n",
        "print(\"Valores nulos por columna:\")\n",
        "print(valores_nulos)"
      ],
      "metadata": {
        "id": "RV2neziSeeJs"
      },
      "execution_count": null,
      "outputs": []
    },
    {
      "cell_type": "code",
      "source": [
        "promedios_por_genero = df.groupby(\"Género\")[[\"Nota_Matemáticas\", \"Nota_Ciencias\", \"Nota_Inglés\"]].mean()\n",
        "\n",
        "print(\"Promedio de notas por género:\")\n",
        "print(promedios_por_genero)"
      ],
      "metadata": {
        "id": "YeC5OIhje4nL"
      },
      "execution_count": null,
      "outputs": []
    },
    {
      "cell_type": "code",
      "source": [
        "# Gráfico de barras apiladas para promedios por género\n",
        "promedios_por_genero.plot(kind=\"bar\", figsize=(8, 5), colormap=\"viridis\")\n",
        "plt.title(\"Promedio de Notas por Género\")\n",
        "plt.xlabel(\"Género\")\n",
        "plt.ylabel(\"Promedio\")\n",
        "plt.legend(title=\"Asignatura\")\n",
        "plt.show()\n"
      ],
      "metadata": {
        "id": "mI2Ldl3vfL9y"
      },
      "execution_count": null,
      "outputs": []
    },
    {
      "cell_type": "code",
      "source": [
        "# Seleccionar variables numéricas (int y float)\n",
        "variables_numericas = df.select_dtypes(include=[\"int\", \"float\"])\n",
        "\n",
        "# Calcular la matriz de correlación\n",
        "correlaciones = variables_numericas.corr()\n",
        "\n",
        "# Imprimir la matriz de correlación\n",
        "print(\"Matriz de correlación:\")\n",
        "print(correlaciones)"
      ],
      "metadata": {
        "id": "mFECloYXflts"
      },
      "execution_count": null,
      "outputs": []
    },
    {
      "cell_type": "markdown",
      "source": [
        "correlacion\n",
        "\n",
        "igual a 1-> hay correlacion\n",
        "igual a -1-> hay correlacion inversa\n",
        "igual a 0-> no hay correlacion\n",
        "igual a 0.5 o -0.5-> hay baja correlacion\n",
        "\n",
        "cuando la correlacion supera el 80% o 0.8, una de las variables se borra, con la escepcion de que el dueño del conocimiento no la deje borrar. se quita la que menor varianza tenga\n",
        "\n",
        "\n",
        "\n"
      ],
      "metadata": {
        "id": "mzseM4Lbfv5a"
      }
    },
    {
      "cell_type": "code",
      "source": [
        "import pandas as pd\n",
        "import seaborn as sns\n",
        "import matplotlib.pyplot as plt\n",
        "\n",
        "# Crear un dataset simulado (asegúrate de tener este paso antes si no lo tienes)\n",
        "np.random.seed(42)\n",
        "data = {\n",
        "    \"Estudiante\": [f\"E{i}\" for i in range(1, 21)],\n",
        "    \"Edad\": np.random.randint(18, 25, size=20),\n",
        "    \"Género\": np.random.choice([\"Femenino\", \"Masculino\"], size=20),\n",
        "    \"Nota_Matemáticas\": np.random.normal(70, 10, size=20).round(1),\n",
        "    \"Nota_Ciencias\": np.random.normal(75, 12, size=20).round(1),\n",
        "    \"Nota_Inglés\": np.random.normal(65, 15, size=20).round(1),\n",
        "}\n",
        "df = pd.DataFrame(data)\n",
        "\n",
        "# Seleccionar solo las variables numéricas (int y float)\n",
        "variables_numericas = df.select_dtypes(include=[\"int\", \"float\"])\n",
        "\n",
        "# Calcular la matriz de correlación\n",
        "correlaciones = variables_numericas.corr()\n",
        "\n",
        "# Crear el mapa de calor\n",
        "sns.heatmap(correlaciones, annot=True, cmap=\"coolwarm\", fmt=\".2f\")\n",
        "\n",
        "# Añadir título al gráfico\n",
        "plt.title(\"Mapa de Calor de Correlaciones\")\n",
        "\n",
        "# Mostrar el gráfico\n",
        "plt.show()"
      ],
      "metadata": {
        "id": "XPoB1J94gvZ6"
      },
      "execution_count": null,
      "outputs": []
    },
    {
      "cell_type": "code",
      "source": [
        "# Añadir columna indicando si aprobó matemáticas (nota >= 60)\n",
        "df[\"Aprobado_Matemáticas\"] = df[\"Nota_Matemáticas\"].apply(lambda x: \"Sí\" if x >= 60 else \"No\")\n",
        "\n",
        "# Conteo de aprobaciones\n",
        "aprobaciones = df[\"Aprobado_Matemáticas\"].value_counts()\n",
        "\n",
        "print(\"Conteo de aprobaciones en matemáticas:\")\n",
        "print(aprobaciones)"
      ],
      "metadata": {
        "id": "QD4bX8k-g7_6"
      },
      "execution_count": null,
      "outputs": []
    },
    {
      "cell_type": "code",
      "source": [
        "# Gráfico circular para aprobaciones\n",
        "aprobaciones.plot(kind=\"pie\", autopct=\"%1.1f%%\", colors=[\"lightgreen\", \"salmon\"], startangle=90)\n",
        "plt.title(\"Porcentaje de Aprobaciones en Matemáticas\")\n",
        "plt.ylabel(\"\")  # Ocultar el label del eje Y\n",
        "plt.show()\n",
        "#se utiliza Pandas para mostrar la grafica"
      ],
      "metadata": {
        "id": "FBH5ttTEg-bC"
      },
      "execution_count": null,
      "outputs": []
    },
    {
      "cell_type": "code",
      "source": [
        "# prompt: crear un dataframe que lea el siguiente link https://raw.githubusercontent.com/adiacla/bigdata/refs/heads/master/Valor_vivienda y me lo muestre en una sola tabla\n",
        "\n",
        "import pandas as pd\n",
        "\n",
        "url = 'https://raw.githubusercontent.com/adiacla/bigdata/refs/heads/master/Valor_vivienda'\n",
        "df = pd.read_csv(url)\n",
        "df.head()\n"
      ],
      "metadata": {
        "id": "TKGS8dcuhfUx"
      },
      "execution_count": null,
      "outputs": []
    },
    {
      "cell_type": "code",
      "source": [
        "df.dtypes"
      ],
      "metadata": {
        "id": "wf5u2CGnjnkS"
      },
      "execution_count": null,
      "outputs": []
    },
    {
      "cell_type": "code",
      "source": [
        "# prompt: contar la cantidad de datos del df\n",
        "\n",
        "# Get the number of rows and columns\n",
        "rows, cols = df.shape\n",
        "print(f\"Number of rows: {rows}\")\n",
        "print(f\"Number of columns: {cols}\")\n",
        "\n",
        "# Total number of data points\n",
        "total_data_points = df.size\n",
        "print(f\"Total number of data points: {total_data_points}\")\n"
      ],
      "metadata": {
        "id": "OTQq7lYjk2YW"
      },
      "execution_count": null,
      "outputs": []
    },
    {
      "cell_type": "code",
      "source": [
        "# prompt: generame graficos para cada columna, una grafica boxplots\n",
        "\n",
        "# Assuming 'df' is your DataFrame and it contains numerical columns like 'Nota_Matemáticas', 'Nota_Ciencias', 'Nota_Inglés', etc.\n",
        "\n",
        "import matplotlib.pyplot as plt\n",
        "import seaborn as sns\n",
        "\n",
        "# Iterate through numerical columns and create boxplots\n",
        "for col in df.select_dtypes(include=['number']): # Select only numerical columns\n",
        "    plt.figure(figsize=(8, 6))  # Adjust figure size if needed\n",
        "    sns.boxplot(y=df[col])  # Use Seaborn for better aesthetics\n",
        "    plt.title(f'Boxplot of {col}')\n",
        "    plt.ylabel(col)\n",
        "    plt.show()\n"
      ],
      "metadata": {
        "collapsed": true,
        "id": "6LVG9IWgk_4m"
      },
      "execution_count": null,
      "outputs": []
    },
    {
      "cell_type": "code",
      "source": [
        "import pandas as pd\n",
        "import numpy as np\n",
        "\n",
        "# Crear un dataset simulado\n",
        "np.random.seed(42)\n",
        "data = {\n",
        "    \"Estudiante\": [f\"E{i}\" for i in range(1, 21)],\n",
        "    \"Edad\": np.random.randint(18, 25, size=20),\n",
        "    \"Género\": np.random.choice([\"Femenino\", \"Masculino\"], size=20),\n",
        "    \"Nota_Matemáticas\": np.random.normal(70, 10, size=20).round(1),\n",
        "    \"Nota_Ciencias\": np.random.normal(75, 12, size=20).round(1),\n",
        "    \"Nota_Inglés\": np.random.normal(65, 15, size=20).round(1),\n",
        "}\n",
        "df = pd.DataFrame(data)\n",
        "df"
      ],
      "metadata": {
        "id": "rKyEfSzu-N9w"
      },
      "execution_count": null,
      "outputs": []
    },
    {
      "cell_type": "code",
      "source": [
        "print(\"Información del dataset:\")\n",
        "print(df.info())"
      ],
      "metadata": {
        "id": "a7shEQF_-f0Y"
      },
      "execution_count": null,
      "outputs": []
    },
    {
      "cell_type": "code",
      "source": [
        "df.loc[df.index[5], 'Nota_Ciencias'] = np.nan\n"
      ],
      "metadata": {
        "id": "ouhUvP5--g8Q"
      },
      "execution_count": null,
      "outputs": []
    },
    {
      "cell_type": "markdown",
      "source": [
        "si por casualidad la columna era tipo objeto\n",
        "cuando exista mas del 30% de nulos en un feature hay que quitarla"
      ],
      "metadata": {
        "id": "scl0jVgI-jdX"
      }
    },
    {
      "cell_type": "code",
      "source": [
        "df.isnull()"
      ],
      "metadata": {
        "id": "v5C782NFBZ7Q"
      },
      "execution_count": null,
      "outputs": []
    },
    {
      "cell_type": "code",
      "source": [
        "valores_nulos = df.isnull().sum()\n",
        "\n",
        "print(\"Valores nulos por columna:\")\n",
        "print(valores_nulos)"
      ],
      "metadata": {
        "id": "77E0kKOPBdKw"
      },
      "execution_count": null,
      "outputs": []
    },
    {
      "cell_type": "code",
      "source": [
        "df[df.Nota_Ciencias.isnull()]"
      ],
      "metadata": {
        "id": "EicthyvoBkV4"
      },
      "execution_count": null,
      "outputs": []
    },
    {
      "cell_type": "code",
      "source": [
        "# prompt: mostrar la tabla de df.loc[df.index[4], 'Nota_Ciencias'] = df.Nota_Ciencias.median()\n",
        "\n",
        "df.loc[df.index[4], 'Nota_Ciencias'] = df.Nota_Ciencias.median()\n",
        "print(df.loc[df.index[4], 'Nota_Ciencias'])\n"
      ],
      "metadata": {
        "id": "WpqArGtfEIVi"
      },
      "execution_count": null,
      "outputs": []
    },
    {
      "cell_type": "code",
      "source": [
        "valores_nulos = df.isnull().sum()\n",
        "\n",
        "print(\"Valores nulos por columna:\")\n",
        "print(valores_nulos)\n"
      ],
      "metadata": {
        "id": "fbFUyuPRC4AB"
      },
      "execution_count": null,
      "outputs": []
    },
    {
      "cell_type": "markdown",
      "source": [
        "##AGRUPACION\n",
        "el mean se cambia por max para saber la  mayor nota\n"
      ],
      "metadata": {
        "id": "yPCNNhuLEkkR"
      }
    },
    {
      "cell_type": "code",
      "source": [
        "promedios_por_genero = df.groupby(\"Género\")[[\"Nota_Matemáticas\", \"Nota_Ciencias\", \"Nota_Inglés\"]].mean()\n",
        "\n",
        "print(\"Promedio de notas por género:\")\n",
        "print(promedios_por_genero)\n"
      ],
      "metadata": {
        "id": "83uhV1MfEwmZ"
      },
      "execution_count": null,
      "outputs": []
    },
    {
      "cell_type": "code",
      "source": [
        "# prompt: Cual fue la nota de los estudiantes mas destacados en cada materia\n",
        "\n",
        "# Assuming 'df' is your DataFrame with student data.\n",
        "# Find the maximum grade for each subject.\n",
        "max_math_grade = df['Nota_Matemáticas'].max()\n",
        "max_science_grade = df['Nota_Ciencias'].max()\n",
        "max_english_grade = df['Nota_Inglés'].max()\n",
        "\n",
        "print(f\"Nota máxima en matemáticas: {max_math_grade}\")\n",
        "print(f\"Nota máxima en ciencias: {max_science_grade}\")\n",
        "print(f\"Nota máxima en inglés: {max_english_grade}\")\n",
        "\n",
        "#To find the students who got those maximum grades you can use:\n",
        "#Students with the highest grade in math\n",
        "top_math_students = df[df['Nota_Matemáticas'] == max_math_grade]['Estudiante']\n",
        "print(f\"Estudiante(s) con la máxima nota en matemáticas: {', '.join(top_math_students.astype(str))}\")\n",
        "\n",
        "\n",
        "#Students with the highest grade in science\n",
        "top_science_students = df[df['Nota_Ciencias'] == max_science_grade]['Estudiante']\n",
        "print(f\"Estudiante(s) con la máxima nota en ciencias: {', '.join(top_science_students.astype(str))}\")\n",
        "\n",
        "#Students with the highest grade in english\n",
        "top_english_students = df[df['Nota_Inglés'] == max_english_grade]['Estudiante']\n",
        "print(f\"Estudiante(s) con la máxima nota en inglés: {', '.join(top_english_students.astype(str))}\")\n"
      ],
      "metadata": {
        "id": "9PKEDwwIFEsI"
      },
      "execution_count": null,
      "outputs": []
    },
    {
      "cell_type": "code",
      "source": [
        "# prompt: dime cual o cuales son los estudiantes que sacaron 100 en ciencias\n",
        "\n",
        "#  df[df['Nota_Ciencias']>83\n",
        "top_science_students = df[df['Nota_Ciencias'] == max_science_grade]['Estudiante']\n",
        "print(f\"Estudiante(s) con la máxima nota en ciencias: {', '.join(top_science_students.astype(str))}\")\n"
      ],
      "metadata": {
        "id": "xBRv35nJGSm6"
      },
      "execution_count": null,
      "outputs": []
    },
    {
      "cell_type": "code",
      "source": [
        "# prompt: ahora los estudiantes que sacaron mas de 83 en ciencias\n",
        "\n",
        "# Students who scored more than 83 in science\n",
        "science_students = df[df['Nota_Ciencias'] > 83]\n",
        "print(science_students[['Estudiante', 'Nota_Ciencias']])\n"
      ],
      "metadata": {
        "id": "X6M4AsicGl3R"
      },
      "execution_count": null,
      "outputs": []
    },
    {
      "cell_type": "code",
      "source": [
        "# prompt: ahora los estudiantes que sacaron mas de 83 y menos de 94\n",
        "science_students = df[(df['Nota_Ciencias'] > 83) & (df['Nota_Ciencias'] < 94)]\n",
        "print(science_students[['Estudiante', 'Nota_Ciencias']])\n"
      ],
      "metadata": {
        "id": "jFFEVZrHG1TZ"
      },
      "execution_count": null,
      "outputs": []
    },
    {
      "cell_type": "markdown",
      "source": [
        "##CORRELACION\n",
        "igual a 1-> hay correlacion\n",
        "\n",
        "igual a -1-> hay correlacion inversa\n",
        "\n",
        "igual a 0-> no hay correlacion\n",
        "\n",
        "igual a 0.5 o -0.5-> hay baja correlacion\n",
        "\n",
        "cuando la correlacion supera el 80% o 0.8, una de las variables se borra, con la escepcion de que el dueño del conocimiento no la deje borrar. se quita la que menor varianza tenga\n",
        "\n",
        "es lo mismo con los negativos (mayor a -0.80) se eliminan las de menor varianza"
      ],
      "metadata": {
        "id": "ghLs3g46HfCA"
      }
    },
    {
      "cell_type": "code",
      "source": [
        "# Seleccionar variables numéricas (int y float)\n",
        "variables_numericas = df.select_dtypes(include=[\"int\", \"float\"])\n",
        "\n",
        "# Calcular la matriz de correlación\n",
        "correlaciones = variables_numericas.corr()\n",
        "\n",
        "# Imprimir la matriz de correlación\n",
        "print(\"Matriz de correlación:\")\n",
        "print(correlaciones)\n"
      ],
      "metadata": {
        "id": "oi0MErFXKbET"
      },
      "execution_count": null,
      "outputs": []
    },
    {
      "cell_type": "code",
      "source": [
        "import pandas as pd\n",
        "import seaborn as sns\n",
        "import matplotlib.pyplot as plt\n",
        "\n",
        "# Crear un dataset simulado (asegúrate de tener este paso antes si no lo tienes)\n",
        "np.random.seed(42)\n",
        "data = {\n",
        "    \"Estudiante\": [f\"E{i}\" for i in range(1, 21)],\n",
        "    \"Edad\": np.random.randint(18, 25, size=20),\n",
        "    \"Género\": np.random.choice([\"Femenino\", \"Masculino\"], size=20),\n",
        "    \"Nota_Matemáticas\": np.random.normal(70, 10, size=20).round(1),\n",
        "    \"Nota_Ciencias\": np.random.normal(75, 12, size=20).round(1),\n",
        "    \"Nota_Inglés\": np.random.normal(65, 15, size=20).round(1),\n",
        "}\n",
        "df = pd.DataFrame(data)\n",
        "\n",
        "# Seleccionar solo las variables numéricas (int y float)\n",
        "variables_numericas = df.select_dtypes(include=[\"int\", \"float\"])\n",
        "\n",
        "# Calcular la matriz de correlación\n",
        "correlaciones = variables_numericas.corr()\n",
        "\n",
        "# Crear el mapa de calor\n",
        "sns.heatmap(correlaciones, annot=True, cmap=\"coolwarm\", fmt=\".2f\")\n",
        "\n",
        "# Añadir título al gráfico\n",
        "plt.title(\"Mapa de Calor de Correlaciones\")\n",
        "\n",
        "# Mostrar el gráfico\n",
        "plt.show()\n"
      ],
      "metadata": {
        "id": "BtZgrhTUL-Xz"
      },
      "execution_count": null,
      "outputs": []
    },
    {
      "cell_type": "code",
      "source": [
        "# Añadir columna indicando si aprobó matemáticas (nota >= 60)\n",
        "df[\"Aprobado_Matemáticas\"] = df[\"Nota_Matemáticas\"].apply(lambda x: \"Sí\" if x >= 60 else \"No\")\n",
        "\n",
        "# Conteo de aprobaciones\n",
        "aprobaciones = df[\"Aprobado_Matemáticas\"].value_counts()\n",
        "\n",
        "print(\"Conteo de aprobaciones en matemáticas:\")\n",
        "print(aprobaciones)\n"
      ],
      "metadata": {
        "id": "pryZUNjdNkbz"
      },
      "execution_count": null,
      "outputs": []
    },
    {
      "cell_type": "markdown",
      "source": [
        "dropna = para eliminar filas o columnas con valores nulos\n",
        "\n",
        "##IMPUTACION\n",
        "\n",
        "PARA IMPUTAR SE UTILIZA FILLNA"
      ],
      "metadata": {
        "id": "7wxfPRKrQ6z7"
      }
    },
    {
      "cell_type": "code",
      "source": [
        "import pandas as pd\n",
        "import numpy as np\n",
        "import seaborn as sns\n",
        "import matplotlib.pyplot as plt\n",
        "\n",
        "# Crear un dataset simulado\n",
        "data = {\n",
        "    \"Edad\": [23, np.nan, 21, np.nan, 25, 19, 18, 20, np.nan, 22],\n",
        "    \"Género\": [\"F\", \"M\", np.nan, \"M\", \"F\", \"F\", \"M\", np.nan, \"F\", \"M\"],\n",
        "    \"Calificación\": [85, np.nan, 78, 88, np.nan, 92, 75, 80, np.nan, 77],\n",
        "}\n",
        "df = pd.DataFrame(data)\n",
        "\n",
        "\n",
        "# Metodo para ver la sumatoria de nulos en el dataframe\n",
        "df.isnull().sum()"
      ],
      "metadata": {
        "id": "e6zSz02HRQq7"
      },
      "execution_count": null,
      "outputs": []
    },
    {
      "cell_type": "code",
      "source": [
        "# Mapa de calor para visualizar nulos\n",
        "sns.heatmap(df.isnull(), cbar=False, cmap=\"viridis\")\n",
        "plt.title(\"Mapa de Valores Nulos\")\n",
        "plt.show()"
      ],
      "metadata": {
        "id": "KLM_nBI7RYdj"
      },
      "execution_count": null,
      "outputs": []
    },
    {
      "cell_type": "code",
      "source": [
        "# Porcentaje de valores nulos por columna\n",
        "missing_percentage = df.isnull().mean() * 100\n",
        "print(missing_percentage)\n",
        "\n",
        "# Visualización del porcentaje de nulos\n",
        "missing_percentage.plot(kind='bar', title='Porcentaje de Nulos por Columna')\n",
        "plt.ylabel('Porcentaje')\n",
        "plt.show()"
      ],
      "metadata": {
        "id": "kE_K8vBJRafw"
      },
      "execution_count": null,
      "outputs": []
    },
    {
      "cell_type": "code",
      "source": [
        "# Rellenar valores nulos en \"Edad\" con la media\n",
        "df[\"Edad\"] = df[\"Edad\"].fillna(df[\"Edad\"].mean())\n",
        "\n",
        "# Rellenar valores nulos en \"Calificación\" con la mediana\n",
        "df[\"Calificación\"] = df[\"Calificación\"].fillna(df[\"Calificación\"].median())\n",
        "df"
      ],
      "metadata": {
        "id": "a53xpOX1Rdtb"
      },
      "execution_count": null,
      "outputs": []
    },
    {
      "cell_type": "code",
      "source": [
        "# Rellenar valores nulos en \"Género\" con la moda\n",
        "df[\"Género\"] = df[\"Género\"].fillna(df[\"Género\"].mode()[0])\n",
        "df"
      ],
      "metadata": {
        "id": "wNQGZUXRSDhr"
      },
      "execution_count": null,
      "outputs": []
    },
    {
      "cell_type": "code",
      "source": [
        "from sklearn.impute import SimpleImputer\n",
        "\n",
        "# Usar KNN para imputar valores en \"Calificación\"\n",
        "from sklearn.impute import KNNImputer\n",
        "imputer = KNNImputer(n_neighbors=2)\n",
        "df[[\"Calificación\"]] = imputer.fit_transform(df[[\"Calificación\"]])\n",
        "df"
      ],
      "metadata": {
        "id": "fM0pGoFZSUAz"
      },
      "execution_count": null,
      "outputs": []
    },
    {
      "cell_type": "code",
      "source": [
        "import pandas as pd\n",
        "import numpy as np\n",
        "import seaborn as sns\n",
        "import matplotlib.pyplot as plt\n",
        "\n",
        "# Crear un dataset simulado\n",
        "data = {\n",
        "    \"Edad\": [23, np.nan, 21, np.nan, 25, 19, 18, 20, np.nan, 22],\n",
        "    \"Género\": [\"F\", \"M\", np.nan, \"M\", \"F\", \"F\", \"M\", np.nan, \"F\", \"M\"],\n",
        "    \"Calificación\": [85, np.nan, 78, 88, np.nan, 92, 75, 80, np.nan, 77],\n",
        "}\n",
        "df = pd.DataFrame(data)\n",
        "\n",
        "dfc=df.copy()\n",
        "df\n"
      ],
      "metadata": {
        "id": "5QvRJgjKSjic"
      },
      "execution_count": null,
      "outputs": []
    },
    {
      "cell_type": "code",
      "source": [
        "dfc.isnull().sum()"
      ],
      "metadata": {
        "id": "FvsdPR3oTD57"
      },
      "execution_count": null,
      "outputs": []
    },
    {
      "cell_type": "code",
      "source": [
        "from sklearn.impute import SimpleImputer\n",
        "\n",
        "# Usar KNN para imputar valores en \"Calificación\"\n",
        "from sklearn.impute import KNNImputer\n",
        "imputer = KNNImputer(n_neighbors=2)\n",
        "dfc[[\"Calificación\"]] = imputer.fit_transform(dfc[[\"Calificación\"]])\n",
        "dfc"
      ],
      "metadata": {
        "id": "1BE1HRCETQ7b"
      },
      "execution_count": null,
      "outputs": []
    },
    {
      "cell_type": "code",
      "source": [
        "# prompt: borrar la columna Edad\n",
        "dfc.drop('Edad', axis=1, inplace=True)\n",
        "dfc\n"
      ],
      "metadata": {
        "id": "dktVCq2fUFjT"
      },
      "execution_count": null,
      "outputs": []
    },
    {
      "cell_type": "code",
      "source": [
        "dfc.dropna(axis=0, inplace=True)\n",
        "dfc"
      ],
      "metadata": {
        "id": "xAa906yRUrCU"
      },
      "execution_count": null,
      "outputs": []
    },
    {
      "cell_type": "markdown",
      "source": [
        "con axis=0 elimina las columans con valores nulos"
      ],
      "metadata": {
        "id": "EOnFRFikU7Rs"
      }
    },
    {
      "cell_type": "markdown",
      "source": [
        "##MANEJO DE DATOS CATEGORICOS"
      ],
      "metadata": {
        "id": "OnymSLzWQcBw"
      }
    },
    {
      "cell_type": "markdown",
      "source": [
        "factores dummy-> variables artificiales\n",
        "\n",
        "se crean variables dependiendo de la cardinalidad de datos que tiene la tabla\n",
        "\n",
        "\n",
        "*-----------------------------------------------------------------------------------------------------------------------------------*\n",
        "\n",
        "se pasan categoricas a numericas para poder entrenarlo\n",
        "\n",
        "\n",
        "\n",
        "\n"
      ],
      "metadata": {
        "id": "nyYiL7bJSs2M"
      }
    },
    {
      "cell_type": "code",
      "source": [
        "import pandas as pd\n",
        "\n",
        "# Dataset simulado\n",
        "data = {\n",
        "    \"ID\": [1, 2, 3, 4, 5],\n",
        "    \"Ciudad\": [\"Madrid\", \"Barcelona\", \"Sevilla\", \"Madrid\", \"Valencia\"],  # Nominal\n",
        "    \"Educación\": [\"Secundaria\", \"Primaria\", \"Universitaria\", \"Primaria\", \"Universitaria\"],  # Ordinal\n",
        "    \"Género\": [\"F\", \"M\", \"F\", \"M\", \"F\"],  # Nominal\n",
        "}\n",
        "df = pd.DataFrame(data)\n",
        "print(\"Dataset original:\")\n",
        "print(df)\n"
      ],
      "metadata": {
        "id": "AT03EV0YVBVI"
      },
      "execution_count": null,
      "outputs": []
    },
    {
      "cell_type": "code",
      "source": [
        "import pandas as pd\n",
        "from sklearn.preprocessing import LabelEncoder\n",
        "from joblib import dump\n",
        "\n",
        "# Dataset simulado\n",
        "data = {\n",
        "    \"Género\": [\"M\", \"F\", \"F\", \"F\", \"F\", \"M\", \"M\", \"M\", \"M\"],\n",
        "    \"Edad\": [19, 19, 18, 20, 22, 21, 19, 19, 23],\n",
        "    \"Peso\": [80, 52, 55, 60, 62, 68, 72, 60, 68],\n",
        "    \"Altura\": [194, 160, 155, 165, 160, 176, 185, 178, 170],\n",
        "    \"Cabello\": [\"Corto\", \"Largo\", \"Largo\", \"Corto\", \"Largo\", \"Corto\", \"Corto\", \"Corto\", \"Corto\"],\n",
        "    \"Talla\": [45, 38, 35, 37, 36, 41, 41, 40, 40]\n",
        "}\n",
        "\n",
        "df = pd.DataFrame(data)\n",
        "\n",
        "# Mostrar el dataframe\n",
        "df\n"
      ],
      "metadata": {
        "id": "6qJ-1j2gCU4f",
        "outputId": "89ec8dc7-62c6-48a6-99d9-edd1b5d3abfd",
        "colab": {
          "base_uri": "https://localhost:8080/",
          "height": 332
        }
      },
      "execution_count": 162,
      "outputs": [
        {
          "data": {
            "application/vnd.google.colaboratory.intrinsic+json": {
              "summary": "{\n  \"name\": \"df\",\n  \"rows\": 9,\n  \"fields\": [\n    {\n      \"column\": \"G\\u00e9nero\",\n      \"properties\": {\n        \"dtype\": \"category\",\n        \"num_unique_values\": 2,\n        \"samples\": [\n          \"F\",\n          \"M\"\n        ],\n        \"semantic_type\": \"\",\n        \"description\": \"\"\n      }\n    },\n    {\n      \"column\": \"Edad\",\n      \"properties\": {\n        \"dtype\": \"number\",\n        \"std\": 1,\n        \"min\": 18,\n        \"max\": 23,\n        \"num_unique_values\": 6,\n        \"samples\": [\n          19,\n          18\n        ],\n        \"semantic_type\": \"\",\n        \"description\": \"\"\n      }\n    },\n    {\n      \"column\": \"Peso\",\n      \"properties\": {\n        \"dtype\": \"number\",\n        \"std\": 8,\n        \"min\": 52,\n        \"max\": 80,\n        \"num_unique_values\": 7,\n        \"samples\": [\n          80,\n          52\n        ],\n        \"semantic_type\": \"\",\n        \"description\": \"\"\n      }\n    },\n    {\n      \"column\": \"Altura\",\n      \"properties\": {\n        \"dtype\": \"number\",\n        \"std\": 12,\n        \"min\": 155,\n        \"max\": 194,\n        \"num_unique_values\": 8,\n        \"samples\": [\n          160,\n          185\n        ],\n        \"semantic_type\": \"\",\n        \"description\": \"\"\n      }\n    },\n    {\n      \"column\": \"Cabello\",\n      \"properties\": {\n        \"dtype\": \"category\",\n        \"num_unique_values\": 2,\n        \"samples\": [\n          \"Largo\",\n          \"Corto\"\n        ],\n        \"semantic_type\": \"\",\n        \"description\": \"\"\n      }\n    },\n    {\n      \"column\": \"Talla\",\n      \"properties\": {\n        \"dtype\": \"number\",\n        \"std\": 3,\n        \"min\": 35,\n        \"max\": 45,\n        \"num_unique_values\": 7,\n        \"samples\": [\n          45,\n          38\n        ],\n        \"semantic_type\": \"\",\n        \"description\": \"\"\n      }\n    }\n  ]\n}",
              "type": "dataframe",
              "variable_name": "df"
            },
            "text/html": [
              "\n",
              "  <div id=\"df-e85cbac2-db9a-48bb-85c7-c0865d39c4a4\" class=\"colab-df-container\">\n",
              "    <div>\n",
              "<style scoped>\n",
              "    .dataframe tbody tr th:only-of-type {\n",
              "        vertical-align: middle;\n",
              "    }\n",
              "\n",
              "    .dataframe tbody tr th {\n",
              "        vertical-align: top;\n",
              "    }\n",
              "\n",
              "    .dataframe thead th {\n",
              "        text-align: right;\n",
              "    }\n",
              "</style>\n",
              "<table border=\"1\" class=\"dataframe\">\n",
              "  <thead>\n",
              "    <tr style=\"text-align: right;\">\n",
              "      <th></th>\n",
              "      <th>Género</th>\n",
              "      <th>Edad</th>\n",
              "      <th>Peso</th>\n",
              "      <th>Altura</th>\n",
              "      <th>Cabello</th>\n",
              "      <th>Talla</th>\n",
              "    </tr>\n",
              "  </thead>\n",
              "  <tbody>\n",
              "    <tr>\n",
              "      <th>0</th>\n",
              "      <td>M</td>\n",
              "      <td>19</td>\n",
              "      <td>80</td>\n",
              "      <td>194</td>\n",
              "      <td>Corto</td>\n",
              "      <td>45</td>\n",
              "    </tr>\n",
              "    <tr>\n",
              "      <th>1</th>\n",
              "      <td>F</td>\n",
              "      <td>19</td>\n",
              "      <td>52</td>\n",
              "      <td>160</td>\n",
              "      <td>Largo</td>\n",
              "      <td>38</td>\n",
              "    </tr>\n",
              "    <tr>\n",
              "      <th>2</th>\n",
              "      <td>F</td>\n",
              "      <td>18</td>\n",
              "      <td>55</td>\n",
              "      <td>155</td>\n",
              "      <td>Largo</td>\n",
              "      <td>35</td>\n",
              "    </tr>\n",
              "    <tr>\n",
              "      <th>3</th>\n",
              "      <td>F</td>\n",
              "      <td>20</td>\n",
              "      <td>60</td>\n",
              "      <td>165</td>\n",
              "      <td>Corto</td>\n",
              "      <td>37</td>\n",
              "    </tr>\n",
              "    <tr>\n",
              "      <th>4</th>\n",
              "      <td>F</td>\n",
              "      <td>22</td>\n",
              "      <td>62</td>\n",
              "      <td>160</td>\n",
              "      <td>Largo</td>\n",
              "      <td>36</td>\n",
              "    </tr>\n",
              "    <tr>\n",
              "      <th>5</th>\n",
              "      <td>M</td>\n",
              "      <td>21</td>\n",
              "      <td>68</td>\n",
              "      <td>176</td>\n",
              "      <td>Corto</td>\n",
              "      <td>41</td>\n",
              "    </tr>\n",
              "    <tr>\n",
              "      <th>6</th>\n",
              "      <td>M</td>\n",
              "      <td>19</td>\n",
              "      <td>72</td>\n",
              "      <td>185</td>\n",
              "      <td>Corto</td>\n",
              "      <td>41</td>\n",
              "    </tr>\n",
              "    <tr>\n",
              "      <th>7</th>\n",
              "      <td>M</td>\n",
              "      <td>19</td>\n",
              "      <td>60</td>\n",
              "      <td>178</td>\n",
              "      <td>Corto</td>\n",
              "      <td>40</td>\n",
              "    </tr>\n",
              "    <tr>\n",
              "      <th>8</th>\n",
              "      <td>M</td>\n",
              "      <td>23</td>\n",
              "      <td>68</td>\n",
              "      <td>170</td>\n",
              "      <td>Corto</td>\n",
              "      <td>40</td>\n",
              "    </tr>\n",
              "  </tbody>\n",
              "</table>\n",
              "</div>\n",
              "    <div class=\"colab-df-buttons\">\n",
              "\n",
              "  <div class=\"colab-df-container\">\n",
              "    <button class=\"colab-df-convert\" onclick=\"convertToInteractive('df-e85cbac2-db9a-48bb-85c7-c0865d39c4a4')\"\n",
              "            title=\"Convert this dataframe to an interactive table.\"\n",
              "            style=\"display:none;\">\n",
              "\n",
              "  <svg xmlns=\"http://www.w3.org/2000/svg\" height=\"24px\" viewBox=\"0 -960 960 960\">\n",
              "    <path d=\"M120-120v-720h720v720H120Zm60-500h600v-160H180v160Zm220 220h160v-160H400v160Zm0 220h160v-160H400v160ZM180-400h160v-160H180v160Zm440 0h160v-160H620v160ZM180-180h160v-160H180v160Zm440 0h160v-160H620v160Z\"/>\n",
              "  </svg>\n",
              "    </button>\n",
              "\n",
              "  <style>\n",
              "    .colab-df-container {\n",
              "      display:flex;\n",
              "      gap: 12px;\n",
              "    }\n",
              "\n",
              "    .colab-df-convert {\n",
              "      background-color: #E8F0FE;\n",
              "      border: none;\n",
              "      border-radius: 50%;\n",
              "      cursor: pointer;\n",
              "      display: none;\n",
              "      fill: #1967D2;\n",
              "      height: 32px;\n",
              "      padding: 0 0 0 0;\n",
              "      width: 32px;\n",
              "    }\n",
              "\n",
              "    .colab-df-convert:hover {\n",
              "      background-color: #E2EBFA;\n",
              "      box-shadow: 0px 1px 2px rgba(60, 64, 67, 0.3), 0px 1px 3px 1px rgba(60, 64, 67, 0.15);\n",
              "      fill: #174EA6;\n",
              "    }\n",
              "\n",
              "    .colab-df-buttons div {\n",
              "      margin-bottom: 4px;\n",
              "    }\n",
              "\n",
              "    [theme=dark] .colab-df-convert {\n",
              "      background-color: #3B4455;\n",
              "      fill: #D2E3FC;\n",
              "    }\n",
              "\n",
              "    [theme=dark] .colab-df-convert:hover {\n",
              "      background-color: #434B5C;\n",
              "      box-shadow: 0px 1px 3px 1px rgba(0, 0, 0, 0.15);\n",
              "      filter: drop-shadow(0px 1px 2px rgba(0, 0, 0, 0.3));\n",
              "      fill: #FFFFFF;\n",
              "    }\n",
              "  </style>\n",
              "\n",
              "    <script>\n",
              "      const buttonEl =\n",
              "        document.querySelector('#df-e85cbac2-db9a-48bb-85c7-c0865d39c4a4 button.colab-df-convert');\n",
              "      buttonEl.style.display =\n",
              "        google.colab.kernel.accessAllowed ? 'block' : 'none';\n",
              "\n",
              "      async function convertToInteractive(key) {\n",
              "        const element = document.querySelector('#df-e85cbac2-db9a-48bb-85c7-c0865d39c4a4');\n",
              "        const dataTable =\n",
              "          await google.colab.kernel.invokeFunction('convertToInteractive',\n",
              "                                                    [key], {});\n",
              "        if (!dataTable) return;\n",
              "\n",
              "        const docLinkHtml = 'Like what you see? Visit the ' +\n",
              "          '<a target=\"_blank\" href=https://colab.research.google.com/notebooks/data_table.ipynb>data table notebook</a>'\n",
              "          + ' to learn more about interactive tables.';\n",
              "        element.innerHTML = '';\n",
              "        dataTable['output_type'] = 'display_data';\n",
              "        await google.colab.output.renderOutput(dataTable, element);\n",
              "        const docLink = document.createElement('div');\n",
              "        docLink.innerHTML = docLinkHtml;\n",
              "        element.appendChild(docLink);\n",
              "      }\n",
              "    </script>\n",
              "  </div>\n",
              "\n",
              "\n",
              "<div id=\"df-9f19dcc6-6883-4b6f-807f-d314e491162a\">\n",
              "  <button class=\"colab-df-quickchart\" onclick=\"quickchart('df-9f19dcc6-6883-4b6f-807f-d314e491162a')\"\n",
              "            title=\"Suggest charts\"\n",
              "            style=\"display:none;\">\n",
              "\n",
              "<svg xmlns=\"http://www.w3.org/2000/svg\" height=\"24px\"viewBox=\"0 0 24 24\"\n",
              "     width=\"24px\">\n",
              "    <g>\n",
              "        <path d=\"M19 3H5c-1.1 0-2 .9-2 2v14c0 1.1.9 2 2 2h14c1.1 0 2-.9 2-2V5c0-1.1-.9-2-2-2zM9 17H7v-7h2v7zm4 0h-2V7h2v10zm4 0h-2v-4h2v4z\"/>\n",
              "    </g>\n",
              "</svg>\n",
              "  </button>\n",
              "\n",
              "<style>\n",
              "  .colab-df-quickchart {\n",
              "      --bg-color: #E8F0FE;\n",
              "      --fill-color: #1967D2;\n",
              "      --hover-bg-color: #E2EBFA;\n",
              "      --hover-fill-color: #174EA6;\n",
              "      --disabled-fill-color: #AAA;\n",
              "      --disabled-bg-color: #DDD;\n",
              "  }\n",
              "\n",
              "  [theme=dark] .colab-df-quickchart {\n",
              "      --bg-color: #3B4455;\n",
              "      --fill-color: #D2E3FC;\n",
              "      --hover-bg-color: #434B5C;\n",
              "      --hover-fill-color: #FFFFFF;\n",
              "      --disabled-bg-color: #3B4455;\n",
              "      --disabled-fill-color: #666;\n",
              "  }\n",
              "\n",
              "  .colab-df-quickchart {\n",
              "    background-color: var(--bg-color);\n",
              "    border: none;\n",
              "    border-radius: 50%;\n",
              "    cursor: pointer;\n",
              "    display: none;\n",
              "    fill: var(--fill-color);\n",
              "    height: 32px;\n",
              "    padding: 0;\n",
              "    width: 32px;\n",
              "  }\n",
              "\n",
              "  .colab-df-quickchart:hover {\n",
              "    background-color: var(--hover-bg-color);\n",
              "    box-shadow: 0 1px 2px rgba(60, 64, 67, 0.3), 0 1px 3px 1px rgba(60, 64, 67, 0.15);\n",
              "    fill: var(--button-hover-fill-color);\n",
              "  }\n",
              "\n",
              "  .colab-df-quickchart-complete:disabled,\n",
              "  .colab-df-quickchart-complete:disabled:hover {\n",
              "    background-color: var(--disabled-bg-color);\n",
              "    fill: var(--disabled-fill-color);\n",
              "    box-shadow: none;\n",
              "  }\n",
              "\n",
              "  .colab-df-spinner {\n",
              "    border: 2px solid var(--fill-color);\n",
              "    border-color: transparent;\n",
              "    border-bottom-color: var(--fill-color);\n",
              "    animation:\n",
              "      spin 1s steps(1) infinite;\n",
              "  }\n",
              "\n",
              "  @keyframes spin {\n",
              "    0% {\n",
              "      border-color: transparent;\n",
              "      border-bottom-color: var(--fill-color);\n",
              "      border-left-color: var(--fill-color);\n",
              "    }\n",
              "    20% {\n",
              "      border-color: transparent;\n",
              "      border-left-color: var(--fill-color);\n",
              "      border-top-color: var(--fill-color);\n",
              "    }\n",
              "    30% {\n",
              "      border-color: transparent;\n",
              "      border-left-color: var(--fill-color);\n",
              "      border-top-color: var(--fill-color);\n",
              "      border-right-color: var(--fill-color);\n",
              "    }\n",
              "    40% {\n",
              "      border-color: transparent;\n",
              "      border-right-color: var(--fill-color);\n",
              "      border-top-color: var(--fill-color);\n",
              "    }\n",
              "    60% {\n",
              "      border-color: transparent;\n",
              "      border-right-color: var(--fill-color);\n",
              "    }\n",
              "    80% {\n",
              "      border-color: transparent;\n",
              "      border-right-color: var(--fill-color);\n",
              "      border-bottom-color: var(--fill-color);\n",
              "    }\n",
              "    90% {\n",
              "      border-color: transparent;\n",
              "      border-bottom-color: var(--fill-color);\n",
              "    }\n",
              "  }\n",
              "</style>\n",
              "\n",
              "  <script>\n",
              "    async function quickchart(key) {\n",
              "      const quickchartButtonEl =\n",
              "        document.querySelector('#' + key + ' button');\n",
              "      quickchartButtonEl.disabled = true;  // To prevent multiple clicks.\n",
              "      quickchartButtonEl.classList.add('colab-df-spinner');\n",
              "      try {\n",
              "        const charts = await google.colab.kernel.invokeFunction(\n",
              "            'suggestCharts', [key], {});\n",
              "      } catch (error) {\n",
              "        console.error('Error during call to suggestCharts:', error);\n",
              "      }\n",
              "      quickchartButtonEl.classList.remove('colab-df-spinner');\n",
              "      quickchartButtonEl.classList.add('colab-df-quickchart-complete');\n",
              "    }\n",
              "    (() => {\n",
              "      let quickchartButtonEl =\n",
              "        document.querySelector('#df-9f19dcc6-6883-4b6f-807f-d314e491162a button');\n",
              "      quickchartButtonEl.style.display =\n",
              "        google.colab.kernel.accessAllowed ? 'block' : 'none';\n",
              "    })();\n",
              "  </script>\n",
              "</div>\n",
              "\n",
              "  <div id=\"id_5258bded-d0dd-41ca-8d15-e7a8be1dbdb7\">\n",
              "    <style>\n",
              "      .colab-df-generate {\n",
              "        background-color: #E8F0FE;\n",
              "        border: none;\n",
              "        border-radius: 50%;\n",
              "        cursor: pointer;\n",
              "        display: none;\n",
              "        fill: #1967D2;\n",
              "        height: 32px;\n",
              "        padding: 0 0 0 0;\n",
              "        width: 32px;\n",
              "      }\n",
              "\n",
              "      .colab-df-generate:hover {\n",
              "        background-color: #E2EBFA;\n",
              "        box-shadow: 0px 1px 2px rgba(60, 64, 67, 0.3), 0px 1px 3px 1px rgba(60, 64, 67, 0.15);\n",
              "        fill: #174EA6;\n",
              "      }\n",
              "\n",
              "      [theme=dark] .colab-df-generate {\n",
              "        background-color: #3B4455;\n",
              "        fill: #D2E3FC;\n",
              "      }\n",
              "\n",
              "      [theme=dark] .colab-df-generate:hover {\n",
              "        background-color: #434B5C;\n",
              "        box-shadow: 0px 1px 3px 1px rgba(0, 0, 0, 0.15);\n",
              "        filter: drop-shadow(0px 1px 2px rgba(0, 0, 0, 0.3));\n",
              "        fill: #FFFFFF;\n",
              "      }\n",
              "    </style>\n",
              "    <button class=\"colab-df-generate\" onclick=\"generateWithVariable('df')\"\n",
              "            title=\"Generate code using this dataframe.\"\n",
              "            style=\"display:none;\">\n",
              "\n",
              "  <svg xmlns=\"http://www.w3.org/2000/svg\" height=\"24px\"viewBox=\"0 0 24 24\"\n",
              "       width=\"24px\">\n",
              "    <path d=\"M7,19H8.4L18.45,9,17,7.55,7,17.6ZM5,21V16.75L18.45,3.32a2,2,0,0,1,2.83,0l1.4,1.43a1.91,1.91,0,0,1,.58,1.4,1.91,1.91,0,0,1-.58,1.4L9.25,21ZM18.45,9,17,7.55Zm-12,3A5.31,5.31,0,0,0,4.9,8.1,5.31,5.31,0,0,0,1,6.5,5.31,5.31,0,0,0,4.9,4.9,5.31,5.31,0,0,0,6.5,1,5.31,5.31,0,0,0,8.1,4.9,5.31,5.31,0,0,0,12,6.5,5.46,5.46,0,0,0,6.5,12Z\"/>\n",
              "  </svg>\n",
              "    </button>\n",
              "    <script>\n",
              "      (() => {\n",
              "      const buttonEl =\n",
              "        document.querySelector('#id_5258bded-d0dd-41ca-8d15-e7a8be1dbdb7 button.colab-df-generate');\n",
              "      buttonEl.style.display =\n",
              "        google.colab.kernel.accessAllowed ? 'block' : 'none';\n",
              "\n",
              "      buttonEl.onclick = () => {\n",
              "        google.colab.notebook.generateWithVariable('df');\n",
              "      }\n",
              "      })();\n",
              "    </script>\n",
              "  </div>\n",
              "\n",
              "    </div>\n",
              "  </div>\n"
            ],
            "text/plain": [
              "  Género  Edad  Peso  Altura Cabello  Talla\n",
              "0      M    19    80     194   Corto     45\n",
              "1      F    19    52     160   Largo     38\n",
              "2      F    18    55     155   Largo     35\n",
              "3      F    20    60     165   Corto     37\n",
              "4      F    22    62     160   Largo     36\n",
              "5      M    21    68     176   Corto     41\n",
              "6      M    19    72     185   Corto     41\n",
              "7      M    19    60     178   Corto     40\n",
              "8      M    23    68     170   Corto     40"
            ]
          },
          "execution_count": 162,
          "metadata": {},
          "output_type": "execute_result"
        }
      ]
    },
    {
      "cell_type": "markdown",
      "source": [
        "##FIT TRANSFORM\n",
        "Entrenar un modelo\n",
        "\n",
        "##PERSISTENCIA\n",
        "Guardar los datos\n",
        "\n",
        "\n",
        "\n",
        "supervisada-> cuando tiene la columna label\n",
        "\n",
        "no supervisas-> tiene la columna label\n",
        "\n",
        "es decir, tiene algo que se va a predecir\n",
        "\n",
        "\n",
        "##pasos:\n",
        "\n",
        "1. importar libreriar\n",
        "2. declarar el modelo\n",
        "3. darle persistencia\n",
        "\n"
      ],
      "metadata": {
        "id": "A7eXu6BPFN8s"
      }
    },
    {
      "cell_type": "code",
      "source": [
        "# Codificar la columna 'Género'\n",
        "gender_encoder = LabelEncoder()\n",
        "df[\"Género\"] = gender_encoder.fit_transform(df[\"Género\"])\n",
        "df"
      ],
      "metadata": {
        "id": "xODIOtcCGfcW"
      },
      "execution_count": null,
      "outputs": []
    },
    {
      "cell_type": "code",
      "source": [
        "# Codificar la columna 'Cabello'\n",
        "cabello_encoder = LabelEncoder()\n",
        "df[\"Cabello\"] = cabello_encoder.fit_transform(df[\"Cabello\"])\n",
        "df"
      ],
      "metadata": {
        "id": "23qUu5yjHMNl"
      },
      "execution_count": null,
      "outputs": []
    },
    {
      "cell_type": "code",
      "source": [],
      "metadata": {
        "id": "Ehic-PunObWO"
      },
      "execution_count": null,
      "outputs": []
    },
    {
      "cell_type": "code",
      "source": [
        "gender_encoder.classes_\n"
      ],
      "metadata": {
        "id": "tqSWM01QIO_V"
      },
      "execution_count": null,
      "outputs": []
    },
    {
      "cell_type": "code",
      "source": [
        "cabello_encoder.classes_"
      ],
      "metadata": {
        "id": "1rrYRALOImWH"
      },
      "execution_count": null,
      "outputs": []
    },
    {
      "cell_type": "code",
      "source": [
        "df.columns"
      ],
      "metadata": {
        "id": "W67roG63IxW1"
      },
      "execution_count": null,
      "outputs": []
    },
    {
      "cell_type": "code",
      "source": [
        "from sklearn.ensemble import RandomForestClassifier\n",
        "\n",
        "X=df[[ 'Edad', 'Peso', 'Altura', 'Cabello', 'Talla']]\n",
        "y=df['Género']\n"
      ],
      "metadata": {
        "id": "oDKPtC2AI9EV"
      },
      "execution_count": null,
      "outputs": []
    },
    {
      "cell_type": "code",
      "source": [
        "model = RandomForestClassifier()\n",
        "model.fit(X, y)"
      ],
      "metadata": {
        "id": "ZzH4rdiMJgp-"
      },
      "execution_count": null,
      "outputs": []
    },
    {
      "cell_type": "code",
      "source": [
        "# Guardar el modelo entrenado\n",
        "dump(model, \"miPrimerMillon.joblib\")\n",
        "\n",
        "print(\"Modelo guardado correctamente.\")"
      ],
      "metadata": {
        "id": "pS0gbMXMKMVm"
      },
      "execution_count": null,
      "outputs": []
    },
    {
      "cell_type": "code",
      "source": [
        "new_data = pd.DataFrame({\n",
        "    'Edad': [20,19,22],\n",
        "    'Peso': [70,75,52],\n",
        "    'Altura': [172,175,161],\n",
        "    'Cabello': [\"Corto\",\"Corto\",\"Largo\"],\n",
        "    'Talla': [42,39,37],\n",
        "\n",
        "})\n",
        "new_data"
      ],
      "metadata": {
        "id": "MR0fBEaxKxct"
      },
      "execution_count": null,
      "outputs": []
    },
    {
      "cell_type": "code",
      "source": [
        "import joblib as jb\n",
        "import pandas as pd\n",
        "\n",
        "# Load the cabello_encoder\n",
        "cabello_encoder = jb.load(\"cabello_encoder.joblib\")\n",
        "\n",
        "# Assuming you have a DataFrame named new_data\n",
        "new_data = pd.DataFrame({\n",
        "    'Edad': [20, 19, 22],\n",
        "    'Peso': [70, 75, 52],\n",
        "    'Altura': [172, 175, 161],\n",
        "    'Cabello': [\"Corto\", \"Corto\", \"Largo\"],\n",
        "    'Talla': [42, 39, 37],\n",
        "})\n",
        "\n",
        "# Apply the transformation\n",
        "new_data[\"Cabello\"] = cabello_encoder.transform(new_data[\"Cabello\"])\n",
        "\n",
        "# That's it! The 'Cabello' column in new_data is now transformed.\n",
        "# No need to display new_data again."
      ],
      "metadata": {
        "id": "ULQ_CP2JOHiV"
      },
      "execution_count": null,
      "outputs": []
    },
    {
      "cell_type": "code",
      "source": [
        "\n",
        "cabello_encoder = LabelEncoder()\n",
        "new_data[\"Cabello\"] = cabello_encoder.fit_transform(new_data[\"Cabello\"])\n",
        "new_data"
      ],
      "metadata": {
        "id": "LZOOAgRmOdtN",
        "outputId": "b73512e6-1b12-4893-fbf6-0c133b51e9b3",
        "colab": {
          "base_uri": "https://localhost:8080/",
          "height": 143
        }
      },
      "execution_count": 158,
      "outputs": [
        {
          "output_type": "execute_result",
          "data": {
            "text/plain": [
              "   Edad  Peso  Altura  Cabello  Talla\n",
              "0    20    70     172        0     42\n",
              "1    19    75     175        0     39\n",
              "2    22    52     161        1     37"
            ],
            "text/html": [
              "\n",
              "  <div id=\"df-cb91cdd9-3542-4626-bee1-71d823b993fc\" class=\"colab-df-container\">\n",
              "    <div>\n",
              "<style scoped>\n",
              "    .dataframe tbody tr th:only-of-type {\n",
              "        vertical-align: middle;\n",
              "    }\n",
              "\n",
              "    .dataframe tbody tr th {\n",
              "        vertical-align: top;\n",
              "    }\n",
              "\n",
              "    .dataframe thead th {\n",
              "        text-align: right;\n",
              "    }\n",
              "</style>\n",
              "<table border=\"1\" class=\"dataframe\">\n",
              "  <thead>\n",
              "    <tr style=\"text-align: right;\">\n",
              "      <th></th>\n",
              "      <th>Edad</th>\n",
              "      <th>Peso</th>\n",
              "      <th>Altura</th>\n",
              "      <th>Cabello</th>\n",
              "      <th>Talla</th>\n",
              "    </tr>\n",
              "  </thead>\n",
              "  <tbody>\n",
              "    <tr>\n",
              "      <th>0</th>\n",
              "      <td>20</td>\n",
              "      <td>70</td>\n",
              "      <td>172</td>\n",
              "      <td>0</td>\n",
              "      <td>42</td>\n",
              "    </tr>\n",
              "    <tr>\n",
              "      <th>1</th>\n",
              "      <td>19</td>\n",
              "      <td>75</td>\n",
              "      <td>175</td>\n",
              "      <td>0</td>\n",
              "      <td>39</td>\n",
              "    </tr>\n",
              "    <tr>\n",
              "      <th>2</th>\n",
              "      <td>22</td>\n",
              "      <td>52</td>\n",
              "      <td>161</td>\n",
              "      <td>1</td>\n",
              "      <td>37</td>\n",
              "    </tr>\n",
              "  </tbody>\n",
              "</table>\n",
              "</div>\n",
              "    <div class=\"colab-df-buttons\">\n",
              "\n",
              "  <div class=\"colab-df-container\">\n",
              "    <button class=\"colab-df-convert\" onclick=\"convertToInteractive('df-cb91cdd9-3542-4626-bee1-71d823b993fc')\"\n",
              "            title=\"Convert this dataframe to an interactive table.\"\n",
              "            style=\"display:none;\">\n",
              "\n",
              "  <svg xmlns=\"http://www.w3.org/2000/svg\" height=\"24px\" viewBox=\"0 -960 960 960\">\n",
              "    <path d=\"M120-120v-720h720v720H120Zm60-500h600v-160H180v160Zm220 220h160v-160H400v160Zm0 220h160v-160H400v160ZM180-400h160v-160H180v160Zm440 0h160v-160H620v160ZM180-180h160v-160H180v160Zm440 0h160v-160H620v160Z\"/>\n",
              "  </svg>\n",
              "    </button>\n",
              "\n",
              "  <style>\n",
              "    .colab-df-container {\n",
              "      display:flex;\n",
              "      gap: 12px;\n",
              "    }\n",
              "\n",
              "    .colab-df-convert {\n",
              "      background-color: #E8F0FE;\n",
              "      border: none;\n",
              "      border-radius: 50%;\n",
              "      cursor: pointer;\n",
              "      display: none;\n",
              "      fill: #1967D2;\n",
              "      height: 32px;\n",
              "      padding: 0 0 0 0;\n",
              "      width: 32px;\n",
              "    }\n",
              "\n",
              "    .colab-df-convert:hover {\n",
              "      background-color: #E2EBFA;\n",
              "      box-shadow: 0px 1px 2px rgba(60, 64, 67, 0.3), 0px 1px 3px 1px rgba(60, 64, 67, 0.15);\n",
              "      fill: #174EA6;\n",
              "    }\n",
              "\n",
              "    .colab-df-buttons div {\n",
              "      margin-bottom: 4px;\n",
              "    }\n",
              "\n",
              "    [theme=dark] .colab-df-convert {\n",
              "      background-color: #3B4455;\n",
              "      fill: #D2E3FC;\n",
              "    }\n",
              "\n",
              "    [theme=dark] .colab-df-convert:hover {\n",
              "      background-color: #434B5C;\n",
              "      box-shadow: 0px 1px 3px 1px rgba(0, 0, 0, 0.15);\n",
              "      filter: drop-shadow(0px 1px 2px rgba(0, 0, 0, 0.3));\n",
              "      fill: #FFFFFF;\n",
              "    }\n",
              "  </style>\n",
              "\n",
              "    <script>\n",
              "      const buttonEl =\n",
              "        document.querySelector('#df-cb91cdd9-3542-4626-bee1-71d823b993fc button.colab-df-convert');\n",
              "      buttonEl.style.display =\n",
              "        google.colab.kernel.accessAllowed ? 'block' : 'none';\n",
              "\n",
              "      async function convertToInteractive(key) {\n",
              "        const element = document.querySelector('#df-cb91cdd9-3542-4626-bee1-71d823b993fc');\n",
              "        const dataTable =\n",
              "          await google.colab.kernel.invokeFunction('convertToInteractive',\n",
              "                                                    [key], {});\n",
              "        if (!dataTable) return;\n",
              "\n",
              "        const docLinkHtml = 'Like what you see? Visit the ' +\n",
              "          '<a target=\"_blank\" href=https://colab.research.google.com/notebooks/data_table.ipynb>data table notebook</a>'\n",
              "          + ' to learn more about interactive tables.';\n",
              "        element.innerHTML = '';\n",
              "        dataTable['output_type'] = 'display_data';\n",
              "        await google.colab.output.renderOutput(dataTable, element);\n",
              "        const docLink = document.createElement('div');\n",
              "        docLink.innerHTML = docLinkHtml;\n",
              "        element.appendChild(docLink);\n",
              "      }\n",
              "    </script>\n",
              "  </div>\n",
              "\n",
              "\n",
              "<div id=\"df-66f49133-0dbf-4f44-9e87-8e9246dc587c\">\n",
              "  <button class=\"colab-df-quickchart\" onclick=\"quickchart('df-66f49133-0dbf-4f44-9e87-8e9246dc587c')\"\n",
              "            title=\"Suggest charts\"\n",
              "            style=\"display:none;\">\n",
              "\n",
              "<svg xmlns=\"http://www.w3.org/2000/svg\" height=\"24px\"viewBox=\"0 0 24 24\"\n",
              "     width=\"24px\">\n",
              "    <g>\n",
              "        <path d=\"M19 3H5c-1.1 0-2 .9-2 2v14c0 1.1.9 2 2 2h14c1.1 0 2-.9 2-2V5c0-1.1-.9-2-2-2zM9 17H7v-7h2v7zm4 0h-2V7h2v10zm4 0h-2v-4h2v4z\"/>\n",
              "    </g>\n",
              "</svg>\n",
              "  </button>\n",
              "\n",
              "<style>\n",
              "  .colab-df-quickchart {\n",
              "      --bg-color: #E8F0FE;\n",
              "      --fill-color: #1967D2;\n",
              "      --hover-bg-color: #E2EBFA;\n",
              "      --hover-fill-color: #174EA6;\n",
              "      --disabled-fill-color: #AAA;\n",
              "      --disabled-bg-color: #DDD;\n",
              "  }\n",
              "\n",
              "  [theme=dark] .colab-df-quickchart {\n",
              "      --bg-color: #3B4455;\n",
              "      --fill-color: #D2E3FC;\n",
              "      --hover-bg-color: #434B5C;\n",
              "      --hover-fill-color: #FFFFFF;\n",
              "      --disabled-bg-color: #3B4455;\n",
              "      --disabled-fill-color: #666;\n",
              "  }\n",
              "\n",
              "  .colab-df-quickchart {\n",
              "    background-color: var(--bg-color);\n",
              "    border: none;\n",
              "    border-radius: 50%;\n",
              "    cursor: pointer;\n",
              "    display: none;\n",
              "    fill: var(--fill-color);\n",
              "    height: 32px;\n",
              "    padding: 0;\n",
              "    width: 32px;\n",
              "  }\n",
              "\n",
              "  .colab-df-quickchart:hover {\n",
              "    background-color: var(--hover-bg-color);\n",
              "    box-shadow: 0 1px 2px rgba(60, 64, 67, 0.3), 0 1px 3px 1px rgba(60, 64, 67, 0.15);\n",
              "    fill: var(--button-hover-fill-color);\n",
              "  }\n",
              "\n",
              "  .colab-df-quickchart-complete:disabled,\n",
              "  .colab-df-quickchart-complete:disabled:hover {\n",
              "    background-color: var(--disabled-bg-color);\n",
              "    fill: var(--disabled-fill-color);\n",
              "    box-shadow: none;\n",
              "  }\n",
              "\n",
              "  .colab-df-spinner {\n",
              "    border: 2px solid var(--fill-color);\n",
              "    border-color: transparent;\n",
              "    border-bottom-color: var(--fill-color);\n",
              "    animation:\n",
              "      spin 1s steps(1) infinite;\n",
              "  }\n",
              "\n",
              "  @keyframes spin {\n",
              "    0% {\n",
              "      border-color: transparent;\n",
              "      border-bottom-color: var(--fill-color);\n",
              "      border-left-color: var(--fill-color);\n",
              "    }\n",
              "    20% {\n",
              "      border-color: transparent;\n",
              "      border-left-color: var(--fill-color);\n",
              "      border-top-color: var(--fill-color);\n",
              "    }\n",
              "    30% {\n",
              "      border-color: transparent;\n",
              "      border-left-color: var(--fill-color);\n",
              "      border-top-color: var(--fill-color);\n",
              "      border-right-color: var(--fill-color);\n",
              "    }\n",
              "    40% {\n",
              "      border-color: transparent;\n",
              "      border-right-color: var(--fill-color);\n",
              "      border-top-color: var(--fill-color);\n",
              "    }\n",
              "    60% {\n",
              "      border-color: transparent;\n",
              "      border-right-color: var(--fill-color);\n",
              "    }\n",
              "    80% {\n",
              "      border-color: transparent;\n",
              "      border-right-color: var(--fill-color);\n",
              "      border-bottom-color: var(--fill-color);\n",
              "    }\n",
              "    90% {\n",
              "      border-color: transparent;\n",
              "      border-bottom-color: var(--fill-color);\n",
              "    }\n",
              "  }\n",
              "</style>\n",
              "\n",
              "  <script>\n",
              "    async function quickchart(key) {\n",
              "      const quickchartButtonEl =\n",
              "        document.querySelector('#' + key + ' button');\n",
              "      quickchartButtonEl.disabled = true;  // To prevent multiple clicks.\n",
              "      quickchartButtonEl.classList.add('colab-df-spinner');\n",
              "      try {\n",
              "        const charts = await google.colab.kernel.invokeFunction(\n",
              "            'suggestCharts', [key], {});\n",
              "      } catch (error) {\n",
              "        console.error('Error during call to suggestCharts:', error);\n",
              "      }\n",
              "      quickchartButtonEl.classList.remove('colab-df-spinner');\n",
              "      quickchartButtonEl.classList.add('colab-df-quickchart-complete');\n",
              "    }\n",
              "    (() => {\n",
              "      let quickchartButtonEl =\n",
              "        document.querySelector('#df-66f49133-0dbf-4f44-9e87-8e9246dc587c button');\n",
              "      quickchartButtonEl.style.display =\n",
              "        google.colab.kernel.accessAllowed ? 'block' : 'none';\n",
              "    })();\n",
              "  </script>\n",
              "</div>\n",
              "\n",
              "  <div id=\"id_c05e3deb-ac24-4ce0-abd5-e3ba415a741f\">\n",
              "    <style>\n",
              "      .colab-df-generate {\n",
              "        background-color: #E8F0FE;\n",
              "        border: none;\n",
              "        border-radius: 50%;\n",
              "        cursor: pointer;\n",
              "        display: none;\n",
              "        fill: #1967D2;\n",
              "        height: 32px;\n",
              "        padding: 0 0 0 0;\n",
              "        width: 32px;\n",
              "      }\n",
              "\n",
              "      .colab-df-generate:hover {\n",
              "        background-color: #E2EBFA;\n",
              "        box-shadow: 0px 1px 2px rgba(60, 64, 67, 0.3), 0px 1px 3px 1px rgba(60, 64, 67, 0.15);\n",
              "        fill: #174EA6;\n",
              "      }\n",
              "\n",
              "      [theme=dark] .colab-df-generate {\n",
              "        background-color: #3B4455;\n",
              "        fill: #D2E3FC;\n",
              "      }\n",
              "\n",
              "      [theme=dark] .colab-df-generate:hover {\n",
              "        background-color: #434B5C;\n",
              "        box-shadow: 0px 1px 3px 1px rgba(0, 0, 0, 0.15);\n",
              "        filter: drop-shadow(0px 1px 2px rgba(0, 0, 0, 0.3));\n",
              "        fill: #FFFFFF;\n",
              "      }\n",
              "    </style>\n",
              "    <button class=\"colab-df-generate\" onclick=\"generateWithVariable('new_data')\"\n",
              "            title=\"Generate code using this dataframe.\"\n",
              "            style=\"display:none;\">\n",
              "\n",
              "  <svg xmlns=\"http://www.w3.org/2000/svg\" height=\"24px\"viewBox=\"0 0 24 24\"\n",
              "       width=\"24px\">\n",
              "    <path d=\"M7,19H8.4L18.45,9,17,7.55,7,17.6ZM5,21V16.75L18.45,3.32a2,2,0,0,1,2.83,0l1.4,1.43a1.91,1.91,0,0,1,.58,1.4,1.91,1.91,0,0,1-.58,1.4L9.25,21ZM18.45,9,17,7.55Zm-12,3A5.31,5.31,0,0,0,4.9,8.1,5.31,5.31,0,0,0,1,6.5,5.31,5.31,0,0,0,4.9,4.9,5.31,5.31,0,0,0,6.5,1,5.31,5.31,0,0,0,8.1,4.9,5.31,5.31,0,0,0,12,6.5,5.46,5.46,0,0,0,6.5,12Z\"/>\n",
              "  </svg>\n",
              "    </button>\n",
              "    <script>\n",
              "      (() => {\n",
              "      const buttonEl =\n",
              "        document.querySelector('#id_c05e3deb-ac24-4ce0-abd5-e3ba415a741f button.colab-df-generate');\n",
              "      buttonEl.style.display =\n",
              "        google.colab.kernel.accessAllowed ? 'block' : 'none';\n",
              "\n",
              "      buttonEl.onclick = () => {\n",
              "        google.colab.notebook.generateWithVariable('new_data');\n",
              "      }\n",
              "      })();\n",
              "    </script>\n",
              "  </div>\n",
              "\n",
              "    </div>\n",
              "  </div>\n"
            ],
            "application/vnd.google.colaboratory.intrinsic+json": {
              "type": "dataframe",
              "variable_name": "new_data",
              "summary": "{\n  \"name\": \"new_data\",\n  \"rows\": 3,\n  \"fields\": [\n    {\n      \"column\": \"Edad\",\n      \"properties\": {\n        \"dtype\": \"number\",\n        \"std\": 1,\n        \"min\": 19,\n        \"max\": 22,\n        \"num_unique_values\": 3,\n        \"samples\": [\n          20,\n          19,\n          22\n        ],\n        \"semantic_type\": \"\",\n        \"description\": \"\"\n      }\n    },\n    {\n      \"column\": \"Peso\",\n      \"properties\": {\n        \"dtype\": \"number\",\n        \"std\": 12,\n        \"min\": 52,\n        \"max\": 75,\n        \"num_unique_values\": 3,\n        \"samples\": [\n          70,\n          75,\n          52\n        ],\n        \"semantic_type\": \"\",\n        \"description\": \"\"\n      }\n    },\n    {\n      \"column\": \"Altura\",\n      \"properties\": {\n        \"dtype\": \"number\",\n        \"std\": 7,\n        \"min\": 161,\n        \"max\": 175,\n        \"num_unique_values\": 3,\n        \"samples\": [\n          172,\n          175,\n          161\n        ],\n        \"semantic_type\": \"\",\n        \"description\": \"\"\n      }\n    },\n    {\n      \"column\": \"Cabello\",\n      \"properties\": {\n        \"dtype\": \"number\",\n        \"std\": 0,\n        \"min\": 0,\n        \"max\": 1,\n        \"num_unique_values\": 2,\n        \"samples\": [\n          1,\n          0\n        ],\n        \"semantic_type\": \"\",\n        \"description\": \"\"\n      }\n    },\n    {\n      \"column\": \"Talla\",\n      \"properties\": {\n        \"dtype\": \"number\",\n        \"std\": 2,\n        \"min\": 37,\n        \"max\": 42,\n        \"num_unique_values\": 3,\n        \"samples\": [\n          42,\n          39\n        ],\n        \"semantic_type\": \"\",\n        \"description\": \"\"\n      }\n    }\n  ]\n}"
            }
          },
          "metadata": {},
          "execution_count": 158
        }
      ]
    },
    {
      "cell_type": "code",
      "source": [
        "model = jb.load(\"miPrimerMillon.joblib\")\n",
        "X_new = new_data[[ 'Edad', 'Peso', 'Altura', 'Cabello', 'Talla']]\n",
        "predictions = model.predict(X_new)\n",
        "predictions"
      ],
      "metadata": {
        "id": "Z6iyM1IEPdft",
        "outputId": "2e7e00a4-b41b-4fc5-ec8b-d6f77e2354a5",
        "colab": {
          "base_uri": "https://localhost:8080/"
        }
      },
      "execution_count": 160,
      "outputs": [
        {
          "data": {
            "text/plain": [
              "array([1, 1, 0])"
            ]
          },
          "execution_count": 160,
          "metadata": {},
          "output_type": "execute_result"
        }
      ]
    },
    {
      "cell_type": "code",
      "source": [
        "decoded_predictions = gender_encoder.inverse_transform(predictions)\n",
        "decoded_predictions"
      ],
      "metadata": {
        "id": "-BkbVRT0QCpv",
        "outputId": "847be438-24c9-4fe2-a1e2-045236034c89",
        "colab": {
          "base_uri": "https://localhost:8080/"
        }
      },
      "execution_count": 161,
      "outputs": [
        {
          "output_type": "execute_result",
          "data": {
            "text/plain": [
              "array(['M', 'M', 'F'], dtype=object)"
            ]
          },
          "metadata": {},
          "execution_count": 161
        }
      ]
    }
  ]
}